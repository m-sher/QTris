{
 "cells": [
  {
   "cell_type": "code",
   "execution_count": 1,
   "id": "797beb80-8e0a-4d07-b77f-67e60a000e8a",
   "metadata": {},
   "outputs": [],
   "source": [
    "from Player import Player\n",
    "from Trainer import Trainer\n",
    "from TetrisModel import TetrisModel\n",
    "from Pretrainer import Pretrainer\n",
    "import tensorflow as tf\n",
    "from tensorflow import keras\n",
    "import matplotlib.pyplot as plt\n",
    "import glob\n",
    "import time"
   ]
  },
  {
   "cell_type": "code",
   "execution_count": 3,
   "id": "554986f6-4cc8-4afb-8b7f-bc369441a1c6",
   "metadata": {},
   "outputs": [
    {
     "data": {
      "text/plain": [
       "<tf.Tensor: shape=(10,), dtype=int32, numpy=array([9, 8, 7, 6, 5, 4, 3, 2, 1, 0])>"
      ]
     },
     "execution_count": 3,
     "metadata": {},
     "output_type": "execute_result"
    }
   ],
   "source": [
    "tf.range(9, -1, -1)"
   ]
  },
  {
   "cell_type": "code",
   "execution_count": 2,
   "id": "b489fac7-4661-4921-bf2f-c27b77d68308",
   "metadata": {},
   "outputs": [],
   "source": [
    "piece_dim = 8\n",
    "key_dim = 12\n",
    "depth = 16\n",
    "gamma = 0.99\n",
    "lam = 0.95"
   ]
  },
  {
   "cell_type": "code",
   "execution_count": 19,
   "id": "18e02bc9-ddfa-4da9-9186-26d1a6ddbc17",
   "metadata": {},
   "outputs": [],
   "source": [
    "# Use lambda instead of gamma to immitate shape of gae without value predictions\n",
    "pretrainer = Pretrainer(gamma=lam)"
   ]
  },
  {
   "cell_type": "code",
   "execution_count": 20,
   "id": "3f55a2a7-a685-4e03-bf63-32ca62b49a84",
   "metadata": {},
   "outputs": [],
   "source": [
    "players_data = pretrainer._load_data()"
   ]
  },
  {
   "cell_type": "code",
   "execution_count": 21,
   "id": "89477f84-bf5f-4ae2-bc25-88e464c0c7a7",
   "metadata": {},
   "outputs": [
    {
     "name": "stdout",
     "output_type": "stream",
     "text": [
      "1.00"
     ]
    }
   ],
   "source": [
    "pretrainer._load_dset(players_data)"
   ]
  },
  {
   "cell_type": "code",
   "execution_count": 3,
   "id": "2bb7200b-3bd1-4c89-a760-ae040a0993f5",
   "metadata": {},
   "outputs": [],
   "source": [
    "# max_len = pretrainer._max_len\n",
    "max_len = 7"
   ]
  },
  {
   "cell_type": "code",
   "execution_count": 23,
   "id": "1c086f18-2d08-4af8-8072-06bb186463bf",
   "metadata": {},
   "outputs": [
    {
     "name": "stdout",
     "output_type": "stream",
     "text": [
      "Done Caching\n"
     ]
    }
   ],
   "source": [
    "gt_dset = pretrainer._cache_dset()"
   ]
  },
  {
   "cell_type": "code",
   "execution_count": 4,
   "id": "f98471d2-7bdc-41d1-82c1-ec09f752b5b6",
   "metadata": {},
   "outputs": [],
   "source": [
    "agent = TetrisModel(piece_dim=piece_dim,\n",
    "                    key_dim=key_dim,\n",
    "                    depth=depth,\n",
    "                    num_heads=4,\n",
    "                    num_layers=4,\n",
    "                    max_length=max_len)"
   ]
  },
  {
   "cell_type": "code",
   "execution_count": 5,
   "id": "e164709b-c4b7-4335-b3d2-c92fa2460936",
   "metadata": {},
   "outputs": [
    {
     "name": "stdout",
     "output_type": "stream",
     "text": [
      "Model: \"tetris_model\"\n",
      "_________________________________________________________________\n",
      " Layer (type)                Output Shape              Param #   \n",
      "=================================================================\n",
      " sequential (Sequential)     (1, 70, 16)               4800      \n",
      "                                                                 \n",
      " seq_embedding (SeqEmbedding  multiple                 128       \n",
      " )                                                               \n",
      "                                                                 \n",
      " seq_embedding_1 (SeqEmbeddi  multiple                 192       \n",
      " ng)                                                             \n",
      "                                                                 \n",
      " pdec_0 (DecoderLayer)       multiple                  9776      \n",
      "                                                                 \n",
      " pdec_1 (DecoderLayer)       multiple                  9776      \n",
      "                                                                 \n",
      " pdec_2 (DecoderLayer)       multiple                  9776      \n",
      "                                                                 \n",
      " pdec_3 (DecoderLayer)       multiple                  9776      \n",
      "                                                                 \n",
      " actor_dec_0 (DecoderLayer)  multiple                  9776      \n",
      "                                                                 \n",
      " actor_dec_1 (DecoderLayer)  multiple                  9776      \n",
      "                                                                 \n",
      " actor_dec_2 (DecoderLayer)  multiple                  9776      \n",
      "                                                                 \n",
      " actor_dec_3 (DecoderLayer)  multiple                  9776      \n",
      "                                                                 \n",
      " critic_dec_0 (DecoderLayer)  multiple                 9776      \n",
      "                                                                 \n",
      " critic_dec_1 (DecoderLayer)  multiple                 9776      \n",
      "                                                                 \n",
      " critic_dec_2 (DecoderLayer)  multiple                 9776      \n",
      "                                                                 \n",
      " critic_dec_3 (DecoderLayer)  multiple                 9776      \n",
      "                                                                 \n",
      " actor_top (Dense)           multiple                  204       \n",
      "                                                                 \n",
      " critic_top (Dense)          multiple                  17        \n",
      "                                                                 \n",
      "=================================================================\n",
      "Total params: 122,653\n",
      "Trainable params: 122,653\n",
      "Non-trainable params: 0\n",
      "_________________________________________________________________\n"
     ]
    },
    {
     "data": {
      "text/plain": [
       "(None,\n",
       " <tf.Tensor: shape=(3,), dtype=int32, numpy=array([ 1,  6, 12])>,\n",
       " <tf.Tensor: shape=(3,), dtype=int32, numpy=array([1, 6, 1])>)"
      ]
     },
     "execution_count": 5,
     "metadata": {},
     "output_type": "execute_result"
    }
   ],
   "source": [
    "logits, values = agent((tf.random.uniform((1, 28, 10, 1)),\n",
    "                        tf.random.uniform((1, 7), minval=0, maxval=8, dtype=tf.int32),\n",
    "                        tf.random.uniform((1, max_len-1), minval=0, maxval=key_dim, dtype=tf.int32)))\n",
    "agent.summary(), tf.shape(logits), tf.shape(values)"
   ]
  },
  {
   "cell_type": "code",
   "execution_count": 6,
   "id": "2e2ee521-f5c4-49b3-ab1f-149b3cfd23f2",
   "metadata": {},
   "outputs": [],
   "source": [
    "agent_optimizer = keras.optimizers.Adam(learning_rate=1e-6)\n",
    "agent.compile(optimizer=agent_optimizer)"
   ]
  },
  {
   "cell_type": "code",
   "execution_count": 7,
   "id": "9a581097-bad1-4da6-a805-18ef8aa6a109",
   "metadata": {},
   "outputs": [],
   "source": [
    "ref_agent = TetrisModel(piece_dim=piece_dim,\n",
    "                        key_dim=key_dim,\n",
    "                        depth=depth,\n",
    "                        num_heads=4,\n",
    "                        num_layers=4,\n",
    "                        max_length=max_len)"
   ]
  },
  {
   "cell_type": "code",
   "execution_count": 8,
   "id": "28f337c3-e3ca-4d56-88a4-37034f18287c",
   "metadata": {},
   "outputs": [],
   "source": [
    "logits, values = ref_agent((tf.random.uniform((1, 28, 10, 1)),\n",
    "                            tf.random.uniform((1, 7), minval=0, maxval=8, dtype=tf.int32),\n",
    "                            tf.random.uniform((1, max_len-1), minval=0, maxval=key_dim, dtype=tf.int32)))"
   ]
  },
  {
   "cell_type": "code",
   "execution_count": 9,
   "id": "577b693b-237f-48dc-ac8a-fd6e783ef902",
   "metadata": {},
   "outputs": [
    {
     "data": {
      "text/plain": [
       "<tensorflow.python.checkpoint.checkpoint.CheckpointLoadStatus at 0x16a436fda00>"
      ]
     },
     "execution_count": 9,
     "metadata": {},
     "output_type": "execute_result"
    }
   ],
   "source": [
    "agent.load_weights('agent_weights_small/agent_finetuned')"
   ]
  },
  {
   "cell_type": "code",
   "execution_count": 10,
   "id": "84d64bd0-cbd4-4819-b458-963a0e4b33bb",
   "metadata": {},
   "outputs": [
    {
     "data": {
      "text/plain": [
       "<tensorflow.python.checkpoint.checkpoint.CheckpointLoadStatus at 0x16dde3b6f10>"
      ]
     },
     "execution_count": 10,
     "metadata": {},
     "output_type": "execute_result"
    }
   ],
   "source": [
    "ref_agent.load_weights('agent_weights_small/agent_reference')"
   ]
  },
  {
   "cell_type": "code",
   "execution_count": 11,
   "id": "fca78dde-149a-4878-a274-0d3e48cc46ff",
   "metadata": {},
   "outputs": [],
   "source": [
    "epochs = 10"
   ]
  },
  {
   "cell_type": "code",
   "execution_count": null,
   "id": "69a201c9-b2bd-4372-8233-604acf9c2e58",
   "metadata": {},
   "outputs": [],
   "source": [
    "losses, accs = pretrainer.train(agent, gt_dset, epochs)"
   ]
  },
  {
   "cell_type": "code",
   "execution_count": null,
   "id": "3b46352d-ba40-408c-a269-e9f72a85d410",
   "metadata": {},
   "outputs": [],
   "source": [
    "plt.plot(losses)\n",
    "plt.plot(accs)"
   ]
  },
  {
   "cell_type": "code",
   "execution_count": 19,
   "id": "cac6025f-b73f-4fe5-a091-4b324afdd72b",
   "metadata": {},
   "outputs": [
    {
     "name": "stdin",
     "output_type": "stream",
     "text": [
      "YOU SURE????? y\n"
     ]
    }
   ],
   "source": [
    "if 'y' in input('YOU SURE?????'):\n",
    "    ref_agent.save_weights('agent_weights_small/agent_reference')"
   ]
  },
  {
   "cell_type": "code",
   "execution_count": 11,
   "id": "c4de19b9-6807-456e-8fae-4e7809e2c094",
   "metadata": {},
   "outputs": [],
   "source": [
    "%matplotlib qt"
   ]
  },
  {
   "cell_type": "code",
   "execution_count": 12,
   "id": "6b6063e7-6da9-4ce9-aef5-016dbd564d84",
   "metadata": {},
   "outputs": [],
   "source": [
    "optimizers = keras.optimizers.Adam(learning_rate=1e-6), keras.optimizers.Adam(learning_rate=1e-6)"
   ]
  },
  {
   "cell_type": "code",
   "execution_count": 13,
   "id": "54251d5e-959b-44d0-a390-e07bd721f3e6",
   "metadata": {},
   "outputs": [
    {
     "name": "stderr",
     "output_type": "stream",
     "text": [
      "\u001b[34m\u001b[1mwandb\u001b[0m: Using wandb-core as the SDK backend. Please refer to https://wandb.me/wandb-core for more information.\n",
      "\u001b[34m\u001b[1mwandb\u001b[0m: Currently logged in as: \u001b[33mmichaelsherrick\u001b[0m. Use \u001b[1m`wandb login --relogin`\u001b[0m to force relogin\n"
     ]
    },
    {
     "data": {
      "text/html": [
       "Tracking run with wandb version 0.18.3"
      ],
      "text/plain": [
       "<IPython.core.display.HTML object>"
      ]
     },
     "metadata": {},
     "output_type": "display_data"
    },
    {
     "data": {
      "text/html": [
       "Run data is saved locally in <code>C:\\Users\\micha\\Python Programs\\Reinforcement\\QTris\\wandb\\run-20241028_001416-rh73yppf</code>"
      ],
      "text/plain": [
       "<IPython.core.display.HTML object>"
      ]
     },
     "metadata": {},
     "output_type": "display_data"
    },
    {
     "data": {
      "text/html": [
       "Syncing run <strong><a href='https://wandb.ai/michaelsherrick/Tetris/runs/rh73yppf' target=\"_blank\">avid-tree-136</a></strong> to <a href='https://wandb.ai/michaelsherrick/Tetris' target=\"_blank\">Weights & Biases</a> (<a href='https://wandb.me/run' target=\"_blank\">docs</a>)<br/>"
      ],
      "text/plain": [
       "<IPython.core.display.HTML object>"
      ]
     },
     "metadata": {},
     "output_type": "display_data"
    },
    {
     "data": {
      "text/html": [
       " View project at <a href='https://wandb.ai/michaelsherrick/Tetris' target=\"_blank\">https://wandb.ai/michaelsherrick/Tetris</a>"
      ],
      "text/plain": [
       "<IPython.core.display.HTML object>"
      ]
     },
     "metadata": {},
     "output_type": "display_data"
    },
    {
     "data": {
      "text/html": [
       " View run at <a href='https://wandb.ai/michaelsherrick/Tetris/runs/rh73yppf' target=\"_blank\">https://wandb.ai/michaelsherrick/Tetris/runs/rh73yppf</a>"
      ],
      "text/plain": [
       "<IPython.core.display.HTML object>"
      ]
     },
     "metadata": {},
     "output_type": "display_data"
    }
   ],
   "source": [
    "trainer = Trainer(model=agent,\n",
    "                  ref_model=ref_agent,\n",
    "                  optimizers=optimizers,\n",
    "                  max_len=max_len,\n",
    "                  gamma=gamma,\n",
    "                  lam=lam,\n",
    "                  max_episode_steps=100,\n",
    "                  buffer_cap=1000)"
   ]
  },
  {
   "cell_type": "code",
   "execution_count": 14,
   "id": "de9c0d5b-64c3-45eb-bb30-aad98833f7f9",
   "metadata": {},
   "outputs": [
    {
     "name": "stdout",
     "output_type": "stream",
     "text": [
      "Done filling replay buffer\n"
     ]
    }
   ],
   "source": [
    "trainer.fill_replay_buffer()"
   ]
  },
  {
   "cell_type": "code",
   "execution_count": 15,
   "id": "39b4f4e4-2ce5-4bd4-8e9d-930426e4a60d",
   "metadata": {},
   "outputs": [
    {
     "name": "stdout",
     "output_type": "stream",
     "text": [
      "Current Gen: 1\t|\tAvg Reward: 0.0\t|\tTotal Reward: 1.9\t|\n",
      "WARNING:tensorflow:From C:\\Users\\micha\\AppData\\Roaming\\Python\\Python39\\site-packages\\tensorflow\\python\\autograph\\impl\\api.py:377: ReplayBuffer.get_next (from tf_agents.replay_buffers.replay_buffer) is deprecated and will be removed in a future version.\n",
      "Instructions for updating:\n",
      "Use `as_dataset(..., single_deterministic_pass=False) instead.\n",
      "Current Gen: 2\t|\tAvg Reward: 0.0\t|\tTotal Reward: 6.7\t|97\t|\t\n",
      "Current Gen: 3\t|\tAvg Reward: 0.0\t|\tTotal Reward: 3.0\t|36\t|\t\n",
      "Current Gen: 4\t|\tAvg Reward: 0.0\t|\tTotal Reward: 3.8\t|69\t|\t\n",
      "Current Gen: 5\t|\tAvg Reward: 0.0\t|\tTotal Reward: 0.8\t|39\t|\t\n",
      "Current Gen: 6\t|\tAvg Reward: 0.0\t|\tTotal Reward: 0.5\t|02\t|\t\n",
      "Current Gen: 7\t|\tAvg Reward: 0.0\t|\tTotal Reward: 2.6\t|95\t|\t\n",
      "Current Gen: 8\t|\tAvg Reward: 0.0\t|\tTotal Reward: 3.5\t|77\t|\t\n",
      "Current Gen: 9\t|\tAvg Reward: 0.0\t|\tTotal Reward: 1.0\t|83\t|\t\n",
      "Current Gen: 10\t|\tAvg Reward: 0.0\t|\tTotal Reward: 0.4\t|3\t|\t\n",
      "Current Gen: 11\t|\tAvg Reward: 0.0\t|\tTotal Reward: 1.3\t|0\t|\t\n",
      "Current Gen: 12\t|\tAvg Reward: 0.0\t|\tTotal Reward: 2.5\t|8\t|\t\n",
      "Current Gen: 13\t|\tAvg Reward: 0.0\t|\tTotal Reward: 2.1\t|6\t|\t\n",
      "Current Gen: 14\t|\tAvg Reward: 0.0\t|\tTotal Reward: 1.3\t|5\t|\t\n",
      "Current Gen: 15\t|\tAvg Reward: 0.0\t|\tTotal Reward: 3.9\t|1\t|\t\n",
      "Current Gen: 16\t|\tAvg Reward: 0.0\t|\tTotal Reward: 0.8\t|9\t|\t\n",
      "Current Gen: 17\t|\tAvg Reward: 0.0\t|\tTotal Reward: 6.5\t|9\t|\t\n",
      "Current Gen: 18\t|\tAvg Reward: 0.0\t|\tTotal Reward: 4.5\t|3\t|\t\n",
      "Current Gen: 19\t|\tAvg Reward: 0.0\t|\tTotal Reward: 2.6\t|7\t|\t\n",
      "Current Gen: 20\t|\tAvg Reward: 0.0\t|\tTotal Reward: 3.4\t|5\t|\t\n",
      "Current Gen: 21\t|\tAvg Reward: 0.0\t|\tTotal Reward: 1.8\t|4\t|\t\n",
      "Current Gen: 22\t|\tAvg Reward: 0.0\t|\tTotal Reward: 2.2\t|3\t|\t\n",
      "Current Gen: 23\t|\tAvg Reward: 0.0\t|\tTotal Reward: 2.4\t|0\t|\t\n",
      "Current Gen: 24\t|\tAvg Reward: 0.0\t|\tTotal Reward: 0.7\t|5\t|\t\n",
      "Current Gen: 25\t|\tAvg Reward: 0.0\t|\tTotal Reward: 0.5\t|6\t|\t\n",
      "Current Gen: 26\t|\tAvg Reward: 0.0\t|\tTotal Reward: 6.2\t|5\t|\t\n",
      "Current Gen: 27\t|\tAvg Reward: 0.0\t|\tTotal Reward: 2.8\t|6\t|\t\n",
      "Current Gen: 28\t|\tAvg Reward: 0.0\t|\tTotal Reward: 2.5\t|8\t|\t\n",
      "Current Gen: 29\t|\tAvg Reward: 0.0\t|\tTotal Reward: 2.5\t|8\t|\t\n",
      "Current Gen: 30\t|\tAvg Reward: 0.0\t|\tTotal Reward: 4.2\t|0\t|\t\n",
      "Current Gen: 31\t|\tAvg Reward: 0.0\t|\tTotal Reward: 1.0\t|2\t|\t\n",
      "Current Gen: 32\t|\tAvg Reward: 0.0\t|\tTotal Reward: 0.5\t|7\t|\t\n",
      "Current Gen: 33\t|\tAvg Reward: 0.0\t|\tTotal Reward: 2.4\t|8\t|\t\n",
      "Current Gen: 34\t|\tAvg Reward: 0.0\t|\tTotal Reward: 1.8\t|3\t|\t\n",
      "Current Gen: 35\t|\tAvg Reward: 0.0\t|\tTotal Reward: 4.0\t|1\t|\t\n",
      "Current Gen: 36\t|\tAvg Reward: 0.0\t|\tTotal Reward: 3.6\t|20\t|\t\n",
      "Current Gen: 37\t|\tAvg Reward: 0.0\t|\tTotal Reward: 2.2\t|7\t|\t\n",
      "Current Gen: 38\t|\tAvg Reward: 0.0\t|\tTotal Reward: 2.2\t|5\t|\t\n",
      "Current Gen: 39\t|\tAvg Reward: 0.0\t|\tTotal Reward: 4.7\t|6\t|\t\n",
      "Current Gen: 40\t|\tAvg Reward: 0.0\t|\tTotal Reward: 4.7\t|6\t|\t\n",
      "Current Gen: 41\t|\tAvg Reward: 0.0\t|\tTotal Reward: 3.9\t|3\t|\t\n",
      "Current Gen: 42\t|\tAvg Reward: 0.0\t|\tTotal Reward: 2.5\t|5\t|\t\n",
      "Current Gen: 43\t|\tAvg Reward: 0.0\t|\tTotal Reward: 1.0\t|1\t|\t\n",
      "Current Gen: 44\t|\tAvg Reward: 0.0\t|\tTotal Reward: 0.5\t|6\t|\t\n",
      "Current Gen: 45\t|\tAvg Reward: 0.0\t|\tTotal Reward: 1.7\t|9\t|\t\n",
      "Current Gen: 46\t|\tAvg Reward: 0.0\t|\tTotal Reward: 3.7\t|3\t|\t\n",
      "Current Gen: 47\t|\tAvg Reward: 0.0\t|\tTotal Reward: 6.0\t|6\t|\t\n",
      "Current Gen: 48\t|\tAvg Reward: 0.0\t|\tTotal Reward: 2.0\t|0\t|\t\n",
      "Current Gen: 49\t|\tAvg Reward: 0.0\t|\tTotal Reward: 1.9\t|3\t|\t\n",
      "Current Gen: 50\t|\tAvg Reward: 0.0\t|\tTotal Reward: 1.9\t|9\t|\t\n",
      "Current Gen: 51\t|\tAvg Reward: 0.0\t|\tTotal Reward: 1.5\t|5\t|\t\n",
      "Current Gen: 52\t|\tAvg Reward: 0.0\t|\tTotal Reward: 0.5\t|9\t|\t\n",
      "Current Gen: 53\t|\tAvg Reward: 0.0\t|\tTotal Reward: 3.0\t|3\t|\t\n",
      "Current Gen: 54\t|\tAvg Reward: 0.0\t|\tTotal Reward: 0.3\t|4\t|\t\n",
      "Current Gen: 55\t|\tAvg Reward: 0.0\t|\tTotal Reward: 4.2\t|8\t|\t\n",
      "Current Gen: 56\t|\tAvg Reward: 0.0\t|\tTotal Reward: 2.4\t|8\t|\t\n",
      "Current Gen: 57\t|\tAvg Reward: 0.0\t|\tTotal Reward: 3.8\t|47\t|\t\n",
      "Current Gen: 58\t|\tAvg Reward: 0.0\t|\tTotal Reward: 1.6\t|6\t|\t\n",
      "Current Gen: 59\t|\tAvg Reward: 0.0\t|\tTotal Reward: 0.8\t|0\t|\t\n",
      "Current Gen: 60\t|\tAvg Reward: 0.0\t|\tTotal Reward: 3.5\t|6\t|\t\n",
      "Current Gen: 61\t|\tAvg Reward: 0.0\t|\tTotal Reward: 2.0\t|3\t|\t\n",
      "Current Gen: 62\t|\tAvg Reward: 0.0\t|\tTotal Reward: 0.3\t|0\t|\t\n",
      "Current Gen: 63\t|\tAvg Reward: 0.0\t|\tTotal Reward: 1.2\t|3\t|\t\n",
      "Current Gen: 64\t|\tAvg Reward: 0.0\t|\tTotal Reward: 1.1\t|9\t|\t\n",
      "Current Gen: 65\t|\tAvg Reward: 0.0\t|\tTotal Reward: 0.9\t|7\t|\t\n",
      "Current Gen: 66\t|\tAvg Reward: 0.0\t|\tTotal Reward: 1.1\t|1\t|\t\n",
      "Current Gen: 67\t|\tAvg Reward: 0.0\t|\tTotal Reward: 3.7\t|9\t|\t\n",
      "Current Gen: 68\t|\tAvg Reward: 0.0\t|\tTotal Reward: 0.7\t|7\t|\t\n",
      "Current Gen: 69\t|\tAvg Reward: 0.0\t|\tTotal Reward: 4.0\t|4\t|\t\n",
      "Current Gen: 70\t|\tAvg Reward: 0.0\t|\tTotal Reward: 1.5\t|8\t|\t\n",
      "Current Gen: 71\t|\tAvg Reward: 0.0\t|\tTotal Reward: 3.5\t|6\t|\t\n",
      "Current Gen: 72\t|\tAvg Reward: 0.0\t|\tTotal Reward: 4.0\t|6\t|\t\n",
      "Current Gen: 73\t|\tAvg Reward: 0.0\t|\tTotal Reward: 2.7\t|3\t|\t\n",
      "Current Gen: 74\t|\tAvg Reward: 0.0\t|\tTotal Reward: 2.0\t|8\t|\t\n",
      "Current Gen: 75\t|\tAvg Reward: 0.0\t|\tTotal Reward: 2.1\t|7\t|\t\n",
      "Current Gen: 76\t|\tAvg Reward: 0.0\t|\tTotal Reward: 1.3\t|4\t|\t\n",
      "Current Gen: 77\t|\tAvg Reward: 0.0\t|\tTotal Reward: 5.7\t|3\t|\t\n",
      "Current Gen: 78\t|\tAvg Reward: 0.0\t|\tTotal Reward: 4.3\t|9\t|\t\n",
      "Current Gen: 79\t|\tAvg Reward: 0.0\t|\tTotal Reward: 0.5\t|4\t|\t\n",
      "Current Gen: 80\t|\tAvg Reward: 0.0\t|\tTotal Reward: 0.8\t|6\t|\t\n",
      "Current Gen: 81\t|\tAvg Reward: 0.0\t|\tTotal Reward: 2.9\t|7\t|\t\n",
      "Current Gen: 82\t|\tAvg Reward: 0.0\t|\tTotal Reward: 0.8\t|6\t|\t\n",
      "Current Gen: 83\t|\tAvg Reward: 0.0\t|\tTotal Reward: 3.3\t|4\t|\t\n",
      "Current Gen: 84\t|\tAvg Reward: 0.0\t|\tTotal Reward: 3.6\t|9\t|\t\n",
      "Current Gen: 85\t|\tAvg Reward: 0.0\t|\tTotal Reward: 2.6\t|6\t|\t\n",
      "Current Gen: 86\t|\tAvg Reward: 0.0\t|\tTotal Reward: 1.0\t|2\t|\t\n",
      "Current Gen: 87\t|\tAvg Reward: 0.0\t|\tTotal Reward: 5.5\t|2\t|\t\n",
      "Current Gen: 88\t|\tAvg Reward: 0.0\t|\tTotal Reward: 2.1\t|1\t|\t\n",
      "Current Gen: 89\t|\tAvg Reward: 0.0\t|\tTotal Reward: 4.5\t|6\t|\t\n",
      "Current Gen: 90\t|\tAvg Reward: 0.0\t|\tTotal Reward: 0.9\t|5\t|\t\n",
      "Current Gen: 91\t|\tAvg Reward: 0.0\t|\tTotal Reward: 11.0\t|\t|\t\n",
      "Current Gen: 92\t|\tAvg Reward: 0.0\t|\tTotal Reward: 1.6\t|1\t|\t\n",
      "Current Gen: 93\t|\tAvg Reward: 0.0\t|\tTotal Reward: 3.2\t|0\t|\t\n",
      "Current Gen: 94\t|\tAvg Reward: 0.0\t|\tTotal Reward: 2.9\t|4\t|\t\n",
      "Current Gen: 95\t|\tAvg Reward: 0.0\t|\tTotal Reward: 3.2\t|5\t|\t\n",
      "Current Gen: 96\t|\tAvg Reward: 0.0\t|\tTotal Reward: 3.8\t|6\t|\t\n",
      "Current Gen: 97\t|\tAvg Reward: 0.0\t|\tTotal Reward: 1.1\t|6\t|\t\n",
      "Current Gen: 98\t|\tAvg Reward: 0.0\t|\tTotal Reward: 1.2\t|1\t|\t\n",
      "Current Gen: 99\t|\tAvg Reward: 0.0\t|\tTotal Reward: 2.7\t|1\t|\t\n",
      "Current Gen: 100\t|\tAvg Reward: 0.0\t|\tTotal Reward: 0.4\t|\t|\t\n",
      "Current Gen: 101\t|\tAvg Reward: 0.0\t|\tTotal Reward: 1.7\t|\t|\t\n",
      "Current Gen: 102\t|\tAvg Reward: 0.0\t|\tTotal Reward: 2.7\t|\t|\t\n",
      "Current Gen: 103\t|\tAvg Reward: 0.0\t|\tTotal Reward: 2.6\t|\t|\t\n",
      "Current Gen: 104\t|\tAvg Reward: 0.0\t|\tTotal Reward: 2.3\t|\t|\t\n",
      "Current Gen: 105\t|\tAvg Reward: 0.0\t|\tTotal Reward: 1.7\t|\t|\t\n",
      "Current Gen: 106\t|\tAvg Reward: 0.0\t|\tTotal Reward: 2.5\t|\t|\t\n",
      "Current Gen: 107\t|\tAvg Reward: 0.0\t|\tTotal Reward: 6.2\t|\t|\t\n",
      "Current Gen: 108\t|\tAvg Reward: 0.0\t|\tTotal Reward: 0.8\t|\t|\t\n",
      "Current Gen: 109\t|\tAvg Reward: 0.0\t|\tTotal Reward: 1.1\t|\t|\t\n",
      "Current Gen: 110\t|\tAvg Reward: 0.0\t|\tTotal Reward: 6.8\t|\t|\t\n",
      "Current Gen: 111\t|\tAvg Reward: 0.0\t|\tTotal Reward: 2.9\t|\t|\t\n",
      "Current Gen: 112\t|\tAvg Reward: 0.0\t|\tTotal Reward: 0.8\t|\t|\t\n",
      "Current Gen: 113\t|\tAvg Reward: 0.0\t|\tTotal Reward: 2.3\t|\t|\t\n",
      "Current Gen: 114\t|\tAvg Reward: 0.0\t|\tTotal Reward: 0.7\t|\t|\t\n",
      "Current Gen: 115\t|\tAvg Reward: 0.0\t|\tTotal Reward: 3.3\t|\t|\t\n",
      "Current Gen: 116\t|\tAvg Reward: 0.0\t|\tTotal Reward: 5.2\t|\t|\t\n",
      "Current Gen: 117\t|\tAvg Reward: 0.0\t|\tTotal Reward: 0.8\t|\t|\t\n",
      "Current Gen: 118\t|\tAvg Reward: 0.0\t|\tTotal Reward: 1.1\t|\t|\t\n",
      "Current Gen: 119\t|\tAvg Reward: 0.0\t|\tTotal Reward: 1.6\t|\t|\t\n",
      "Current Gen: 120\t|\tAvg Reward: 0.0\t|\tTotal Reward: 0.4\t|\t|\t\n",
      "Current Gen: 121\t|\tAvg Reward: 0.0\t|\tTotal Reward: 0.8\t|\t|\t\n",
      "Current Gen: 122\t|\tAvg Reward: 0.0\t|\tTotal Reward: 5.5\t|\t|\t\n",
      "Current Gen: 123\t|\tAvg Reward: 0.0\t|\tTotal Reward: 4.0\t|\t|\t\n",
      "Current Gen: 124\t|\tAvg Reward: 0.0\t|\tTotal Reward: 8.0\t|\t|\t\n",
      "Current Gen: 125\t|\tAvg Reward: 0.0\t|\tTotal Reward: 0.4\t|\t|\t\n",
      "Current Gen: 126\t|\tAvg Reward: 0.0\t|\tTotal Reward: 3.0\t|\t|\t\n",
      "Current Gen: 127\t|\tAvg Reward: 0.0\t|\tTotal Reward: 2.0\t|\t|\t\n",
      "Current Gen: 128\t|\tAvg Reward: 0.0\t|\tTotal Reward: 3.0\t|\t|\t\n",
      "Current Gen: 129\t|\tAvg Reward: 0.0\t|\tTotal Reward: 2.1\t|\t|\t\n",
      "Current Gen: 130\t|\tAvg Reward: 0.0\t|\tTotal Reward: 2.6\t|\t|\t\n",
      "Current Gen: 131\t|\tAvg Reward: 0.0\t|\tTotal Reward: 0.6\t|\t|\t\n",
      "Current Gen: 132\t|\tAvg Reward: 0.0\t|\tTotal Reward: 2.1\t|\t|\t\n",
      "Current Gen: 133\t|\tAvg Reward: 0.0\t|\tTotal Reward: 2.2\t|\t|\t\n",
      "Current Gen: 134\t|\tAvg Reward: 0.0\t|\tTotal Reward: 1.7\t|\t|\t\n",
      "Current Gen: 135\t|\tAvg Reward: 0.0\t|\tTotal Reward: 3.1\t|\t|\t\n",
      "Current Gen: 136\t|\tAvg Reward: 0.0\t|\tTotal Reward: 1.5\t|\t|\t\n",
      "Current Gen: 137\t|\tAvg Reward: 0.0\t|\tTotal Reward: 0.7\t|\t|\t\n",
      "Current Gen: 138\t|\tAvg Reward: 0.0\t|\tTotal Reward: 2.2\t|\t|\t\n",
      "Current Gen: 139\t|\tAvg Reward: 0.0\t|\tTotal Reward: 1.3\t|\t|\t\n",
      "Current Gen: 140\t|\tAvg Reward: 0.0\t|\tTotal Reward: 0.4\t|\t|\t\n",
      "Current Gen: 141\t|\tAvg Reward: 0.0\t|\tTotal Reward: 4.5\t|\t|\t\n",
      "Current Gen: 142\t|\tAvg Reward: 0.0\t|\tTotal Reward: 8.2\t|\t|\t\n",
      "Current Gen: 143\t|\tAvg Reward: 0.0\t|\tTotal Reward: 3.1\t|\t|\t\n",
      "Current Gen: 144\t|\tAvg Reward: 0.0\t|\tTotal Reward: 0.9\t|\t|\t\n",
      "Current Gen: 145\t|\tAvg Reward: 0.0\t|\tTotal Reward: 1.0\t|\t|\t\n",
      "Current Gen: 146\t|\tAvg Reward: 0.0\t|\tTotal Reward: 5.2\t|\t|\t\n",
      "Current Gen: 147\t|\tAvg Reward: 0.0\t|\tTotal Reward: 1.9\t|\t|\t\n",
      "Current Gen: 148\t|\tAvg Reward: 0.0\t|\tTotal Reward: 3.2\t|\t|\t\n",
      "Current Gen: 149\t|\tAvg Reward: 0.0\t|\tTotal Reward: 0.4\t|\t|\t\n",
      "Current Gen: 150\t|\tAvg Reward: 0.0\t|\tTotal Reward: 2.6\t|\t|\t\n",
      "Current Gen: 151\t|\tAvg Reward: 0.0\t|\tTotal Reward: 4.0\t|\t|\t\n",
      "Current Gen: 152\t|\tAvg Reward: 0.0\t|\tTotal Reward: 2.4\t|\t|\t\n",
      "Current Gen: 153\t|\tAvg Reward: 0.0\t|\tTotal Reward: 2.0\t|\t|\t\n",
      "Current Gen: 154\t|\tAvg Reward: 0.0\t|\tTotal Reward: 1.2\t|\t|\t\n",
      "Current Gen: 155\t|\tAvg Reward: 0.0\t|\tTotal Reward: 0.8\t|\t|\t\n",
      "Current Gen: 156\t|\tAvg Reward: 0.0\t|\tTotal Reward: 3.8\t|\t|\t\n",
      "Current Gen: 157\t|\tAvg Reward: 0.0\t|\tTotal Reward: 4.2\t|\t|\t\n",
      "Current Gen: 158\t|\tAvg Reward: 0.0\t|\tTotal Reward: 1.9\t|\t|\t\n",
      "Current Gen: 159\t|\tAvg Reward: 0.0\t|\tTotal Reward: 3.2\t|\t|\t\n",
      "Current Gen: 160\t|\tAvg Reward: 0.0\t|\tTotal Reward: 0.7\t|\t|\t\n",
      "Current Gen: 161\t|\tAvg Reward: 0.0\t|\tTotal Reward: 1.6\t|\t|\t\n",
      "Current Gen: 162\t|\tAvg Reward: 0.0\t|\tTotal Reward: 4.7\t|\t|\t\n",
      "Current Gen: 163\t|\tAvg Reward: 0.0\t|\tTotal Reward: 4.0\t|\t|\t\n",
      "Current Gen: 164\t|\tAvg Reward: 0.0\t|\tTotal Reward: 1.2\t|\t|\t\n",
      "Current Gen: 165\t|\tAvg Reward: 0.0\t|\tTotal Reward: 3.2\t|\t|\t\n",
      "Current Gen: 166\t|\tAvg Reward: 0.0\t|\tTotal Reward: 0.7\t|\t|\t\n",
      "Current Gen: 167\t|\tAvg Reward: 0.0\t|\tTotal Reward: 1.0\t|\t|\t\n",
      "Current Gen: 168\t|\tAvg Reward: 0.0\t|\tTotal Reward: 4.4\t|\t|\t\n",
      "Current Gen: 169\t|\tAvg Reward: 0.0\t|\tTotal Reward: 2.0\t|\t|\t\n",
      "Current Gen: 170\t|\tAvg Reward: 0.0\t|\tTotal Reward: 4.1\t|\t|\t\n",
      "Current Gen: 171\t|\tAvg Reward: 0.0\t|\tTotal Reward: 4.9\t|\t|\t\n",
      "Current Gen: 172\t|\tAvg Reward: 0.0\t|\tTotal Reward: 0.4\t|1\t|\t\n",
      "Current Gen: 173\t|\tAvg Reward: 0.0\t|\tTotal Reward: 5.5\t|\t|\t\n",
      "Current Gen: 174\t|\tAvg Reward: 0.0\t|\tTotal Reward: 2.5\t|\t|\t\n",
      "Current Gen: 175\t|\tAvg Reward: 0.0\t|\tTotal Reward: 3.7\t|\t|\t\n",
      "Current Gen: 176\t|\tAvg Reward: 0.0\t|\tTotal Reward: 2.1\t|\t|\t\n",
      "Current Gen: 177\t|\tAvg Reward: 0.0\t|\tTotal Reward: 3.2\t|\t|\t\n",
      "Current Gen: 178\t|\tAvg Reward: 0.0\t|\tTotal Reward: 4.0\t|\t|\t\n",
      "Current Gen: 179\t|\tAvg Reward: 0.0\t|\tTotal Reward: 3.2\t|\t|\t\n",
      "Current Gen: 180\t|\tAvg Reward: 0.0\t|\tTotal Reward: 1.9\t|\t|\t\n",
      "Current Gen: 181\t|\tAvg Reward: 0.0\t|\tTotal Reward: 0.8\t|\t|\t\n",
      "Current Gen: 182\t|\tAvg Reward: 0.0\t|\tTotal Reward: 0.4\t|\t|\t\n",
      "Current Gen: 183\t|\tAvg Reward: 0.0\t|\tTotal Reward: 2.5\t|\t|\t\n",
      "Current Gen: 184\t|\tAvg Reward: 0.0\t|\tTotal Reward: 5.0\t|\t|\t\n",
      "Current Gen: 185\t|\tAvg Reward: 0.0\t|\tTotal Reward: 0.8\t|\t|\t\n",
      "Current Gen: 186\t|\tAvg Reward: 0.0\t|\tTotal Reward: 0.8\t|\t|\t\n",
      "Current Gen: 187\t|\tAvg Reward: 0.0\t|\tTotal Reward: 2.9\t|\t|\t\n",
      "Current Gen: 188\t|\tAvg Reward: 0.0\t|\tTotal Reward: 3.0\t|\t|\t\n",
      "Current Gen: 189\t|\tAvg Reward: 0.0\t|\tTotal Reward: 0.5\t|\t|\t\n",
      "Current Gen: 190\t|\tAvg Reward: 0.0\t|\tTotal Reward: 1.4\t|\t|\t\n",
      "Current Gen: 191\t|\tAvg Reward: 0.0\t|\tTotal Reward: 0.6\t|\t|\t\n",
      "Current Gen: 192\t|\tAvg Reward: 0.0\t|\tTotal Reward: 2.0\t|\t|\t\n",
      "Current Gen: 193\t|\tAvg Reward: 0.0\t|\tTotal Reward: 4.5\t|\t|\t\n",
      "Current Gen: 194\t|\tAvg Reward: 0.0\t|\tTotal Reward: 1.5\t|\t|\t\n",
      "Current Gen: 195\t|\tAvg Reward: 0.0\t|\tTotal Reward: 1.3\t|\t|\t\n",
      "Current Gen: 196\t|\tAvg Reward: 0.0\t|\tTotal Reward: 3.5\t|\t|\t\n",
      "Current Gen: 197\t|\tAvg Reward: 0.0\t|\tTotal Reward: 1.4\t|\t|\t\n",
      "Current Gen: 198\t|\tAvg Reward: 0.0\t|\tTotal Reward: 4.2\t|\t|\t\n",
      "Current Gen: 199\t|\tAvg Reward: 0.1\t|\tTotal Reward: 11.8\t||\t\n",
      "Current Gen: 200\t|\tAvg Reward: 0.0\t|\tTotal Reward: 0.4\t|\t|\t\n",
      "Current Gen: 201\t|\tAvg Reward: 0.0\t|\tTotal Reward: 1.7\t|\t|\t\n",
      "Current Gen: 202\t|\tAvg Reward: 0.0\t|\tTotal Reward: 0.5\t|\t|\t\n",
      "Current Gen: 203\t|\tAvg Reward: 0.0\t|\tTotal Reward: 3.3\t|\t|\t\n",
      "Current Gen: 204\t|\tAvg Reward: 0.0\t|\tTotal Reward: 1.2\t|\t|\t\n",
      "Current Gen: 205\t|\tAvg Reward: 0.0\t|\tTotal Reward: 1.8\t|\t|\t\n",
      "Current Gen: 206\t|\tAvg Reward: 0.0\t|\tTotal Reward: 1.1\t|\t|\t\n",
      "Current Gen: 207\t|\tAvg Reward: 0.0\t|\tTotal Reward: 1.1\t|\t|\t\n",
      "Current Gen: 208\t|\tAvg Reward: 0.0\t|\tTotal Reward: 2.7\t|\t|\t\n",
      "Current Gen: 209\t|\tAvg Reward: 0.0\t|\tTotal Reward: 2.7\t|\t|\t\n",
      "Current Gen: 210\t|\tAvg Reward: 0.0\t|\tTotal Reward: 1.0\t|\t|\t\n",
      "Current Gen: 211\t|\tAvg Reward: 0.0\t|\tTotal Reward: 0.8\t|\t|\t\n",
      "Current Gen: 212\t|\tAvg Reward: 0.0\t|\tTotal Reward: 3.6\t|\t|\t\n",
      "Current Gen: 213\t|\tAvg Reward: 0.0\t|\tTotal Reward: 5.5\t|\t|\t\n",
      "Current Gen: 214\t|\tAvg Reward: 0.0\t|\tTotal Reward: 2.1\t|\t|\t\n",
      "Current Gen: 215\t|\tAvg Reward: 0.0\t|\tTotal Reward: 2.6\t|\t|\t\n",
      "Current Gen: 216\t|\tAvg Reward: 0.0\t|\tTotal Reward: 3.7\t|\t|\t\n",
      "Current Gen: 217\t|\tAvg Reward: 0.0\t|\tTotal Reward: 4.4\t|\t|\t\n",
      "Current Gen: 218\t|\tAvg Reward: 0.0\t|\tTotal Reward: 2.2\t|\t|\t\n",
      "Current Gen: 219\t|\tAvg Reward: 0.0\t|\tTotal Reward: 3.2\t|\t|\t\n",
      "Current Gen: 220\t|\tAvg Reward: 0.0\t|\tTotal Reward: 0.7\t|\t|\t\n",
      "Current Gen: 221\t|\tAvg Reward: 0.0\t|\tTotal Reward: 1.7\t|\t|\t\n",
      "Current Gen: 222\t|\tAvg Reward: 0.0\t|\tTotal Reward: 4.6\t|\t|\t\n",
      "Current Gen: 223\t|\tAvg Reward: 0.0\t|\tTotal Reward: 3.3\t|\t|\t\n",
      "Current Gen: 224\t|\tAvg Reward: 0.0\t|\tTotal Reward: 2.4\t|\t|\t\n",
      "Current Gen: 225\t|\tAvg Reward: 0.0\t|\tTotal Reward: 1.5\t|\t|\t\n",
      "Current Gen: 226\t|\tAvg Reward: 0.0\t|\tTotal Reward: 1.7\t|\t|\t\n",
      "Current Gen: 227\t|\tAvg Reward: 0.0\t|\tTotal Reward: 2.4\t|\t|\t\n",
      "Current Gen: 228\t|\tAvg Reward: 0.0\t|\tTotal Reward: 3.3\t|\t|\t\n",
      "Current Gen: 229\t|\tAvg Reward: 0.0\t|\tTotal Reward: 4.4\t|\t|\t\n",
      "Current Gen: 230\t|\tAvg Reward: 0.0\t|\tTotal Reward: 3.7\t|\t|\t\n",
      "Current Gen: 231\t|\tAvg Reward: 0.0\t|\tTotal Reward: 5.5\t|\t|\t\n",
      "Current Gen: 232\t|\tAvg Reward: 0.0\t|\tTotal Reward: 2.3\t|\t|\t\n",
      "Current Gen: 233\t|\tAvg Reward: 0.0\t|\tTotal Reward: 1.8\t|\t|\t\n",
      "Current Gen: 234\t|\tAvg Reward: 0.0\t|\tTotal Reward: 1.9\t|\t|\t\n",
      "Current Gen: 235\t|\tAvg Reward: 0.0\t|\tTotal Reward: 1.8\t|\t|\t\n",
      "Current Gen: 236\t|\tAvg Reward: 0.0\t|\tTotal Reward: 4.0\t|\t|\t\n",
      "Current Gen: 237\t|\tAvg Reward: 0.0\t|\tTotal Reward: 2.2\t|\t|\t\n",
      "Current Gen: 238\t|\tAvg Reward: 0.0\t|\tTotal Reward: 5.0\t|\t|\t\n",
      "Current Gen: 239\t|\tAvg Reward: 0.0\t|\tTotal Reward: 0.4\t|\t|\t\n",
      "Current Gen: 240\t|\tAvg Reward: 0.0\t|\tTotal Reward: 2.0\t|\t|\t\n",
      "Current Gen: 241\t|\tAvg Reward: 0.0\t|\tTotal Reward: 1.7\t|\t|\t\n",
      "Current Gen: 242\t|\tAvg Reward: 0.0\t|\tTotal Reward: 0.7\t|\t|\t\n",
      "Current Gen: 243\t|\tAvg Reward: 0.0\t|\tTotal Reward: 0.4\t|\t|\t\n",
      "Current Gen: 244\t|\tAvg Reward: 0.0\t|\tTotal Reward: 4.5\t|\t|\t\n",
      "Current Gen: 245\t|\tAvg Reward: 0.0\t|\tTotal Reward: 5.2\t|\t|\t\n",
      "Current Gen: 246\t|\tAvg Reward: 0.0\t|\tTotal Reward: 0.8\t|\t|\t\n",
      "Current Gen: 247\t|\tAvg Reward: 0.0\t|\tTotal Reward: 6.2\t|\t|\t\n",
      "Current Gen: 248\t|\tAvg Reward: 0.0\t|\tTotal Reward: 7.2\t|\t|\t\n",
      "Current Gen: 249\t|\tAvg Reward: 0.0\t|\tTotal Reward: 2.0\t|\t|\t\n",
      "Current Gen: 250\t|\tAvg Reward: 0.0\t|\tTotal Reward: 1.1\t|\t|\t\n",
      "Current Gen: 251\t|\tAvg Reward: 0.0\t|\tTotal Reward: 2.6\t|\t|\t\n",
      "Current Gen: 252\t|\tAvg Reward: 0.0\t|\tTotal Reward: 4.0\t|\t|\t\n",
      "Current Gen: 253\t|\tAvg Reward: 0.0\t|\tTotal Reward: 3.5\t|\t|\t\n",
      "Current Gen: 254\t|\tAvg Reward: 0.0\t|\tTotal Reward: 1.5\t|\t|\t\n",
      "Current Gen: 255\t|\tAvg Reward: 0.0\t|\tTotal Reward: 0.8\t|\t|\t\n",
      "Current Gen: 256\t|\tAvg Reward: 0.0\t|\tTotal Reward: 3.5\t|\t|\t\n",
      "Current Gen: 257\t|\tAvg Reward: 0.0\t|\tTotal Reward: 1.4\t|\t|\t\n",
      "Current Gen: 258\t|\tAvg Reward: 0.0\t|\tTotal Reward: 1.7\t|\t|\t\n",
      "Current Gen: 259\t|\tAvg Reward: 0.0\t|\tTotal Reward: 1.6\t|\t|\t\n",
      "Current Gen: 260\t|\tAvg Reward: 0.0\t|\tTotal Reward: 0.8\t|\t|\t\n",
      "Current Gen: 261\t|\tAvg Reward: 0.0\t|\tTotal Reward: 3.7\t|\t|\t\n",
      "Current Gen: 262\t|\tAvg Reward: 0.0\t|\tTotal Reward: 1.4\t|\t|\t\n",
      "Current Gen: 263\t|\tAvg Reward: 0.0\t|\tTotal Reward: 2.1\t|\t|\t\n",
      "Current Gen: 264\t|\tAvg Reward: 0.0\t|\tTotal Reward: 1.1\t|\t|\t\n",
      "Current Gen: 265\t|\tAvg Reward: 0.0\t|\tTotal Reward: 2.8\t|\t|\t\n",
      "Current Gen: 266\t|\tAvg Reward: 0.0\t|\tTotal Reward: 0.8\t|\t|\t\n",
      "Current Gen: 267\t|\tAvg Reward: 0.0\t|\tTotal Reward: 0.8\t|\t|\t\n",
      "Current Gen: 268\t|\tAvg Reward: 0.0\t|\tTotal Reward: 1.2\t|\t|\t\n",
      "Current Gen: 269\t|\tAvg Reward: 0.0\t|\tTotal Reward: 1.6\t|\t|\t\n",
      "Current Gen: 270\t|\tAvg Reward: 0.0\t|\tTotal Reward: 1.1\t|\t|\t\n",
      "Current Gen: 271\t|\tAvg Reward: 0.0\t|\tTotal Reward: 0.7\t|\t|\t\n",
      "Current Gen: 272\t|\tAvg Reward: 0.0\t|\tTotal Reward: 1.3\t|\t|\t\n",
      "Current Gen: 273\t|\tAvg Reward: 0.0\t|\tTotal Reward: 2.2\t|\t|\t\n",
      "Current Gen: 274\t|\tAvg Reward: 0.0\t|\tTotal Reward: 4.7\t|\t|\t\n",
      "Current Gen: 275\t|\tAvg Reward: 0.0\t|\tTotal Reward: 1.0\t|\t|\t\n",
      "Current Gen: 276\t|\tAvg Reward: 0.0\t|\tTotal Reward: 3.0\t|2\t|\t\n",
      "Current Gen: 277\t|\tAvg Reward: 0.0\t|\tTotal Reward: 7.0\t|\t|\t\n",
      "Current Gen: 278\t|\tAvg Reward: 0.0\t|\tTotal Reward: 0.5\t|\t|\t\n",
      "Current Gen: 279\t|\tAvg Reward: 0.0\t|\tTotal Reward: 0.8\t|\t|\t\n",
      "Current Gen: 280\t|\tAvg Reward: 0.0\t|\tTotal Reward: 3.4\t|\t|\t\n",
      "Current Gen: 281\t|\tAvg Reward: 0.0\t|\tTotal Reward: 1.1\t|\t|\t\n",
      "Current Gen: 282\t|\tAvg Reward: 0.0\t|\tTotal Reward: 2.1\t|\t|\t\n",
      "Current Gen: 283\t|\tAvg Reward: 0.0\t|\tTotal Reward: 4.5\t|\t|\t\n",
      "Current Gen: 284\t|\tAvg Reward: 0.0\t|\tTotal Reward: 1.6\t|\t|\t\n",
      "Current Gen: 285\t|\tAvg Reward: 0.0\t|\tTotal Reward: 1.7\t|\t|\t\n",
      "Current Gen: 286\t|\tAvg Reward: 0.0\t|\tTotal Reward: 5.7\t|\t|\t\n",
      "Current Gen: 287\t|\tAvg Reward: 0.0\t|\tTotal Reward: 1.1\t|\t|\t\n",
      "Current Gen: 288\t|\tAvg Reward: 0.0\t|\tTotal Reward: 5.0\t|\t|\t\n",
      "Current Gen: 289\t|\tAvg Reward: 0.0\t|\tTotal Reward: 0.5\t|\t|\t\n",
      "Current Gen: 290\t|\tAvg Reward: 0.0\t|\tTotal Reward: 3.7\t|\t|\t\n",
      "Current Gen: 291\t|\tAvg Reward: 0.0\t|\tTotal Reward: 0.4\t|\t|\t\n",
      "Current Gen: 292\t|\tAvg Reward: 0.0\t|\tTotal Reward: 3.1\t|\t|\t\n",
      "Current Gen: 293\t|\tAvg Reward: 0.0\t|\tTotal Reward: 2.5\t|\t|\t\n",
      "Current Gen: 294\t|\tAvg Reward: 0.0\t|\tTotal Reward: 2.4\t|\t|\t\n",
      "Current Gen: 295\t|\tAvg Reward: 0.0\t|\tTotal Reward: 1.1\t|\t|\t\n",
      "Current Gen: 296\t|\tAvg Reward: 0.0\t|\tTotal Reward: 2.0\t|\t|\t\n",
      "Current Gen: 297\t|\tAvg Reward: 0.0\t|\tTotal Reward: 0.6\t|\t|\t\n",
      "Current Gen: 298\t|\tAvg Reward: 0.0\t|\tTotal Reward: 4.6\t|\t|\t\n",
      "Current Gen: 299\t|\tAvg Reward: 0.0\t|\tTotal Reward: 0.4\t|\t|\t\n",
      "Current Gen: 300\t|\tAvg Reward: 0.0\t|\tTotal Reward: 4.2\t|\t|\t\n",
      "Current Gen: 301\t|\tAvg Reward: 0.0\t|\tTotal Reward: 1.0\t|\t|\t\n",
      "Current Gen: 302\t|\tAvg Reward: 0.0\t|\tTotal Reward: 0.6\t|\t|\t\n",
      "Current Gen: 303\t|\tAvg Reward: 0.0\t|\tTotal Reward: 1.2\t|\t|\t\n",
      "Current Gen: 304\t|\tAvg Reward: 0.0\t|\tTotal Reward: 0.4\t|\t|\t\n",
      "Current Gen: 305\t|\tAvg Reward: 0.0\t|\tTotal Reward: 1.1\t|\t|\t\n",
      "Current Gen: 306\t|\tAvg Reward: 0.0\t|\tTotal Reward: 1.1\t|\t|\t\n",
      "Current Gen: 307\t|\tAvg Reward: 0.0\t|\tTotal Reward: 4.0\t|\t|\t\n",
      "Current Gen: 308\t|\tAvg Reward: 0.0\t|\tTotal Reward: 4.0\t|\t|\t\n",
      "Current Gen: 309\t|\tAvg Reward: 0.0\t|\tTotal Reward: 3.7\t|\t|\t\n",
      "Current Gen: 310\t|\tAvg Reward: 0.0\t|\tTotal Reward: 1.3\t|\t|\t\n",
      "Current Gen: 311\t|\tAvg Reward: 0.0\t|\tTotal Reward: 2.7\t|\t|\t\n",
      "Current Gen: 312\t|\tAvg Reward: 0.0\t|\tTotal Reward: 1.5\t|\t|\t\n",
      "Current Gen: 313\t|\tAvg Reward: 0.0\t|\tTotal Reward: 1.5\t|\t|\t\n",
      "Current Gen: 314\t|\tAvg Reward: 0.0\t|\tTotal Reward: 0.5\t|\t|\t\n",
      "Current Gen: 315\t|\tAvg Reward: 0.0\t|\tTotal Reward: 4.7\t|\t|\t\n",
      "Current Gen: 316\t|\tAvg Reward: 0.0\t|\tTotal Reward: 4.3\t|\t|\t\n",
      "Current Gen: 317\t|\tAvg Reward: 0.0\t|\tTotal Reward: 2.6\t|\t|\t\n",
      "Current Gen: 318\t|\tAvg Reward: 0.0\t|\tTotal Reward: 1.6\t|\t|\t\n",
      "Current Gen: 319\t|\tAvg Reward: 0.0\t|\tTotal Reward: 4.0\t|\t|\t\n",
      "Current Gen: 320\t|\tAvg Reward: 0.0\t|\tTotal Reward: 4.2\t|\t|\t\n",
      "Current Gen: 321\t|\tAvg Reward: 0.0\t|\tTotal Reward: 5.2\t|\t|\t\n",
      "Current Gen: 322\t|\tAvg Reward: 0.0\t|\tTotal Reward: 0.4\t|\t|\t\n",
      "Current Gen: 323\t|\tAvg Reward: 0.0\t|\tTotal Reward: 2.2\t|\t|\t\n",
      "Current Gen: 324\t|\tAvg Reward: 0.0\t|\tTotal Reward: 4.8\t|\t|\t\n",
      "Current Gen: 325\t|\tAvg Reward: 0.0\t|\tTotal Reward: 0.7\t|\t|\t\n",
      "Current Gen: 326\t|\tAvg Reward: 0.0\t|\tTotal Reward: 0.7\t|\t|\t\n",
      "Current Gen: 327\t|\tAvg Reward: 0.0\t|\tTotal Reward: 2.8\t|\t|\t\n",
      "Current Gen: 328\t|\tAvg Reward: 0.0\t|\tTotal Reward: 4.0\t|\t|\t\n",
      "Current Gen: 329\t|\tAvg Reward: 0.0\t|\tTotal Reward: 3.8\t|\t|\t\n",
      "Current Gen: 330\t|\tAvg Reward: 0.0\t|\tTotal Reward: 4.0\t|\t|\t\n",
      "Current Gen: 331\t|\tAvg Reward: 0.0\t|\tTotal Reward: 2.1\t|\t|\t\n",
      "Current Gen: 332\t|\tAvg Reward: 0.0\t|\tTotal Reward: 0.5\t|\t|\t\n",
      "Current Gen: 333\t|\tAvg Reward: 0.0\t|\tTotal Reward: 5.0\t|\t|\t\n",
      "Current Gen: 334\t|\tAvg Reward: 0.0\t|\tTotal Reward: 4.2\t|\t|\t\n",
      "Current Gen: 335\t|\tAvg Reward: 0.0\t|\tTotal Reward: 2.3\t|\t|\t\n",
      "Current Gen: 336\t|\tAvg Reward: 0.0\t|\tTotal Reward: 4.3\t|\t|\t\n",
      "Current Gen: 337\t|\tAvg Reward: 0.0\t|\tTotal Reward: 4.8\t|\t|\t\n",
      "Current Gen: 338\t|\tAvg Reward: 0.0\t|\tTotal Reward: 3.4\t|7\t|\t\n",
      "Current Gen: 339\t|\tAvg Reward: 0.0\t|\tTotal Reward: 3.7\t|\t|\t\n",
      "Current Gen: 340\t|\tAvg Reward: 0.0\t|\tTotal Reward: 4.4\t|\t|\t\n",
      "Current Gen: 341\t|\tAvg Reward: 0.0\t|\tTotal Reward: 0.3\t|\t|\t\n",
      "Current Gen: 342\t|\tAvg Reward: 0.0\t|\tTotal Reward: 0.8\t|\t|\t\n",
      "Current Gen: 343\t|\tAvg Reward: 0.0\t|\tTotal Reward: 0.7\t|\t|\t\n",
      "Current Gen: 344\t|\tAvg Reward: 0.0\t|\tTotal Reward: 1.0\t|\t|\t\n",
      "Current Gen: 345\t|\tAvg Reward: 0.0\t|\tTotal Reward: 1.5\t|\t|\t\n",
      "Current Gen: 346\t|\tAvg Reward: 0.0\t|\tTotal Reward: 2.0\t|\t|\t\n",
      "Current Gen: 347\t|\tAvg Reward: 0.0\t|\tTotal Reward: 1.2\t|\t|\t\n",
      "Current Gen: 348\t|\tAvg Reward: 0.0\t|\tTotal Reward: 1.0\t|5\t|\t\n",
      "Current Gen: 349\t|\tAvg Reward: 0.0\t|\tTotal Reward: 2.1\t|\t|\t\n",
      "Current Gen: 350\t|\tAvg Reward: 0.0\t|\tTotal Reward: 2.2\t|\t|\t\n",
      "Current Gen: 351\t|\tAvg Reward: 0.0\t|\tTotal Reward: 1.7\t|\t|\t\n",
      "Current Gen: 352\t|\tAvg Reward: 0.0\t|\tTotal Reward: 2.3\t|\t|\t\n",
      "Current Gen: 353\t|\tAvg Reward: 0.0\t|\tTotal Reward: 0.8\t|\t|\t\n",
      "Current Gen: 354\t|\tAvg Reward: 0.0\t|\tTotal Reward: 2.5\t|\t|\t\n",
      "Current Gen: 355\t|\tAvg Reward: 0.0\t|\tTotal Reward: 2.7\t|\t|\t\n",
      "Current Gen: 356\t|\tAvg Reward: 0.0\t|\tTotal Reward: 3.0\t|\t|\t\n",
      "Current Gen: 357\t|\tAvg Reward: 0.0\t|\tTotal Reward: 5.5\t|\t|\t\n",
      "Current Gen: 358\t|\tAvg Reward: 0.0\t|\tTotal Reward: 0.3\t|\t|\t\n",
      "Current Gen: 359\t|\tAvg Reward: 0.0\t|\tTotal Reward: 2.9\t|\t|\t\n",
      "Current Gen: 360\t|\tAvg Reward: 0.0\t|\tTotal Reward: 7.0\t|\t|\t\n",
      "Current Gen: 361\t|\tAvg Reward: 0.0\t|\tTotal Reward: 3.4\t|\t|\t\n",
      "Current Gen: 362\t|\tAvg Reward: 0.0\t|\tTotal Reward: 1.9\t|\t|\t\n",
      "Current Gen: 363\t|\tAvg Reward: 0.0\t|\tTotal Reward: 2.5\t|\t|\t\n",
      "Current Gen: 364\t|\tAvg Reward: 0.0\t|\tTotal Reward: 1.5\t|\t|\t\n",
      "Current Gen: 365\t|\tAvg Reward: 0.0\t|\tTotal Reward: 6.7\t|\t|\t\n",
      "Current Gen: 366\t|\tAvg Reward: 0.0\t|\tTotal Reward: 1.6\t|\t|\t\n",
      "Current Gen: 367\t|\tAvg Reward: 0.0\t|\tTotal Reward: 2.2\t|\t|\t\n",
      "Current Gen: 368\t|\tAvg Reward: 0.0\t|\tTotal Reward: 5.5\t|\t|\t\n",
      "Current Gen: 369\t|\tAvg Reward: 0.0\t|\tTotal Reward: 2.2\t|\t|\t\n",
      "Current Gen: 370\t|\tAvg Reward: 0.0\t|\tTotal Reward: 6.7\t|\t|\t\n",
      "Current Gen: 371\t|\tAvg Reward: 0.0\t|\tTotal Reward: 2.6\t|\t|\t\n",
      "Current Gen: 372\t|\tAvg Reward: 0.0\t|\tTotal Reward: 5.2\t|\t|\t\n",
      "Current Gen: 373\t|\tAvg Reward: 0.0\t|\tTotal Reward: 6.2\t|\t|\t\n",
      "Current Gen: 374\t|\tAvg Reward: 0.0\t|\tTotal Reward: 1.3\t|\t|\t\n",
      "Current Gen: 375\t|\tAvg Reward: 0.0\t|\tTotal Reward: 1.2\t|\t|\t\n",
      "Current Gen: 376\t|\tAvg Reward: 0.0\t|\tTotal Reward: 0.3\t|\t|\t\n",
      "Current Gen: 377\t|\tAvg Reward: 0.0\t|\tTotal Reward: 0.6\t|\t|\t\n",
      "Current Gen: 378\t|\tAvg Reward: 0.0\t|\tTotal Reward: 2.3\t|\t|\t\n",
      "Current Gen: 379\t|\tAvg Reward: 0.0\t|\tTotal Reward: 1.4\t|\t|\t\n",
      "Current Gen: 380\t|\tAvg Reward: 0.0\t|\tTotal Reward: 1.0\t|\t|\t\n",
      "Current Gen: 381\t|\tAvg Reward: 0.0\t|\tTotal Reward: 2.8\t|\t|\t\n",
      "Current Gen: 382\t|\tAvg Reward: 0.0\t|\tTotal Reward: 0.4\t|\t|\t\n",
      "Current Gen: 383\t|\tAvg Reward: 0.0\t|\tTotal Reward: 0.5\t|\t|\t\n",
      "Current Gen: 384\t|\tAvg Reward: 0.0\t|\tTotal Reward: 0.8\t|\t|\t\n",
      "Current Gen: 385\t|\tAvg Reward: 0.0\t|\tTotal Reward: 1.8\t|\t|\t\n",
      "Current Gen: 386\t|\tAvg Reward: 0.0\t|\tTotal Reward: 5.8\t|\t|\t\n",
      "Current Gen: 387\t|\tAvg Reward: 0.0\t|\tTotal Reward: 1.1\t|\t|\t\n",
      "Current Gen: 388\t|\tAvg Reward: 0.0\t|\tTotal Reward: 4.0\t|\t|\t\n",
      "Current Gen: 389\t|\tAvg Reward: 0.0\t|\tTotal Reward: 1.1\t|\t|\t\n",
      "Current Gen: 390\t|\tAvg Reward: 0.0\t|\tTotal Reward: 3.0\t|\t|\t\n",
      "Current Gen: 391\t|\tAvg Reward: 0.0\t|\tTotal Reward: 2.5\t|\t|\t\n",
      "Current Gen: 392\t|\tAvg Reward: 0.0\t|\tTotal Reward: 2.2\t|\t|\t\n",
      "Current Gen: 393\t|\tAvg Reward: 0.0\t|\tTotal Reward: 0.8\t|\t|\t\n",
      "Current Gen: 394\t|\tAvg Reward: 0.0\t|\tTotal Reward: 2.6\t|\t|\t\n",
      "Current Gen: 395\t|\tAvg Reward: 0.0\t|\tTotal Reward: 0.7\t|\t|\t\n",
      "Current Gen: 396\t|\tAvg Reward: 0.0\t|\tTotal Reward: 4.7\t|\t|\t\n",
      "Current Gen: 397\t|\tAvg Reward: 0.0\t|\tTotal Reward: 7.0\t|\t|\t\n",
      "Current Gen: 398\t|\tAvg Reward: 0.0\t|\tTotal Reward: 0.4\t|\t|\t\n",
      "Current Gen: 399\t|\tAvg Reward: 0.0\t|\tTotal Reward: 1.0\t|\t|\t\n",
      "Current Gen: 400\t|\tAvg Reward: 0.0\t|\tTotal Reward: 1.1\t|\t|\t\n",
      "Current Gen: 401\t|\tAvg Reward: 0.0\t|\tTotal Reward: 1.5\t|\t|\t\n",
      "Current Gen: 402\t|\tAvg Reward: 0.0\t|\tTotal Reward: 0.8\t|\t|\t\n",
      "Current Gen: 403\t|\tAvg Reward: 0.0\t|\tTotal Reward: 1.4\t|\t|\t\n",
      "Current Gen: 404\t|\tAvg Reward: 0.0\t|\tTotal Reward: 4.3\t|\t|\t\n",
      "Current Gen: 405\t|\tAvg Reward: 0.0\t|\tTotal Reward: 3.5\t|\t|\t\n",
      "Current Gen: 406\t|\tAvg Reward: 0.0\t|\tTotal Reward: 1.1\t|\t|\t\n",
      "Current Gen: 407\t|\tAvg Reward: 0.0\t|\tTotal Reward: 1.0\t|\t|\t\n",
      "Current Gen: 408\t|\tAvg Reward: 0.0\t|\tTotal Reward: 1.9\t|\t|\t\n",
      "Current Gen: 409\t|\tAvg Reward: 0.0\t|\tTotal Reward: 3.4\t|\t|\t\n",
      "Current Gen: 410\t|\tAvg Reward: 0.0\t|\tTotal Reward: 0.5\t|\t|\t\n",
      "Current Gen: 411\t|\tAvg Reward: 0.0\t|\tTotal Reward: 0.7\t|\t|\t\n",
      "Current Gen: 412\t|\tAvg Reward: 0.0\t|\tTotal Reward: 1.0\t|\t|\t\n",
      "Current Gen: 413\t|\tAvg Reward: 0.0\t|\tTotal Reward: 5.0\t|\t|\t\n",
      "Current Gen: 414\t|\tAvg Reward: 0.0\t|\tTotal Reward: 3.7\t|\t|\t\n",
      "Current Gen: 415\t|\tAvg Reward: 0.0\t|\tTotal Reward: 7.5\t|\t|\t\n",
      "Current Gen: 416\t|\tAvg Reward: 0.0\t|\tTotal Reward: 0.9\t|\t|\t\n",
      "Current Gen: 417\t|\tAvg Reward: 0.0\t|\tTotal Reward: 2.5\t|\t|\t\n",
      "Current Gen: 418\t|\tAvg Reward: 0.0\t|\tTotal Reward: 5.0\t|\t|\t\n",
      "Current Gen: 419\t|\tAvg Reward: 0.0\t|\tTotal Reward: 3.5\t|\t|\t\n",
      "Current Gen: 420\t|\tAvg Reward: 0.0\t|\tTotal Reward: 1.4\t|\t|\t\n",
      "Current Gen: 421\t|\tAvg Reward: 0.0\t|\tTotal Reward: 1.9\t|\t|\t\n",
      "Current Gen: 422\t|\tAvg Reward: 0.0\t|\tTotal Reward: 1.6\t|\t|\t\n",
      "Current Gen: 423\t|\tAvg Reward: 0.0\t|\tTotal Reward: 1.0\t|\t|\t\n",
      "Current Gen: 424\t|\tAvg Reward: 0.0\t|\tTotal Reward: 3.2\t|\t|\t\n",
      "Current Gen: 425\t|\tAvg Reward: 0.0\t|\tTotal Reward: 2.9\t|\t|\t\n",
      "Current Gen: 426\t|\tAvg Reward: 0.0\t|\tTotal Reward: 5.7\t|\t|\t\n",
      "Current Gen: 427\t|\tAvg Reward: 0.0\t|\tTotal Reward: 0.5\t|\t|\t\n",
      "Current Gen: 428\t|\tAvg Reward: 0.0\t|\tTotal Reward: 1.8\t|\t|\t\n",
      "Current Gen: 429\t|\tAvg Reward: 0.0\t|\tTotal Reward: 0.8\t|\t|\t\n",
      "Current Gen: 430\t|\tAvg Reward: 0.0\t|\tTotal Reward: 3.1\t|\t|\t\n",
      "Current Gen: 431\t|\tAvg Reward: 0.0\t|\tTotal Reward: 0.9\t|\t|\t\n",
      "Current Gen: 432\t|\tAvg Reward: 0.0\t|\tTotal Reward: 4.4\t|\t|\t\n",
      "Current Gen: 433\t|\tAvg Reward: 0.0\t|\tTotal Reward: 2.0\t|\t|\t\n",
      "Current Gen: 434\t|\tAvg Reward: 0.0\t|\tTotal Reward: 1.2\t|\t|\t\n",
      "Current Gen: 435\t|\tAvg Reward: 0.0\t|\tTotal Reward: 2.6\t|\t|\t\n",
      "Current Gen: 436\t|\tAvg Reward: 0.0\t|\tTotal Reward: 1.3\t|\t|\t\n",
      "Current Gen: 437\t|\tAvg Reward: 0.0\t|\tTotal Reward: 0.6\t|\t|\t\n",
      "Current Gen: 438\t|\tAvg Reward: 0.0\t|\tTotal Reward: 0.3\t|\t|\t\n",
      "Current Gen: 439\t|\tAvg Reward: 0.0\t|\tTotal Reward: 0.4\t|\t|\t\n",
      "Current Gen: 440\t|\tAvg Reward: 0.0\t|\tTotal Reward: 1.8\t|\t|\t\n",
      "Current Gen: 441\t|\tAvg Reward: 0.0\t|\tTotal Reward: 1.4\t|\t|\t\n",
      "Current Gen: 442\t|\tAvg Reward: 0.0\t|\tTotal Reward: 1.9\t|\t|\t\n",
      "Current Gen: 443\t|\tAvg Reward: 0.0\t|\tTotal Reward: 6.0\t|\t|\t\n",
      "Current Gen: 444\t|\tAvg Reward: 0.0\t|\tTotal Reward: 9.2\t|\t|\t\n",
      "Current Gen: 445\t|\tAvg Reward: 0.0\t|\tTotal Reward: 1.0\t|\t|\t\n",
      "Current Gen: 446\t|\tAvg Reward: 0.0\t|\tTotal Reward: 3.0\t|\t|\t\n",
      "Current Gen: 447\t|\tAvg Reward: 0.0\t|\tTotal Reward: 4.5\t|\t|\t\n",
      "Current Gen: 448\t|\tAvg Reward: 0.0\t|\tTotal Reward: 2.2\t|\t|\t\n",
      "Current Gen: 449\t|\tAvg Reward: 0.0\t|\tTotal Reward: 0.3\t|\t|\t\n",
      "Current Gen: 450\t|\tAvg Reward: 0.0\t|\tTotal Reward: 0.4\t|\t|\t\n",
      "Current Gen: 451\t|\tAvg Reward: 0.0\t|\tTotal Reward: 0.9\t|\t|\t\n",
      "Current Gen: 452\t|\tAvg Reward: 0.0\t|\tTotal Reward: 4.0\t|\t|\t\n",
      "Current Gen: 453\t|\tAvg Reward: 0.0\t|\tTotal Reward: 2.7\t|\t|\t\n",
      "Current Gen: 454\t|\tAvg Reward: 0.0\t|\tTotal Reward: 0.4\t|\t|\t\n",
      "Current Gen: 455\t|\tAvg Reward: 0.0\t|\tTotal Reward: 1.4\t|\t|\t\n",
      "Current Gen: 456\t|\tAvg Reward: 0.0\t|\tTotal Reward: 2.1\t|\t|\t\n",
      "Current Gen: 457\t|\tAvg Reward: 0.0\t|\tTotal Reward: 0.9\t|\t|\t\n",
      "Current Gen: 458\t|\tAvg Reward: 0.0\t|\tTotal Reward: 3.2\t|\t|\t\n",
      "Current Gen: 459\t|\tAvg Reward: 0.0\t|\tTotal Reward: 2.7\t|\t|\t\n",
      "Current Gen: 460\t|\tAvg Reward: 0.0\t|\tTotal Reward: 1.3\t|\t|\t\n",
      "Current Gen: 461\t|\tAvg Reward: 0.0\t|\tTotal Reward: 0.5\t|\t|\t\n",
      "Current Gen: 462\t|\tAvg Reward: 0.0\t|\tTotal Reward: 1.8\t|\t|\t\n",
      "Current Gen: 463\t|\tAvg Reward: 0.0\t|\tTotal Reward: 3.4\t|\t|\t\n",
      "Current Gen: 464\t|\tAvg Reward: 0.0\t|\tTotal Reward: 3.0\t|\t|\t\n",
      "Current Gen: 465\t|\tAvg Reward: 0.0\t|\tTotal Reward: 0.4\t|\t|\t\n",
      "Current Gen: 466\t|\tAvg Reward: 0.0\t|\tTotal Reward: 0.4\t|\t|\t\n",
      "Current Gen: 467\t|\tAvg Reward: 0.0\t|\tTotal Reward: 1.1\t|\t|\t\n",
      "Current Gen: 468\t|\tAvg Reward: 0.0\t|\tTotal Reward: 0.9\t|\t|\t\n",
      "Current Gen: 469\t|\tAvg Reward: 0.0\t|\tTotal Reward: 3.5\t|2\t|\t\n",
      "Current Gen: 470\t|\tAvg Reward: 0.0\t|\tTotal Reward: 4.5\t|\t|\t\n",
      "Current Gen: 471\t|\tAvg Reward: 0.0\t|\tTotal Reward: 0.6\t|\t|\t\n",
      "Current Gen: 472\t|\tAvg Reward: 0.0\t|\tTotal Reward: 0.3\t|\t|\t\n",
      "Current Gen: 473\t|\tAvg Reward: 0.0\t|\tTotal Reward: 7.7\t|\t|\t\n",
      "Current Gen: 474\t|\tAvg Reward: 0.0\t|\tTotal Reward: 4.7\t|\t|\t\n",
      "Current Gen: 475\t|\tAvg Reward: 0.0\t|\tTotal Reward: 2.7\t|\t|\t\n",
      "Current Gen: 476\t|\tAvg Reward: 0.0\t|\tTotal Reward: 0.5\t|\t|\t\n",
      "Current Gen: 477\t|\tAvg Reward: 0.0\t|\tTotal Reward: 3.5\t|\t|\t\n",
      "Current Gen: 478\t|\tAvg Reward: 0.0\t|\tTotal Reward: 0.4\t|\t|\t\n",
      "Current Gen: 479\t|\tAvg Reward: 0.0\t|\tTotal Reward: 3.6\t|\t|\t\n",
      "Current Gen: 480\t|\tAvg Reward: 0.0\t|\tTotal Reward: 1.5\t|\t|\t\n",
      "Current Gen: 481\t|\tAvg Reward: 0.0\t|\tTotal Reward: 1.9\t|\t|\t\n",
      "Current Gen: 482\t|\tAvg Reward: 0.0\t|\tTotal Reward: 0.4\t|\t|\t\n",
      "Current Gen: 483\t|\tAvg Reward: 0.0\t|\tTotal Reward: 1.2\t|\t|\t\n",
      "Current Gen: 484\t|\tAvg Reward: 0.0\t|\tTotal Reward: 4.0\t|\t|\t\n",
      "Current Gen: 485\t|\tAvg Reward: 0.0\t|\tTotal Reward: 1.1\t|\t|\t\n",
      "Current Gen: 486\t|\tAvg Reward: 0.0\t|\tTotal Reward: 4.2\t|\t|\t\n",
      "Current Gen: 487\t|\tAvg Reward: 0.0\t|\tTotal Reward: 3.0\t|\t|\t\n",
      "Current Gen: 488\t|\tAvg Reward: 0.0\t|\tTotal Reward: 1.0\t|\t|\t\n",
      "Current Gen: 489\t|\tAvg Reward: 0.0\t|\tTotal Reward: 1.6\t|\t|\t\n",
      "Current Gen: 490\t|\tAvg Reward: 0.0\t|\tTotal Reward: 2.3\t|\t|\t\n",
      "Current Gen: 491\t|\tAvg Reward: 0.0\t|\tTotal Reward: 1.3\t|\t|\t\n",
      "Current Gen: 492\t|\tAvg Reward: 0.0\t|\tTotal Reward: 6.0\t|\t|\t\n",
      "Current Gen: 493\t|\tAvg Reward: 0.0\t|\tTotal Reward: 2.4\t|\t|\t\n",
      "Current Gen: 494\t|\tAvg Reward: 0.0\t|\tTotal Reward: 0.5\t|\t|\t\n",
      "Current Gen: 495\t|\tAvg Reward: 0.0\t|\tTotal Reward: 0.4\t|\t|\t\n",
      "Current Gen: 496\t|\tAvg Reward: 0.0\t|\tTotal Reward: 1.0\t|\t|\t\n",
      "Current Gen: 497\t|\tAvg Reward: 0.0\t|\tTotal Reward: 2.1\t|\t|\t\n",
      "Current Gen: 498\t|\tAvg Reward: 0.0\t|\tTotal Reward: 2.8\t|\t|\t\n",
      "Current Gen: 499\t|\tAvg Reward: 0.0\t|\tTotal Reward: 1.1\t|\t|\t\n",
      "Current Gen: 500\t|\tAvg Reward: 0.0\t|\tTotal Reward: 1.6\t|\t|\t\n",
      "Current Gen: 501\t|\tAvg Reward: 0.0\t|\tTotal Reward: 0.4\t|\t|\t\n",
      "Current Gen: 502\t|\tAvg Reward: 0.0\t|\tTotal Reward: 1.4\t|\t|\t\n",
      "Current Gen: 503\t|\tAvg Reward: 0.0\t|\tTotal Reward: 0.7\t|\t|\t\n",
      "Current Gen: 504\t|\tAvg Reward: 0.0\t|\tTotal Reward: 0.9\t|\t|\t\n",
      "Current Gen: 505\t|\tAvg Reward: 0.0\t|\tTotal Reward: 1.0\t|\t|\t\n",
      "Current Gen: 506\t|\tAvg Reward: 0.0\t|\tTotal Reward: 0.6\t|\t|\t\n",
      "Current Gen: 507\t|\tAvg Reward: 0.0\t|\tTotal Reward: 3.6\t|\t|\t\n",
      "Current Gen: 508\t|\tAvg Reward: 0.0\t|\tTotal Reward: 2.6\t|\t|\t\n",
      "Current Gen: 509\t|\tAvg Reward: 0.0\t|\tTotal Reward: 2.0\t|\t|\t\n",
      "Current Gen: 510\t|\tAvg Reward: 0.0\t|\tTotal Reward: 2.6\t|\t|\t\n",
      "Current Gen: 511\t|\tAvg Reward: 0.0\t|\tTotal Reward: 4.2\t|\t|\t\n",
      "Current Gen: 512\t|\tAvg Reward: 0.0\t|\tTotal Reward: 0.7\t|\t|\t\n",
      "Current Gen: 513\t|\tAvg Reward: 0.0\t|\tTotal Reward: 0.8\t|\t|\t\n",
      "Current Gen: 514\t|\tAvg Reward: 0.0\t|\tTotal Reward: 2.1\t|\t|\t\n",
      "Current Gen: 515\t|\tAvg Reward: 0.0\t|\tTotal Reward: 2.0\t|\t|\t\n",
      "Current Gen: 516\t|\tAvg Reward: 0.0\t|\tTotal Reward: 0.8\t|\t|\t\n",
      "Current Gen: 517\t|\tAvg Reward: 0.0\t|\tTotal Reward: 9.5\t|\t|\t\n",
      "Current Gen: 518\t|\tAvg Reward: 0.0\t|\tTotal Reward: 1.8\t|\t|\t\n",
      "Current Gen: 519\t|\tAvg Reward: 0.0\t|\tTotal Reward: 4.7\t|\t|\t\n",
      "Current Gen: 520\t|\tAvg Reward: 0.0\t|\tTotal Reward: 4.5\t|\t|\t\n",
      "Current Gen: 521\t|\tAvg Reward: 0.0\t|\tTotal Reward: 3.0\t|\t|\t\n",
      "Current Gen: 522\t|\tAvg Reward: 0.0\t|\tTotal Reward: 2.9\t|\t|\t\n",
      "Current Gen: 523\t|\tAvg Reward: 0.0\t|\tTotal Reward: 1.1\t|\t|\t\n",
      "Current Gen: 524\t|\tAvg Reward: 0.0\t|\tTotal Reward: 0.7\t|\t|\t\n",
      "Current Gen: 525\t|\tAvg Reward: 0.0\t|\tTotal Reward: 0.4\t|\t|\t\n",
      "Current Gen: 526\t|\tAvg Reward: 0.0\t|\tTotal Reward: 2.6\t|\t|\t\n",
      "Current Gen: 527\t|\tAvg Reward: 0.0\t|\tTotal Reward: 2.3\t|\t|\t\n",
      "Current Gen: 528\t|\tAvg Reward: 0.0\t|\tTotal Reward: 2.8\t|\t|\t\n",
      "Current Gen: 529\t|\tAvg Reward: 0.0\t|\tTotal Reward: 1.8\t|\t|\t\n",
      "Current Gen: 530\t|\tAvg Reward: 0.0\t|\tTotal Reward: 1.8\t|\t|\t\n",
      "Current Gen: 531\t|\tAvg Reward: 0.0\t|\tTotal Reward: 6.5\t|\t|\t\n",
      "Current Gen: 532\t|\tAvg Reward: 0.0\t|\tTotal Reward: 0.8\t|\t|\t\n",
      "Current Gen: 533\t|\tAvg Reward: 0.0\t|\tTotal Reward: 2.6\t|\t|\t\n",
      "Current Gen: 534\t|\tAvg Reward: 0.0\t|\tTotal Reward: 0.6\t|\t|\t\n",
      "Current Gen: 535\t|\tAvg Reward: 0.0\t|\tTotal Reward: 3.4\t|\t|\t\n",
      "Current Gen: 536\t|\tAvg Reward: 0.0\t|\tTotal Reward: 2.2\t|\t|\t\n",
      "Current Gen: 537\t|\tAvg Reward: 0.0\t|\tTotal Reward: 0.7\t|\t|\t\n",
      "Current Gen: 538\t|\tAvg Reward: 0.0\t|\tTotal Reward: 0.8\t|\t|\t\n",
      "Current Gen: 539\t|\tAvg Reward: 0.0\t|\tTotal Reward: 0.6\t|\t|\t\n",
      "Current Gen: 540\t|\tAvg Reward: 0.0\t|\tTotal Reward: 4.6\t|\t|\t\n",
      "Current Gen: 541\t|\tAvg Reward: 0.0\t|\tTotal Reward: 3.5\t|\t|\t\n",
      "Current Gen: 542\t|\tAvg Reward: 0.0\t|\tTotal Reward: 1.5\t|\t|\t\n",
      "Current Gen: 543\t|\tAvg Reward: 0.0\t|\tTotal Reward: 0.5\t|\t|\t\n",
      "Current Gen: 544\t|\tAvg Reward: 0.0\t|\tTotal Reward: 1.1\t|\t|\t\n",
      "Current Gen: 545\t|\tAvg Reward: 0.0\t|\tTotal Reward: 2.5\t|\t|\t\n",
      "Current Gen: 546\t|\tAvg Reward: 0.0\t|\tTotal Reward: 2.0\t|\t|\t\n",
      "Current Gen: 547\t|\tAvg Reward: 0.0\t|\tTotal Reward: 1.1\t|\t|\t\n",
      "Current Gen: 548\t|\tAvg Reward: 0.0\t|\tTotal Reward: 0.4\t|\t|\t\n",
      "Current Gen: 549\t|\tAvg Reward: 0.0\t|\tTotal Reward: 0.4\t|\t|\t\n",
      "Current Gen: 550\t|\tAvg Reward: 0.0\t|\tTotal Reward: 1.1\t|\t|\t\n",
      "Current Gen: 551\t|\tAvg Reward: 0.0\t|\tTotal Reward: 5.5\t|\t|\t\n",
      "Current Gen: 552\t|\tAvg Reward: 0.0\t|\tTotal Reward: 3.3\t|\t|\t\n",
      "Current Gen: 553\t|\tAvg Reward: 0.0\t|\tTotal Reward: 0.7\t|\t|\t\n",
      "Current Gen: 554\t|\tAvg Reward: 0.0\t|\tTotal Reward: 4.7\t|\t|\t\n",
      "Current Gen: 555\t|\tAvg Reward: 0.0\t|\tTotal Reward: 4.0\t|\t|\t\n",
      "Current Gen: 556\t|\tAvg Reward: 0.0\t|\tTotal Reward: 2.8\t|\t|\t\n",
      "Current Gen: 557\t|\tAvg Reward: 0.0\t|\tTotal Reward: 0.5\t|\t|\t\n",
      "Current Gen: 558\t|\tAvg Reward: 0.0\t|\tTotal Reward: 1.0\t|\t|\t\n",
      "Current Gen: 559\t|\tAvg Reward: 0.0\t|\tTotal Reward: 0.4\t|\t|\t\n",
      "Current Gen: 560\t|\tAvg Reward: 0.0\t|\tTotal Reward: 4.2\t|\t|\t\n",
      "Current Gen: 561\t|\tAvg Reward: 0.0\t|\tTotal Reward: 2.3\t|\t|\t\n",
      "Current Gen: 562\t|\tAvg Reward: 0.0\t|\tTotal Reward: 4.7\t|\t|\t\n",
      "Current Gen: 563\t|\tAvg Reward: 0.0\t|\tTotal Reward: 2.8\t|\t|\t\n",
      "Current Gen: 564\t|\tAvg Reward: 0.0\t|\tTotal Reward: 1.6\t|\t|\t\n",
      "Current Gen: 565\t|\tAvg Reward: 0.0\t|\tTotal Reward: 1.5\t|\t|\t\n",
      "Current Gen: 566\t|\tAvg Reward: 0.0\t|\tTotal Reward: 0.4\t|\t|\t\n",
      "Current Gen: 567\t|\tAvg Reward: 0.0\t|\tTotal Reward: 0.4\t|\t|\t\n",
      "Current Gen: 568\t|\tAvg Reward: 0.0\t|\tTotal Reward: 0.8\t|\t|\t\n",
      "Current Gen: 569\t|\tAvg Reward: 0.0\t|\tTotal Reward: 2.6\t|\t|\t\n",
      "Current Gen: 570\t|\tAvg Reward: 0.0\t|\tTotal Reward: 0.4\t|\t|\t\n",
      "Current Gen: 571\t|\tAvg Reward: 0.0\t|\tTotal Reward: 2.9\t|\t|\t\n",
      "Current Gen: 572\t|\tAvg Reward: 0.0\t|\tTotal Reward: 1.5\t|\t|\t\n",
      "Current Gen: 573\t|\tAvg Reward: 0.0\t|\tTotal Reward: 1.0\t|\t|\t\n",
      "Current Gen: 574\t|\tAvg Reward: 0.0\t|\tTotal Reward: 2.7\t|\t|\t\n",
      "Current Gen: 575\t|\tAvg Reward: 0.0\t|\tTotal Reward: 3.5\t|\t|\t\n",
      "Current Gen: 576\t|\tAvg Reward: 0.0\t|\tTotal Reward: 1.3\t|\t|\t\n",
      "Current Gen: 577\t|\tAvg Reward: 0.0\t|\tTotal Reward: 3.6\t|\t|\t\n",
      "Current Gen: 578\t|\tAvg Reward: 0.0\t|\tTotal Reward: 4.0\t|\t|\t\n",
      "Current Gen: 579\t|\tAvg Reward: 0.0\t|\tTotal Reward: 2.5\t|\t|\t\n",
      "Current Gen: 580\t|\tAvg Reward: 0.0\t|\tTotal Reward: 1.4\t|\t|\t\n",
      "Current Gen: 581\t|\tAvg Reward: 0.0\t|\tTotal Reward: 2.8\t|\t|\t\n",
      "Current Gen: 582\t|\tAvg Reward: 0.0\t|\tTotal Reward: 0.7\t|\t|\t\n",
      "Current Gen: 583\t|\tAvg Reward: 0.0\t|\tTotal Reward: 1.4\t|\t|\t\n",
      "Current Gen: 584\t|\tAvg Reward: 0.0\t|\tTotal Reward: 1.4\t|\t|\t\n",
      "Current Gen: 585\t|\tAvg Reward: 0.0\t|\tTotal Reward: 0.7\t|\t|\t\n",
      "Current Gen: 586\t|\tAvg Reward: 0.0\t|\tTotal Reward: 1.2\t|\t|\t\n",
      "Current Gen: 587\t|\tAvg Reward: 0.0\t|\tTotal Reward: 5.5\t|\t|\t\n",
      "Current Gen: 588\t|\tAvg Reward: 0.0\t|\tTotal Reward: 0.5\t|\t|\t\n",
      "Current Gen: 589\t|\tAvg Reward: 0.0\t|\tTotal Reward: 3.5\t|\t|\t\n",
      "Current Gen: 590\t|\tAvg Reward: 0.0\t|\tTotal Reward: 1.9\t|\t|\t\n",
      "Current Gen: 591\t|\tAvg Reward: 0.0\t|\tTotal Reward: 1.5\t|\t|\t\n",
      "Current Gen: 592\t|\tAvg Reward: 0.0\t|\tTotal Reward: 1.1\t|\t|\t\n",
      "Current Gen: 593\t|\tAvg Reward: 0.0\t|\tTotal Reward: 1.1\t|\t|\t\n",
      "Current Gen: 594\t|\tAvg Reward: 0.0\t|\tTotal Reward: 1.3\t|\t|\t\n",
      "Current Gen: 595\t|\tAvg Reward: 0.0\t|\tTotal Reward: 0.9\t|\t|\t\n",
      "Current Gen: 596\t|\tAvg Reward: 0.0\t|\tTotal Reward: 0.8\t|\t|\t\n",
      "Current Gen: 597\t|\tAvg Reward: 0.0\t|\tTotal Reward: 7.2\t|\t|\t\n",
      "Current Gen: 598\t|\tAvg Reward: 0.0\t|\tTotal Reward: 6.7\t|\t|\t\n",
      "Current Gen: 599\t|\tAvg Reward: 0.0\t|\tTotal Reward: 11.8\t||\t\n",
      "Current Gen: 600\t|\tAvg Reward: 0.0\t|\tTotal Reward: 2.9\t|\t|\t\n",
      "Current Gen: 601\t|\tAvg Reward: 0.0\t|\tTotal Reward: 5.0\t|\t|\t\n",
      "Current Gen: 602\t|\tAvg Reward: 0.0\t|\tTotal Reward: 2.4\t|\t|\t\n",
      "Current Gen: 603\t|\tAvg Reward: 0.0\t|\tTotal Reward: 1.9\t|\t|\t\n",
      "Current Gen: 604\t|\tAvg Reward: 0.0\t|\tTotal Reward: 0.3\t|\t|\t\n",
      "Current Gen: 605\t|\tAvg Reward: 0.0\t|\tTotal Reward: 2.6\t|\t|\t\n",
      "Current Gen: 606\t|\tAvg Reward: 0.0\t|\tTotal Reward: 0.5\t|\t|\t\n",
      "Current Gen: 607\t|\tAvg Reward: 0.0\t|\tTotal Reward: 1.4\t|\t|\t\n",
      "Current Gen: 608\t|\tAvg Reward: 0.0\t|\tTotal Reward: 3.5\t|\t|\t\n",
      "Current Gen: 609\t|\tAvg Reward: 0.0\t|\tTotal Reward: 1.1\t|\t|\t\n",
      "Current Gen: 610\t|\tAvg Reward: 0.0\t|\tTotal Reward: 0.8\t|\t|\t\n",
      "Current Gen: 611\t|\tAvg Reward: 0.0\t|\tTotal Reward: 2.7\t|\t|\t\n",
      "Current Gen: 612\t|\tAvg Reward: 0.0\t|\tTotal Reward: 0.8\t|\t|\t\n",
      "Current Gen: 613\t|\tAvg Reward: 0.0\t|\tTotal Reward: 2.4\t|\t|\t\n",
      "Current Gen: 614\t|\tAvg Reward: 0.0\t|\tTotal Reward: 2.9\t|\t|\t\n",
      "Current Gen: 615\t|\tAvg Reward: 0.0\t|\tTotal Reward: 2.9\t|\t|\t\n",
      "Current Gen: 616\t|\tAvg Reward: 0.0\t|\tTotal Reward: 0.7\t|\t|\t\n",
      "Current Gen: 617\t|\tAvg Reward: 0.0\t|\tTotal Reward: 0.5\t|\t|\t\n",
      "Current Gen: 618\t|\tAvg Reward: 0.0\t|\tTotal Reward: 3.0\t|\t|\t\n",
      "Current Gen: 619\t|\tAvg Reward: 0.0\t|\tTotal Reward: 1.9\t|\t|\t\n",
      "Current Gen: 620\t|\tAvg Reward: 0.0\t|\tTotal Reward: 2.4\t|\t|\t\n",
      "Current Gen: 621\t|\tAvg Reward: 0.0\t|\tTotal Reward: 4.5\t|\t|\t\n",
      "Current Gen: 622\t|\tAvg Reward: 0.0\t|\tTotal Reward: 2.2\t|\t|\t\n",
      "Current Gen: 623\t|\tAvg Reward: 0.0\t|\tTotal Reward: 3.6\t|\t|\t\n",
      "Current Gen: 624\t|\tAvg Reward: 0.0\t|\tTotal Reward: 3.3\t|\t|\t\n",
      "Current Gen: 625\t|\tAvg Reward: 0.0\t|\tTotal Reward: 3.5\t|\t|\t\n",
      "Current Gen: 626\t|\tAvg Reward: 0.0\t|\tTotal Reward: 0.8\t|\t|\t\n",
      "Current Gen: 627\t|\tAvg Reward: 0.0\t|\tTotal Reward: 4.9\t|\t|\t\n",
      "Current Gen: 628\t|\tAvg Reward: 0.0\t|\tTotal Reward: 3.0\t|\t|\t\n",
      "Current Gen: 629\t|\tAvg Reward: 0.0\t|\tTotal Reward: 3.4\t|\t|\t\n",
      "Current Gen: 630\t|\tAvg Reward: 0.0\t|\tTotal Reward: 0.7\t|\t|\t\n"
     ]
    },
    {
     "name": "stderr",
     "output_type": "stream",
     "text": [
      "\n",
      "KeyboardInterrupt\n",
      "\n"
     ]
    }
   ],
   "source": [
    "trainer.train(gens=10000, train_steps=10, training_actor=True)"
   ]
  },
  {
   "cell_type": "code",
   "execution_count": 16,
   "id": "3c04c14f-8671-4168-8eb3-f10747e66ace",
   "metadata": {},
   "outputs": [],
   "source": [
    "episode_data = trainer.player.run_episode(agent, max_steps=100, greedy=True, renderer=trainer.renderer)"
   ]
  },
  {
   "cell_type": "code",
   "execution_count": 17,
   "id": "f7e2f169-5696-4f82-940a-d577891ea542",
   "metadata": {},
   "outputs": [],
   "source": [
    "episode_boards, episode_pieces, episode_inputs, episode_actions, episode_valid, episode_probs, episode_values, episode_rewards = episode_data"
   ]
  },
  {
   "cell_type": "code",
   "execution_count": 18,
   "id": "f72f64fa-a6f0-4c69-ada5-2cc805c05006",
   "metadata": {},
   "outputs": [],
   "source": [
    "episode_advantages, episode_returns = trainer._compute_gae(episode_values, episode_rewards, trainer.gamma, trainer.lam)"
   ]
  },
  {
   "cell_type": "code",
   "execution_count": 19,
   "id": "e94791d9-14a5-42a2-bdd5-325e70a72614",
   "metadata": {},
   "outputs": [
    {
     "data": {
      "text/plain": [
       "<tf.Tensor: shape=(), dtype=float32, numpy=5.75>"
      ]
     },
     "execution_count": 19,
     "metadata": {},
     "output_type": "execute_result"
    }
   ],
   "source": [
    "fig, ax = plt.subplots()\n",
    "ax.plot(episode_returns, label='Returns')\n",
    "ax.plot(episode_rewards, label='Rewards')\n",
    "ax.plot(episode_values, label='Values')\n",
    "ax.plot(episode_advantages, label='Advantages')\n",
    "ax.legend()\n",
    "tf.reduce_sum(episode_rewards)"
   ]
  },
  {
   "cell_type": "code",
   "execution_count": null,
   "id": "a90b6a60-7411-43b6-b12c-434a565b1cb9",
   "metadata": {},
   "outputs": [],
   "source": []
  }
 ],
 "metadata": {
  "kernelspec": {
   "display_name": "Python 3 (ipykernel)",
   "language": "python",
   "name": "python3"
  },
  "language_info": {
   "codemirror_mode": {
    "name": "ipython",
    "version": 3
   },
   "file_extension": ".py",
   "mimetype": "text/x-python",
   "name": "python",
   "nbconvert_exporter": "python",
   "pygments_lexer": "ipython3",
   "version": "3.9.18"
  }
 },
 "nbformat": 4,
 "nbformat_minor": 5
}
