{
 "cells": [
  {
   "cell_type": "code",
   "execution_count": 1,
   "id": "797beb80-8e0a-4d07-b77f-67e60a000e8a",
   "metadata": {},
   "outputs": [],
   "source": [
    "from Player import Player\n",
    "from Trainer import Trainer\n",
    "from TetrisModel import TetrisModel\n",
    "from Pretrainer import Pretrainer\n",
    "import tensorflow as tf\n",
    "from tensorflow import keras\n",
    "import matplotlib.pyplot as plt\n",
    "import glob\n",
    "import time"
   ]
  },
  {
   "cell_type": "code",
   "execution_count": 2,
   "id": "b489fac7-4661-4921-bf2f-c27b77d68308",
   "metadata": {},
   "outputs": [],
   "source": [
    "piece_dim = 8\n",
    "key_dim = 12\n",
    "depth = 16\n",
    "gamma = 0.99\n",
    "lam = 0.95"
   ]
  },
  {
   "cell_type": "code",
   "execution_count": 3,
   "id": "18e02bc9-ddfa-4da9-9186-26d1a6ddbc17",
   "metadata": {},
   "outputs": [],
   "source": [
    "# Use lambda instead of gamma to immitate shape of gae without value predictions\n",
    "pretrainer = Pretrainer(gamma=lam)"
   ]
  },
  {
   "cell_type": "code",
   "execution_count": 4,
   "id": "3f55a2a7-a685-4e03-bf63-32ca62b49a84",
   "metadata": {},
   "outputs": [],
   "source": [
    "players_data = pretrainer._load_data()"
   ]
  },
  {
   "cell_type": "code",
   "execution_count": 5,
   "id": "89477f84-bf5f-4ae2-bc25-88e464c0c7a7",
   "metadata": {},
   "outputs": [
    {
     "name": "stdout",
     "output_type": "stream",
     "text": [
      "1.00"
     ]
    }
   ],
   "source": [
    "pretrainer._load_dset(players_data)"
   ]
  },
  {
   "cell_type": "code",
   "execution_count": 6,
   "id": "2bb7200b-3bd1-4c89-a760-ae040a0993f5",
   "metadata": {},
   "outputs": [],
   "source": [
    "max_len = pretrainer._max_len"
   ]
  },
  {
   "cell_type": "code",
   "execution_count": 9,
   "id": "1c086f18-2d08-4af8-8072-06bb186463bf",
   "metadata": {},
   "outputs": [
    {
     "name": "stdout",
     "output_type": "stream",
     "text": [
      "Done Caching\n"
     ]
    }
   ],
   "source": [
    "gt_dset = pretrainer._cache_dset()"
   ]
  },
  {
   "cell_type": "code",
   "execution_count": 7,
   "id": "f98471d2-7bdc-41d1-82c1-ec09f752b5b6",
   "metadata": {},
   "outputs": [],
   "source": [
    "agent = TetrisModel(piece_dim=piece_dim,\n",
    "                    key_dim=key_dim,\n",
    "                    depth=depth,\n",
    "                    num_heads=4,\n",
    "                    num_layers=4,\n",
    "                    max_length=max_len)"
   ]
  },
  {
   "cell_type": "code",
   "execution_count": 8,
   "id": "e164709b-c4b7-4335-b3d2-c92fa2460936",
   "metadata": {},
   "outputs": [
    {
     "name": "stdout",
     "output_type": "stream",
     "text": [
      "Model: \"tetris_model\"\n",
      "_________________________________________________________________\n",
      " Layer (type)                Output Shape              Param #   \n",
      "=================================================================\n",
      " sequential (Sequential)     (1, 70, 16)               4800      \n",
      "                                                                 \n",
      " seq_embedding (SeqEmbedding  multiple                 128       \n",
      " )                                                               \n",
      "                                                                 \n",
      " seq_embedding_1 (SeqEmbeddi  multiple                 192       \n",
      " ng)                                                             \n",
      "                                                                 \n",
      " pdec_0 (DecoderLayer)       multiple                  9776      \n",
      "                                                                 \n",
      " pdec_1 (DecoderLayer)       multiple                  9776      \n",
      "                                                                 \n",
      " pdec_2 (DecoderLayer)       multiple                  9776      \n",
      "                                                                 \n",
      " pdec_3 (DecoderLayer)       multiple                  9776      \n",
      "                                                                 \n",
      " actor_dec_0 (DecoderLayer)  multiple                  9776      \n",
      "                                                                 \n",
      " actor_dec_1 (DecoderLayer)  multiple                  9776      \n",
      "                                                                 \n",
      " actor_dec_2 (DecoderLayer)  multiple                  9776      \n",
      "                                                                 \n",
      " actor_dec_3 (DecoderLayer)  multiple                  9776      \n",
      "                                                                 \n",
      " critic_dec_0 (DecoderLayer)  multiple                 9776      \n",
      "                                                                 \n",
      " critic_dec_1 (DecoderLayer)  multiple                 9776      \n",
      "                                                                 \n",
      " critic_dec_2 (DecoderLayer)  multiple                 9776      \n",
      "                                                                 \n",
      " critic_dec_3 (DecoderLayer)  multiple                 9776      \n",
      "                                                                 \n",
      " actor_top (Dense)           multiple                  204       \n",
      "                                                                 \n",
      " critic_top (Dense)          multiple                  17        \n",
      "                                                                 \n",
      "=================================================================\n",
      "Total params: 122,653\n",
      "Trainable params: 122,653\n",
      "Non-trainable params: 0\n",
      "_________________________________________________________________\n"
     ]
    },
    {
     "data": {
      "text/plain": [
       "(None,\n",
       " <tf.Tensor: shape=(3,), dtype=int32, numpy=array([ 1, 21, 12])>,\n",
       " <tf.Tensor: shape=(3,), dtype=int32, numpy=array([ 1, 21,  1])>)"
      ]
     },
     "execution_count": 8,
     "metadata": {},
     "output_type": "execute_result"
    }
   ],
   "source": [
    "logits, values = agent((tf.random.uniform((1, 28, 10, 1)),\n",
    "                        tf.random.uniform((1, 7), minval=0, maxval=8, dtype=tf.int32),\n",
    "                        tf.random.uniform((1, max_len-1), minval=0, maxval=key_dim, dtype=tf.int32)))\n",
    "agent.summary(), tf.shape(logits), tf.shape(values)"
   ]
  },
  {
   "cell_type": "code",
   "execution_count": 9,
   "id": "2e2ee521-f5c4-49b3-ab1f-149b3cfd23f2",
   "metadata": {},
   "outputs": [],
   "source": [
    "agent_optimizer = keras.optimizers.Adam()\n",
    "agent.compile(optimizer=agent_optimizer)"
   ]
  },
  {
   "cell_type": "code",
   "execution_count": 10,
   "id": "fca78dde-149a-4878-a274-0d3e48cc46ff",
   "metadata": {},
   "outputs": [],
   "source": [
    "epochs = 10"
   ]
  },
  {
   "cell_type": "code",
   "execution_count": 11,
   "id": "577b693b-237f-48dc-ac8a-fd6e783ef902",
   "metadata": {},
   "outputs": [
    {
     "data": {
      "text/plain": [
       "<tensorflow.python.checkpoint.checkpoint.CheckpointLoadStatus at 0x1c86b9f8190>"
      ]
     },
     "execution_count": 11,
     "metadata": {},
     "output_type": "execute_result"
    }
   ],
   "source": [
    "agent.load_weights('agent_weights/agent')"
   ]
  },
  {
   "cell_type": "code",
   "execution_count": null,
   "id": "69a201c9-b2bd-4372-8233-604acf9c2e58",
   "metadata": {},
   "outputs": [],
   "source": [
    "losses, accs = pretrainer.train(agent, gt_dset, epochs)"
   ]
  },
  {
   "cell_type": "code",
   "execution_count": null,
   "id": "3b46352d-ba40-408c-a269-e9f72a85d410",
   "metadata": {},
   "outputs": [],
   "source": [
    "plt.plot(losses)\n",
    "plt.plot(accs)"
   ]
  },
  {
   "cell_type": "code",
   "execution_count": 16,
   "id": "cac6025f-b73f-4fe5-a091-4b324afdd72b",
   "metadata": {},
   "outputs": [
    {
     "name": "stdin",
     "output_type": "stream",
     "text": [
      "YOU SURE????? y\n"
     ]
    }
   ],
   "source": [
    "if 'y' in input('YOU SURE?????'):\n",
    "    agent.save_weights('agent_weights/agent')"
   ]
  },
  {
   "cell_type": "code",
   "execution_count": 12,
   "id": "c4de19b9-6807-456e-8fae-4e7809e2c094",
   "metadata": {},
   "outputs": [],
   "source": [
    "%matplotlib qt"
   ]
  },
  {
   "cell_type": "code",
   "execution_count": 13,
   "id": "54251d5e-959b-44d0-a390-e07bd721f3e6",
   "metadata": {},
   "outputs": [
    {
     "name": "stderr",
     "output_type": "stream",
     "text": [
      "\u001b[34m\u001b[1mwandb\u001b[0m: Using wandb-core as the SDK backend. Please refer to https://wandb.me/wandb-core for more information.\n",
      "\u001b[34m\u001b[1mwandb\u001b[0m: Currently logged in as: \u001b[33mmichaelsherrick\u001b[0m. Use \u001b[1m`wandb login --relogin`\u001b[0m to force relogin\n"
     ]
    },
    {
     "data": {
      "text/html": [
       "Tracking run with wandb version 0.18.3"
      ],
      "text/plain": [
       "<IPython.core.display.HTML object>"
      ]
     },
     "metadata": {},
     "output_type": "display_data"
    },
    {
     "data": {
      "text/html": [
       "Run data is saved locally in <code>C:\\Users\\micha\\Python Programs\\Reinforcement\\QTris\\wandb\\run-20241025_181620-q3kwywqc</code>"
      ],
      "text/plain": [
       "<IPython.core.display.HTML object>"
      ]
     },
     "metadata": {},
     "output_type": "display_data"
    },
    {
     "data": {
      "text/html": [
       "Syncing run <strong><a href='https://wandb.ai/michaelsherrick/Tetris/runs/q3kwywqc' target=\"_blank\">smooth-oath-104</a></strong> to <a href='https://wandb.ai/michaelsherrick/Tetris' target=\"_blank\">Weights & Biases</a> (<a href='https://wandb.me/run' target=\"_blank\">docs</a>)<br/>"
      ],
      "text/plain": [
       "<IPython.core.display.HTML object>"
      ]
     },
     "metadata": {},
     "output_type": "display_data"
    },
    {
     "data": {
      "text/html": [
       " View project at <a href='https://wandb.ai/michaelsherrick/Tetris' target=\"_blank\">https://wandb.ai/michaelsherrick/Tetris</a>"
      ],
      "text/plain": [
       "<IPython.core.display.HTML object>"
      ]
     },
     "metadata": {},
     "output_type": "display_data"
    },
    {
     "data": {
      "text/html": [
       " View run at <a href='https://wandb.ai/michaelsherrick/Tetris/runs/q3kwywqc' target=\"_blank\">https://wandb.ai/michaelsherrick/Tetris/runs/q3kwywqc</a>"
      ],
      "text/plain": [
       "<IPython.core.display.HTML object>"
      ]
     },
     "metadata": {},
     "output_type": "display_data"
    }
   ],
   "source": [
    "trainer = Trainer(model=agent,\n",
    "                  seq_len=max_len,\n",
    "                  gamma=gamma,\n",
    "                  lam=lam,\n",
    "                  max_episode_steps=500,\n",
    "                  buffer_cap=2000)"
   ]
  },
  {
   "cell_type": "code",
   "execution_count": 14,
   "id": "de9c0d5b-64c3-45eb-bb30-aad98833f7f9",
   "metadata": {},
   "outputs": [
    {
     "name": "stdout",
     "output_type": "stream",
     "text": [
      "Done filling replay buffer\n"
     ]
    }
   ],
   "source": [
    "trainer.fill_replay_buffer()"
   ]
  },
  {
   "cell_type": "code",
   "execution_count": null,
   "id": "278275a9-3b05-4fa5-9003-32bd6e504faf",
   "metadata": {
    "scrolled": true
   },
   "outputs": [
    {
     "name": "stdout",
     "output_type": "stream",
     "text": [
      "Current Gen: 1\t|\tAvg Reward: 0.0\t|\tTotal Reward: 10.8\t|\n",
      "WARNING:tensorflow:From C:\\Users\\micha\\AppData\\Roaming\\Python\\Python39\\site-packages\\tensorflow\\python\\autograph\\impl\\api.py:377: ReplayBuffer.get_next (from tf_agents.replay_buffers.replay_buffer) is deprecated and will be removed in a future version.\n",
      "Instructions for updating:\n",
      "Use `as_dataset(..., single_deterministic_pass=False) instead.\n",
      "Current Gen: 2\t|\tAvg Reward: 0.0\t|\tTotal Reward: 2.8\t|\n",
      "Current Gen: 3\t|\tAvg Reward: 0.0\t|\tTotal Reward: 13.2\t|\n",
      "Current Gen: 4\t|\tAvg Reward: 0.0\t|\tTotal Reward: 0.5\t|\n",
      "Critic Loss: 3.96\t|\t"
     ]
    }
   ],
   "source": [
    "trainer.train(gens=10000, train_steps=10, training_actor=False)"
   ]
  },
  {
   "cell_type": "code",
   "execution_count": 16,
   "id": "56576e62-d8a1-41e7-8fbe-037916977e56",
   "metadata": {},
   "outputs": [],
   "source": [
    "episode_boards, episode_pieces, episode_inputs, episode_actions, episode_probs, episode_values, episode_rewards = trainer.player.run_episode(agent, 500)"
   ]
  },
  {
   "cell_type": "code",
   "execution_count": 17,
   "id": "58cc6c6b-4e68-430c-b54b-d3d3c722a183",
   "metadata": {},
   "outputs": [
    {
     "data": {
      "text/plain": [
       "<tf.Tensor: shape=(276, 28, 10, 1), dtype=float32, numpy=\n",
       "array([[[[0.],\n",
       "         [0.],\n",
       "         [0.],\n",
       "         ...,\n",
       "         [0.],\n",
       "         [0.],\n",
       "         [0.]],\n",
       "\n",
       "        [[0.],\n",
       "         [0.],\n",
       "         [0.],\n",
       "         ...,\n",
       "         [0.],\n",
       "         [0.],\n",
       "         [0.]],\n",
       "\n",
       "        [[0.],\n",
       "         [0.],\n",
       "         [0.],\n",
       "         ...,\n",
       "         [0.],\n",
       "         [0.],\n",
       "         [0.]],\n",
       "\n",
       "        ...,\n",
       "\n",
       "        [[0.],\n",
       "         [0.],\n",
       "         [0.],\n",
       "         ...,\n",
       "         [0.],\n",
       "         [0.],\n",
       "         [0.]],\n",
       "\n",
       "        [[0.],\n",
       "         [0.],\n",
       "         [0.],\n",
       "         ...,\n",
       "         [0.],\n",
       "         [0.],\n",
       "         [0.]],\n",
       "\n",
       "        [[0.],\n",
       "         [0.],\n",
       "         [0.],\n",
       "         ...,\n",
       "         [0.],\n",
       "         [0.],\n",
       "         [0.]]],\n",
       "\n",
       "\n",
       "       [[[0.],\n",
       "         [0.],\n",
       "         [0.],\n",
       "         ...,\n",
       "         [0.],\n",
       "         [0.],\n",
       "         [0.]],\n",
       "\n",
       "        [[0.],\n",
       "         [0.],\n",
       "         [0.],\n",
       "         ...,\n",
       "         [0.],\n",
       "         [0.],\n",
       "         [0.]],\n",
       "\n",
       "        [[0.],\n",
       "         [0.],\n",
       "         [0.],\n",
       "         ...,\n",
       "         [0.],\n",
       "         [0.],\n",
       "         [0.]],\n",
       "\n",
       "        ...,\n",
       "\n",
       "        [[0.],\n",
       "         [0.],\n",
       "         [0.],\n",
       "         ...,\n",
       "         [0.],\n",
       "         [0.],\n",
       "         [0.]],\n",
       "\n",
       "        [[0.],\n",
       "         [0.],\n",
       "         [0.],\n",
       "         ...,\n",
       "         [0.],\n",
       "         [0.],\n",
       "         [0.]],\n",
       "\n",
       "        [[0.],\n",
       "         [0.],\n",
       "         [0.],\n",
       "         ...,\n",
       "         [0.],\n",
       "         [0.],\n",
       "         [0.]]],\n",
       "\n",
       "\n",
       "       [[[0.],\n",
       "         [0.],\n",
       "         [0.],\n",
       "         ...,\n",
       "         [0.],\n",
       "         [0.],\n",
       "         [0.]],\n",
       "\n",
       "        [[0.],\n",
       "         [0.],\n",
       "         [0.],\n",
       "         ...,\n",
       "         [0.],\n",
       "         [0.],\n",
       "         [0.]],\n",
       "\n",
       "        [[0.],\n",
       "         [0.],\n",
       "         [0.],\n",
       "         ...,\n",
       "         [0.],\n",
       "         [0.],\n",
       "         [0.]],\n",
       "\n",
       "        ...,\n",
       "\n",
       "        [[0.],\n",
       "         [0.],\n",
       "         [0.],\n",
       "         ...,\n",
       "         [0.],\n",
       "         [0.],\n",
       "         [0.]],\n",
       "\n",
       "        [[0.],\n",
       "         [0.],\n",
       "         [0.],\n",
       "         ...,\n",
       "         [0.],\n",
       "         [0.],\n",
       "         [0.]],\n",
       "\n",
       "        [[0.],\n",
       "         [0.],\n",
       "         [0.],\n",
       "         ...,\n",
       "         [0.],\n",
       "         [0.],\n",
       "         [0.]]],\n",
       "\n",
       "\n",
       "       ...,\n",
       "\n",
       "\n",
       "       [[[0.],\n",
       "         [0.],\n",
       "         [0.],\n",
       "         ...,\n",
       "         [0.],\n",
       "         [0.],\n",
       "         [0.]],\n",
       "\n",
       "        [[0.],\n",
       "         [0.],\n",
       "         [0.],\n",
       "         ...,\n",
       "         [0.],\n",
       "         [0.],\n",
       "         [0.]],\n",
       "\n",
       "        [[0.],\n",
       "         [0.],\n",
       "         [0.],\n",
       "         ...,\n",
       "         [0.],\n",
       "         [0.],\n",
       "         [0.]],\n",
       "\n",
       "        ...,\n",
       "\n",
       "        [[1.],\n",
       "         [1.],\n",
       "         [0.],\n",
       "         ...,\n",
       "         [1.],\n",
       "         [1.],\n",
       "         [1.]],\n",
       "\n",
       "        [[1.],\n",
       "         [0.],\n",
       "         [0.],\n",
       "         ...,\n",
       "         [1.],\n",
       "         [1.],\n",
       "         [1.]],\n",
       "\n",
       "        [[1.],\n",
       "         [1.],\n",
       "         [1.],\n",
       "         ...,\n",
       "         [0.],\n",
       "         [1.],\n",
       "         [1.]]],\n",
       "\n",
       "\n",
       "       [[[0.],\n",
       "         [0.],\n",
       "         [0.],\n",
       "         ...,\n",
       "         [0.],\n",
       "         [0.],\n",
       "         [0.]],\n",
       "\n",
       "        [[0.],\n",
       "         [0.],\n",
       "         [0.],\n",
       "         ...,\n",
       "         [0.],\n",
       "         [0.],\n",
       "         [0.]],\n",
       "\n",
       "        [[0.],\n",
       "         [0.],\n",
       "         [0.],\n",
       "         ...,\n",
       "         [0.],\n",
       "         [0.],\n",
       "         [0.]],\n",
       "\n",
       "        ...,\n",
       "\n",
       "        [[1.],\n",
       "         [1.],\n",
       "         [0.],\n",
       "         ...,\n",
       "         [1.],\n",
       "         [1.],\n",
       "         [1.]],\n",
       "\n",
       "        [[1.],\n",
       "         [0.],\n",
       "         [0.],\n",
       "         ...,\n",
       "         [1.],\n",
       "         [1.],\n",
       "         [1.]],\n",
       "\n",
       "        [[1.],\n",
       "         [1.],\n",
       "         [1.],\n",
       "         ...,\n",
       "         [0.],\n",
       "         [1.],\n",
       "         [1.]]],\n",
       "\n",
       "\n",
       "       [[[0.],\n",
       "         [0.],\n",
       "         [0.],\n",
       "         ...,\n",
       "         [0.],\n",
       "         [0.],\n",
       "         [0.]],\n",
       "\n",
       "        [[0.],\n",
       "         [0.],\n",
       "         [0.],\n",
       "         ...,\n",
       "         [0.],\n",
       "         [0.],\n",
       "         [0.]],\n",
       "\n",
       "        [[0.],\n",
       "         [0.],\n",
       "         [0.],\n",
       "         ...,\n",
       "         [0.],\n",
       "         [0.],\n",
       "         [0.]],\n",
       "\n",
       "        ...,\n",
       "\n",
       "        [[1.],\n",
       "         [1.],\n",
       "         [0.],\n",
       "         ...,\n",
       "         [1.],\n",
       "         [1.],\n",
       "         [1.]],\n",
       "\n",
       "        [[1.],\n",
       "         [0.],\n",
       "         [0.],\n",
       "         ...,\n",
       "         [1.],\n",
       "         [1.],\n",
       "         [1.]],\n",
       "\n",
       "        [[1.],\n",
       "         [1.],\n",
       "         [1.],\n",
       "         ...,\n",
       "         [0.],\n",
       "         [1.],\n",
       "         [1.]]]], dtype=float32)>"
      ]
     },
     "execution_count": 17,
     "metadata": {},
     "output_type": "execute_result"
    }
   ],
   "source": [
    "episode_boards"
   ]
  },
  {
   "cell_type": "code",
   "execution_count": 117,
   "id": "56c7135c-9024-46c4-93fe-db78a6b940da",
   "metadata": {},
   "outputs": [],
   "source": [
    "advantages, returns = trainer._compute_gae(episode_values, episode_rewards, gamma, lam)"
   ]
  },
  {
   "cell_type": "code",
   "execution_count": 118,
   "id": "bd4a63e9-5a01-49da-9e6c-d876c9b6fc95",
   "metadata": {},
   "outputs": [
    {
     "data": {
      "text/plain": [
       "[<matplotlib.lines.Line2D at 0x270a31684c0>]"
      ]
     },
     "execution_count": 118,
     "metadata": {},
     "output_type": "execute_result"
    }
   ],
   "source": [
    "plt.plot(returns)"
   ]
  },
  {
   "cell_type": "code",
   "execution_count": 45,
   "id": "282a6252-ea77-421b-8502-1e442d92afde",
   "metadata": {},
   "outputs": [
    {
     "data": {
      "text/plain": [
       "[<matplotlib.lines.Line2D at 0x27069d08f10>]"
      ]
     },
     "execution_count": 45,
     "metadata": {},
     "output_type": "execute_result"
    }
   ],
   "source": [
    "plt.plot(episode_rewards)"
   ]
  },
  {
   "cell_type": "code",
   "execution_count": 120,
   "id": "91648dc5-122a-4945-b0d7-620977f3d150",
   "metadata": {},
   "outputs": [
    {
     "data": {
      "text/plain": [
       "[<matplotlib.lines.Line2D at 0x2707c983e20>]"
      ]
     },
     "execution_count": 120,
     "metadata": {},
     "output_type": "execute_result"
    }
   ],
   "source": [
    "plt.plot(advantages)"
   ]
  },
  {
   "cell_type": "code",
   "execution_count": 119,
   "id": "f53d7301-5926-49b9-881f-231ae4d08f2d",
   "metadata": {},
   "outputs": [
    {
     "data": {
      "text/plain": [
       "[<matplotlib.lines.Line2D at 0x2709f012e80>]"
      ]
     },
     "execution_count": 119,
     "metadata": {},
     "output_type": "execute_result"
    }
   ],
   "source": [
    "plt.plot(episode_values)"
   ]
  },
  {
   "cell_type": "code",
   "execution_count": 121,
   "id": "cf260c71-20a1-4471-8a56-afa1a297eec5",
   "metadata": {},
   "outputs": [],
   "source": [
    "dset = trainer.replay_buffer.as_dataset(\n",
    "    sample_batch_size=128,\n",
    "    num_parallel_calls=tf.data.AUTOTUNE\n",
    ").prefetch(tf.data.AUTOTUNE)"
   ]
  },
  {
   "cell_type": "code",
   "execution_count": 122,
   "id": "fec684ee-1d04-4c80-bef0-47eaac8b9b2a",
   "metadata": {},
   "outputs": [
    {
     "name": "stdout",
     "output_type": "stream",
     "text": [
      "tf.Tensor([11  2  7  2  0  0  0  0  0  0  0  0  0  0  0  0  0  0  0  0  0  0], shape=(22,), dtype=int32) tf.Tensor([8], shape=(1,), dtype=int32) tf.Tensor([-0.24575135], shape=(1,), dtype=float32) tf.Tensor([0.86595696], shape=(1,), dtype=float32) tf.Tensor([6.445074], shape=(1,), dtype=float32)\n"
     ]
    }
   ],
   "source": [
    "for ((board_batch, piece_batch, input_batch, action_batch, old_probs, advantage_batch, return_batch), _) in dset.take(1):\n",
    "    advantage_batch = (advantage_batch - tf.reduce_mean(advantage_batch)) / (tf.math.reduce_std(advantage_batch) + 1e-10)\n",
    "    print(input_batch[0], action_batch[0], old_probs[0], advantage_batch[0], return_batch[0])"
   ]
  },
  {
   "cell_type": "code",
   "execution_count": 123,
   "id": "a017d72a-2bbe-4005-9c97-61bb65343216",
   "metadata": {},
   "outputs": [],
   "source": [
    "seq_inds = (tf.reduce_sum(tf.cast(input_batch != 0, tf.int32), axis=-1) - 1)\n",
    "prob_inds = tf.concat([seq_inds[..., None], action_batch], axis=-1)"
   ]
  },
  {
   "cell_type": "code",
   "execution_count": 136,
   "id": "89887016-b031-4440-9621-00c673722fa1",
   "metadata": {},
   "outputs": [],
   "source": [
    "board_rep, _ = trainer.model.process_board((board_batch, piece_batch), training=False)\n",
    "logits, _ = trainer.model.process_keys((board_rep, input_batch), training=True)"
   ]
  },
  {
   "cell_type": "code",
   "execution_count": 137,
   "id": "90963b57-2dc9-4a00-8446-2e682b98954b",
   "metadata": {},
   "outputs": [],
   "source": [
    "action_probs = tf.nn.log_softmax(logits, axis=-1)\n",
    "                \n",
    "new_probs = tf.gather_nd(action_probs,\n",
    "                         prob_inds,\n",
    "                         batch_dims=1)[..., None]"
   ]
  },
  {
   "cell_type": "code",
   "execution_count": 126,
   "id": "4091ab72-e623-4d42-a043-2f1483a53a1e",
   "metadata": {},
   "outputs": [
    {
     "data": {
      "text/plain": [
       "(<tf.Tensor: shape=(1,), dtype=float32, numpy=array([0.9982408], dtype=float32)>,\n",
       " <tf.Tensor: shape=(1,), dtype=float32, numpy=array([0.78211665], dtype=float32)>)"
      ]
     },
     "execution_count": 126,
     "metadata": {},
     "output_type": "execute_result"
    }
   ],
   "source": [
    "tf.exp(new_probs[0]), tf.exp(old_probs[0])"
   ]
  },
  {
   "cell_type": "code",
   "execution_count": 134,
   "id": "20b70140-58eb-4434-8b8f-b7ba740ab6ec",
   "metadata": {},
   "outputs": [
    {
     "name": "stdout",
     "output_type": "stream",
     "text": [
      "-0.06052038073539734 0.0413806848227977755"
     ]
    }
   ],
   "source": [
    "for _ in range(1000):\n",
    "    al, cl = trainer._ppo_train_step(board_batch, piece_batch, input_batch, action_batch, old_probs, advantage_batch, return_batch, True)\n",
    "    print(f'\\r{al} {cl}', end='', flush=True)"
   ]
  },
  {
   "cell_type": "code",
   "execution_count": 138,
   "id": "7b388e17-38d4-467d-8667-d3e362697999",
   "metadata": {},
   "outputs": [
    {
     "data": {
      "text/plain": [
       "<tf.Tensor: shape=(1,), dtype=float32, numpy=array([0.9998647], dtype=float32)>"
      ]
     },
     "execution_count": 138,
     "metadata": {},
     "output_type": "execute_result"
    }
   ],
   "source": [
    "tf.exp(new_probs[0])"
   ]
  },
  {
   "cell_type": "code",
   "execution_count": 73,
   "id": "abb71602-932c-47e5-b5b9-d1adf46a6209",
   "metadata": {},
   "outputs": [
    {
     "data": {
      "text/plain": [
       "<tf.Tensor: shape=(1,), dtype=float32, numpy=array([-0.77510875], dtype=float32)>"
      ]
     },
     "execution_count": 73,
     "metadata": {},
     "output_type": "execute_result"
    }
   ],
   "source": [
    "advantage_batch[0]"
   ]
  },
  {
   "cell_type": "code",
   "execution_count": 75,
   "id": "d845be89-3422-44a4-b456-82adc6dbabef",
   "metadata": {},
   "outputs": [
    {
     "data": {
      "text/plain": [
       "<tf.Tensor: shape=(1,), dtype=float32, numpy=array([4.9843183], dtype=float32)>"
      ]
     },
     "execution_count": 75,
     "metadata": {},
     "output_type": "execute_result"
    }
   ],
   "source": [
    "return_batch[0]"
   ]
  },
  {
   "cell_type": "code",
   "execution_count": 139,
   "id": "fd345601-8d56-4f49-a775-b2d963b77213",
   "metadata": {},
   "outputs": [
    {
     "data": {
      "text/plain": [
       "1.2763323731824403"
      ]
     },
     "execution_count": 139,
     "metadata": {},
     "output_type": "execute_result"
    }
   ],
   "source": [
    "0.9982408 / 0.78211665"
   ]
  },
  {
   "cell_type": "code",
   "execution_count": 25,
   "id": "cd805809-6235-4e16-86e1-994c3b29cf4c",
   "metadata": {},
   "outputs": [],
   "source": [
    "logits = tf.random.uniform((32, 20, 10))"
   ]
  },
  {
   "cell_type": "code",
   "execution_count": 31,
   "id": "12f74f17-2169-45d3-a11f-e9567349c3a6",
   "metadata": {},
   "outputs": [
    {
     "data": {
      "text/plain": [
       "<tf.Tensor: shape=(32, 20, 10), dtype=float32, numpy=\n",
       "array([[[-2.8474317, -2.0701065, -2.2764716, ..., -2.5013475,\n",
       "         -2.259903 , -2.776818 ],\n",
       "        [-2.1819293, -2.2409906, -2.6492786, ..., -2.1213238,\n",
       "         -2.8047776, -2.041637 ],\n",
       "        [-2.399289 , -2.585085 , -1.8766233, ..., -2.5774498,\n",
       "         -2.5489883, -1.8178211],\n",
       "        ...,\n",
       "        [-2.076394 , -2.1778827, -2.2622313, ..., -1.9148115,\n",
       "         -2.4658272, -2.5965772],\n",
       "        [-2.0865836, -2.792211 , -2.810768 , ..., -1.9355419,\n",
       "         -2.6346402, -2.773929 ],\n",
       "        [-2.765492 , -2.6839004, -2.5387888, ..., -2.179572 ,\n",
       "         -2.5808856, -1.9415395]],\n",
       "\n",
       "       [[-2.25219  , -2.50855  , -2.1342962, ..., -2.0830631,\n",
       "         -2.9577503, -2.603734 ],\n",
       "        [-2.2969275, -2.3016016, -2.449213 , ..., -2.3447266,\n",
       "         -2.6452994, -2.2275047],\n",
       "        [-2.063203 , -2.344955 , -1.9029124, ..., -1.9917884,\n",
       "         -2.5423703, -2.8087802],\n",
       "        ...,\n",
       "        [-2.6587498, -2.0067294, -2.1645055, ..., -2.1791115,\n",
       "         -2.0468473, -2.4759111],\n",
       "        [-1.9530013, -2.5052834, -2.117732 , ..., -2.135067 ,\n",
       "         -2.3261814, -2.7584443],\n",
       "        [-2.370665 , -1.9787282, -2.2429032, ..., -2.6635902,\n",
       "         -2.1499443, -1.9982802]],\n",
       "\n",
       "       [[-2.1946974, -2.264082 , -2.6899695, ..., -2.4378095,\n",
       "         -2.2481484, -2.276667 ],\n",
       "        [-1.9679236, -2.570365 , -2.4472055, ..., -2.6243255,\n",
       "         -2.4892557, -2.4219508],\n",
       "        [-2.1285882, -2.3303885, -2.5997012, ..., -2.293477 ,\n",
       "         -2.1362169, -2.6637242],\n",
       "        ...,\n",
       "        [-1.9890707, -2.4413667, -2.0350518, ..., -2.0513172,\n",
       "         -2.858695 , -2.6178236],\n",
       "        [-2.3458977, -2.7428555, -2.041339 , ..., -2.2704234,\n",
       "         -2.2859082, -2.1912158],\n",
       "        [-2.1182108, -2.4016404, -2.87983  , ..., -2.164244 ,\n",
       "         -2.347514 , -2.0496097]],\n",
       "\n",
       "       ...,\n",
       "\n",
       "       [[-2.779734 , -2.254981 , -2.021179 , ..., -2.1853337,\n",
       "         -2.593255 , -2.8461127],\n",
       "        [-2.4912088, -2.6420293, -1.989711 , ..., -1.86187  ,\n",
       "         -2.6415496, -2.6763525],\n",
       "        [-2.4520931, -2.143195 , -2.4771194, ..., -2.4644194,\n",
       "         -2.699322 , -2.2039351],\n",
       "        ...,\n",
       "        [-1.9560736, -2.6060286, -2.1992989, ..., -1.9448128,\n",
       "         -2.1497984, -2.4098268],\n",
       "        [-2.533721 , -2.3098245, -2.2958047, ..., -2.1973271,\n",
       "         -2.103726 , -2.7712243],\n",
       "        [-2.4498558, -2.0624413, -2.4535303, ..., -1.9628564,\n",
       "         -1.8868914, -2.5290751]],\n",
       "\n",
       "       [[-2.125298 , -2.1284122, -2.3586357, ..., -2.8847346,\n",
       "         -2.3917031, -2.7029953],\n",
       "        [-2.0464563, -2.274959 , -2.799255 , ..., -2.2969718,\n",
       "         -2.4258752, -1.8725481],\n",
       "        [-2.7911036, -2.1834002, -2.542992 , ..., -2.7367296,\n",
       "         -2.1998098, -2.576136 ],\n",
       "        ...,\n",
       "        [-2.0113406, -2.3922615, -1.9539244, ..., -2.6656787,\n",
       "         -2.1466765, -2.3985329],\n",
       "        [-2.5380468, -2.3246143, -2.6404412, ..., -2.3268614,\n",
       "         -1.9664936, -2.5439425],\n",
       "        [-2.6565804, -1.9386122, -1.9481062, ..., -1.975541 ,\n",
       "         -2.74848  , -2.2810016]],\n",
       "\n",
       "       [[-2.0886524, -2.828673 , -2.5378451, ..., -2.5671706,\n",
       "         -2.0655465, -2.2126331],\n",
       "        [-2.0123334, -2.3989906, -2.436202 , ..., -2.3582852,\n",
       "         -2.3533654, -2.2416964],\n",
       "        [-2.476344 , -2.0543883, -2.6935716, ..., -2.400012 ,\n",
       "         -2.6288185, -2.2185493],\n",
       "        ...,\n",
       "        [-2.4921448, -2.2673163, -2.259865 , ..., -2.0622203,\n",
       "         -2.276217 , -2.208389 ],\n",
       "        [-2.7343752, -2.1782446, -2.4218864, ..., -2.2898502,\n",
       "         -1.9830471, -2.3854203],\n",
       "        [-2.0196123, -2.6248217, -2.3944795, ..., -2.4716282,\n",
       "         -2.204986 , -2.3493915]]], dtype=float32)>"
      ]
     },
     "execution_count": 31,
     "metadata": {},
     "output_type": "execute_result"
    }
   ],
   "source": [
    "probs = tf.nn.log_softmax(logits, axis=-1)\n",
    "probs"
   ]
  },
  {
   "cell_type": "code",
   "execution_count": 45,
   "id": "c31dce85-bddd-41ed-b437-402a313f9413",
   "metadata": {},
   "outputs": [
    {
     "data": {
      "text/plain": [
       "<tf.Tensor: shape=(32, 10), dtype=float32, numpy=\n",
       "array([[0., 1., 0., 0., 0., 0., 0., 0., 0., 0.],\n",
       "       [0., 0., 0., 0., 0., 0., 0., 0., 0., 1.],\n",
       "       [0., 1., 0., 0., 0., 0., 0., 0., 0., 0.],\n",
       "       [1., 0., 0., 0., 0., 0., 0., 0., 0., 0.],\n",
       "       [0., 0., 0., 0., 0., 0., 0., 1., 0., 0.],\n",
       "       [0., 0., 0., 0., 0., 0., 1., 0., 0., 0.],\n",
       "       [0., 0., 0., 0., 0., 0., 0., 1., 0., 0.],\n",
       "       [0., 0., 0., 0., 0., 0., 0., 0., 1., 0.],\n",
       "       [1., 0., 0., 0., 0., 0., 0., 0., 0., 0.],\n",
       "       [0., 0., 0., 0., 0., 0., 0., 0., 0., 1.],\n",
       "       [1., 0., 0., 0., 0., 0., 0., 0., 0., 0.],\n",
       "       [0., 0., 0., 0., 0., 1., 0., 0., 0., 0.],\n",
       "       [1., 0., 0., 0., 0., 0., 0., 0., 0., 0.],\n",
       "       [0., 0., 1., 0., 0., 0., 0., 0., 0., 0.],\n",
       "       [0., 0., 0., 0., 0., 1., 0., 0., 0., 0.],\n",
       "       [0., 0., 0., 0., 0., 0., 1., 0., 0., 0.],\n",
       "       [0., 0., 0., 0., 0., 1., 0., 0., 0., 0.],\n",
       "       [0., 0., 0., 0., 0., 1., 0., 0., 0., 0.],\n",
       "       [0., 0., 0., 0., 0., 1., 0., 0., 0., 0.],\n",
       "       [0., 0., 0., 1., 0., 0., 0., 0., 0., 0.],\n",
       "       [0., 0., 0., 0., 1., 0., 0., 0., 0., 0.],\n",
       "       [0., 0., 0., 0., 0., 0., 0., 0., 1., 0.],\n",
       "       [0., 1., 0., 0., 0., 0., 0., 0., 0., 0.],\n",
       "       [0., 0., 0., 0., 0., 0., 0., 1., 0., 0.],\n",
       "       [0., 1., 0., 0., 0., 0., 0., 0., 0., 0.],\n",
       "       [0., 0., 0., 0., 0., 0., 0., 0., 0., 1.],\n",
       "       [0., 0., 0., 0., 0., 0., 0., 1., 0., 0.],\n",
       "       [0., 0., 0., 0., 1., 0., 0., 0., 0., 0.],\n",
       "       [0., 0., 0., 0., 1., 0., 0., 0., 0., 0.],\n",
       "       [0., 0., 1., 0., 0., 0., 0., 0., 0., 0.],\n",
       "       [0., 0., 0., 0., 0., 0., 0., 1., 0., 0.],\n",
       "       [0., 0., 0., 0., 1., 0., 0., 0., 0., 0.]], dtype=float32)>"
      ]
     },
     "execution_count": 45,
     "metadata": {},
     "output_type": "execute_result"
    }
   ],
   "source": [
    "action_batch = tf.random.uniform((32,), minval=0, maxval=10, dtype=tf.int32)\n",
    "onehot_action = tf.one_hot(action_batch, depth=tf.shape(logits)[-1])\n",
    "onehot_action"
   ]
  },
  {
   "cell_type": "code",
   "execution_count": 35,
   "id": "2ff6c38f-308a-4184-abd8-7fb40cb7578b",
   "metadata": {},
   "outputs": [
    {
     "data": {
      "text/plain": [
       "<tf.Tensor: shape=(32,), dtype=int32, numpy=\n",
       "array([2, 5, 7, 8, 8, 1, 3, 6, 9, 1, 4, 5, 6, 7, 0, 0, 1, 3, 8, 4, 1, 2,\n",
       "       7, 0, 6, 3, 1, 6, 3, 4, 0, 8])>"
      ]
     },
     "execution_count": 35,
     "metadata": {},
     "output_type": "execute_result"
    }
   ],
   "source": [
    "seq_inds = tf.random.uniform((32,), minval=0, maxval=10, dtype=tf.int32)\n",
    "seq_inds"
   ]
  },
  {
   "cell_type": "code",
   "execution_count": 47,
   "id": "49181d45-1c7a-4e65-b9b0-bb71ff289571",
   "metadata": {},
   "outputs": [
    {
     "data": {
      "text/plain": [
       "<tf.Tensor: shape=(32, 10), dtype=float32, numpy=\n",
       "array([[-2.399289 , -2.585085 , -1.8766233, -2.4650073, -2.2722216,\n",
       "        -2.4353032, -2.4241667, -2.5774498, -2.5489883, -1.8178211],\n",
       "       [-2.4900026, -2.4219108, -2.0497487, -2.1943913, -2.0502162,\n",
       "        -2.6785069, -2.9249504, -2.102774 , -2.2998223, -2.1653404],\n",
       "       [-2.1992893, -1.9588264, -2.0173807, -2.2239194, -2.6462994,\n",
       "        -2.351708 , -2.6388388, -2.815093 , -2.1348305, -2.39493  ],\n",
       "       [-2.4035823, -2.295262 , -2.1989946, -2.3324962, -2.6579607,\n",
       "        -2.6402154, -2.3755116, -2.0971327, -1.8065579, -2.5323343],\n",
       "       [-2.3619146, -2.085748 , -2.506484 , -2.6952672, -2.5583549,\n",
       "        -2.158152 , -1.9112043, -2.7207751, -2.152563 , -2.2110543],\n",
       "       [-2.3760242, -2.6681528, -2.2393785, -2.3036046, -2.6329813,\n",
       "        -2.043459 , -2.2097383, -2.088285 , -2.7038596, -2.0459404],\n",
       "       [-2.5935059, -2.3720427, -2.7251616, -1.9696401, -1.9857353,\n",
       "        -2.7039323, -2.0769696, -2.4702744, -2.689435 , -1.9317238],\n",
       "       [-2.2743506, -2.3808422, -2.4967299, -2.0037932, -2.5233464,\n",
       "        -2.5848517, -2.4071908, -2.2370062, -2.014729 , -2.2858582],\n",
       "       [-2.5781317, -2.0028276, -2.5318644, -2.5547717, -1.8991331,\n",
       "        -2.7620354, -1.8923137, -2.6216373, -2.1915483, -2.478141 ],\n",
       "       [-2.565428 , -2.1251655, -2.6143684, -2.2605124, -2.5337765,\n",
       "        -2.0762405, -2.3184397, -2.217746 , -2.6846318, -1.9248174],\n",
       "       [-2.6786397, -1.816155 , -2.0340085, -2.326088 , -2.415608 ,\n",
       "        -2.6309204, -2.7481022, -2.535923 , -1.9032325, -2.4469478],\n",
       "       [-2.12091  , -2.5125883, -2.2395723, -2.48217  , -1.9573673,\n",
       "        -1.9604976, -2.6186147, -2.2136078, -2.803451 , -2.4754448],\n",
       "       [-2.0410302, -2.3009195, -2.515256 , -2.0696275, -2.3213434,\n",
       "        -2.4710288, -2.4096732, -2.4498348, -2.4085274, -2.1704726],\n",
       "       [-2.813623 , -2.8659635, -2.7931929, -1.9002376, -1.9897742,\n",
       "        -2.1309705, -2.2107108, -2.0981746, -2.6835194, -2.1519902],\n",
       "       [-2.23587  , -2.3653517, -2.7242994, -2.2123284, -2.5595999,\n",
       "        -2.6915832, -2.117755 , -1.7761399, -2.7049174, -2.0990717],\n",
       "       [-2.6826725, -2.6006942, -2.3306856, -2.1796453, -2.127771 ,\n",
       "        -2.8260057, -2.4706903, -2.0370398, -1.9360046, -2.2116883],\n",
       "       [-1.9289688, -2.7723966, -2.727691 , -2.3834534, -2.3864942,\n",
       "        -2.154636 , -2.6489239, -2.6170526, -2.0101001, -1.904002 ],\n",
       "       [-2.2122707, -2.4765515, -2.601866 , -2.1741252, -1.9395475,\n",
       "        -2.0437927, -2.6440492, -2.6380372, -2.632707 , -2.0332494],\n",
       "       [-2.575046 , -2.4171917, -2.70085  , -2.3133612, -2.3711863,\n",
       "        -1.7934958, -2.106228 , -2.0831456, -2.6782455, -2.365137 ],\n",
       "       [-2.0336366, -2.146736 , -2.3958673, -2.6706214, -1.9317415,\n",
       "        -2.2137184, -2.2319996, -2.6149302, -2.594635 , -2.493448 ],\n",
       "       [-2.0099037, -1.9559585, -2.6292176, -2.7765183, -2.5151324,\n",
       "        -2.8032045, -1.945907 , -2.153776 , -2.071076 , -2.7526402],\n",
       "       [-2.1647768, -2.34419  , -2.058044 , -2.2965875, -2.5494456,\n",
       "        -2.609027 , -2.1046624, -2.4064622, -2.470193 , -2.1832528],\n",
       "       [-2.5604649, -2.5441346, -2.3117366, -2.2985096, -1.8645421,\n",
       "        -2.6740532, -2.1921172, -2.5385978, -2.5922365, -1.8627573],\n",
       "       [-1.9653522, -2.7717233, -1.9943188, -2.4814126, -2.130953 ,\n",
       "        -2.0194736, -2.4854913, -2.592804 , -2.8276277, -2.2172246],\n",
       "       [-2.1792169, -2.480032 , -2.2631044, -2.1606507, -2.3209405,\n",
       "        -2.1361136, -2.8005128, -2.1943207, -2.2760525, -2.3788598],\n",
       "       [-1.9698833, -2.498784 , -2.4537766, -2.0594826, -2.8314538,\n",
       "        -1.9803752, -2.3265543, -2.559628 , -2.555326 , -2.1604152],\n",
       "       [-2.5516417, -2.6355746, -2.429738 , -1.9471071, -2.0778732,\n",
       "        -2.4145021, -2.5490336, -2.606083 , -2.1982021, -1.9517055],\n",
       "       [-1.9753658, -2.5567703, -2.682097 , -2.4544318, -1.7262383,\n",
       "        -2.510518 , -2.469582 , -2.3530955, -2.1604896, -2.586792 ],\n",
       "       [-2.0017204, -2.0980458, -2.737142 , -2.7353654, -2.5333872,\n",
       "        -2.4962697, -2.180457 , -2.562696 , -2.167972 , -1.9221061],\n",
       "       [-2.4913092, -2.3563364, -2.3450284, -2.0896273, -2.3823338,\n",
       "        -2.477665 , -2.1908808, -2.4202833, -2.4776876, -1.952432 ],\n",
       "       [-2.125298 , -2.1284122, -2.3586357, -2.2796674, -1.8970696,\n",
       "        -2.5509336, -2.1009107, -2.8847346, -2.3917031, -2.7029953],\n",
       "       [-2.6994677, -1.8950709, -2.4286733, -1.8322823, -2.6111057,\n",
       "        -2.6293426, -1.9822934, -2.746303 , -2.1271708, -2.6944616]],\n",
       "      dtype=float32)>"
      ]
     },
     "execution_count": 47,
     "metadata": {},
     "output_type": "execute_result"
    }
   ],
   "source": [
    "tf.gather(probs,\n",
    "          seq_inds,\n",
    "          batch_dims=1)"
   ]
  },
  {
   "cell_type": "code",
   "execution_count": 64,
   "id": "c93abbda-ee5b-4094-8335-ee6e85efcf5a",
   "metadata": {},
   "outputs": [],
   "source": [
    "log_probs = tf.nn.log_softmax([3., 3, 3, 3])"
   ]
  },
  {
   "cell_type": "code",
   "execution_count": 65,
   "id": "9ddb7b53-5290-44c3-9960-4e8e41116008",
   "metadata": {},
   "outputs": [
    {
     "data": {
      "text/plain": [
       "<tf.Tensor: shape=(), dtype=float32, numpy=-1.3862944>"
      ]
     },
     "execution_count": 65,
     "metadata": {},
     "output_type": "execute_result"
    }
   ],
   "source": [
    "tf.reduce_sum(log_probs * tf.exp(log_probs))"
   ]
  },
  {
   "cell_type": "code",
   "execution_count": null,
   "id": "98cac763-7148-4219-b94d-1a6b9a8e90c9",
   "metadata": {},
   "outputs": [],
   "source": []
  }
 ],
 "metadata": {
  "kernelspec": {
   "display_name": "Python 3 (ipykernel)",
   "language": "python",
   "name": "python3"
  },
  "language_info": {
   "codemirror_mode": {
    "name": "ipython",
    "version": 3
   },
   "file_extension": ".py",
   "mimetype": "text/x-python",
   "name": "python",
   "nbconvert_exporter": "python",
   "pygments_lexer": "ipython3",
   "version": "3.9.18"
  }
 },
 "nbformat": 4,
 "nbformat_minor": 5
}
