{
 "cells": [
  {
   "cell_type": "code",
   "execution_count": 1,
   "id": "797beb80-8e0a-4d07-b77f-67e60a000e8a",
   "metadata": {},
   "outputs": [],
   "source": [
    "from Player import Player\n",
    "from Trainer import Trainer\n",
    "from TetrisModel import TetrisModel\n",
    "from Pretrainer import Pretrainer\n",
    "import tensorflow as tf\n",
    "from tensorflow import keras\n",
    "from tensorflow.keras import backend as K\n",
    "import matplotlib.pyplot as plt\n",
    "import pickle\n",
    "import glob\n",
    "import time"
   ]
  },
  {
   "cell_type": "code",
   "execution_count": 2,
   "id": "b489fac7-4661-4921-bf2f-c27b77d68308",
   "metadata": {},
   "outputs": [],
   "source": [
    "piece_dim = 8\n",
    "key_dim = 12\n",
    "depth = 32\n",
    "gamma = 0.9\n",
    "lam = 0.95\n",
    "temperature = 1.0"
   ]
  },
  {
   "cell_type": "code",
   "execution_count": 3,
   "id": "18e02bc9-ddfa-4da9-9186-26d1a6ddbc17",
   "metadata": {},
   "outputs": [],
   "source": [
    "# pretrainer = Pretrainer(gamma=gamma)"
   ]
  },
  {
   "cell_type": "code",
   "execution_count": 4,
   "id": "3f55a2a7-a685-4e03-bf63-32ca62b49a84",
   "metadata": {},
   "outputs": [],
   "source": [
    "# players_data = pretrainer._load_data()"
   ]
  },
  {
   "cell_type": "code",
   "execution_count": 5,
   "id": "89477f84-bf5f-4ae2-bc25-88e464c0c7a7",
   "metadata": {},
   "outputs": [],
   "source": [
    "# pretrainer._load_dset(players_data)"
   ]
  },
  {
   "cell_type": "code",
   "execution_count": 6,
   "id": "2bb7200b-3bd1-4c89-a760-ae040a0993f5",
   "metadata": {},
   "outputs": [],
   "source": [
    "# max_len = pretrainer._max_len\n",
    "max_len = 10"
   ]
  },
  {
   "cell_type": "code",
   "execution_count": 7,
   "id": "1c086f18-2d08-4af8-8072-06bb186463bf",
   "metadata": {},
   "outputs": [],
   "source": [
    "# gt_dset = pretrainer._cache_dset()"
   ]
  },
  {
   "cell_type": "code",
   "execution_count": 8,
   "id": "f98471d2-7bdc-41d1-82c1-ec09f752b5b6",
   "metadata": {},
   "outputs": [],
   "source": [
    "agent = TetrisModel(piece_dim=piece_dim,\n",
    "                    key_dim=key_dim,\n",
    "                    depth=depth,\n",
    "                    num_heads=4,\n",
    "                    num_layers=4,\n",
    "                    max_length=max_len,\n",
    "                    out_dim=key_dim)"
   ]
  },
  {
   "cell_type": "code",
   "execution_count": 9,
   "id": "2e2ee521-f5c4-49b3-ab1f-149b3cfd23f2",
   "metadata": {},
   "outputs": [],
   "source": [
    "agent_optimizer = keras.optimizers.Adam(1e-5, clipnorm=1.5)\n",
    "agent.compile(optimizer=agent_optimizer)"
   ]
  },
  {
   "cell_type": "code",
   "execution_count": 10,
   "id": "e164709b-c4b7-4335-b3d2-c92fa2460936",
   "metadata": {},
   "outputs": [
    {
     "name": "stdout",
     "output_type": "stream",
     "text": [
      "Model: \"tetris_model\"\n",
      "_________________________________________________________________\n",
      " Layer (type)                Output Shape              Param #   \n",
      "=================================================================\n",
      " sequential (Sequential)     (32, 70, 32)              37312     \n",
      "                                                                 \n",
      " seq_embedding (SeqEmbedding  multiple                 256       \n",
      " )                                                               \n",
      "                                                                 \n",
      " seq_embedding_1 (SeqEmbeddi  multiple                 384       \n",
      " ng)                                                             \n",
      "                                                                 \n",
      " piece_dec_0 (DecoderLayer)  multiple                  37984     \n",
      "                                                                 \n",
      " piece_dec_1 (DecoderLayer)  multiple                  37984     \n",
      "                                                                 \n",
      " piece_dec_2 (DecoderLayer)  multiple                  37984     \n",
      "                                                                 \n",
      " piece_dec_3 (DecoderLayer)  multiple                  37984     \n",
      "                                                                 \n",
      " key_dec_0 (DecoderLayer)    multiple                  37984     \n",
      "                                                                 \n",
      " key_dec_1 (DecoderLayer)    multiple                  37984     \n",
      "                                                                 \n",
      " key_dec_2 (DecoderLayer)    multiple                  37984     \n",
      "                                                                 \n",
      " key_dec_3 (DecoderLayer)    multiple                  37984     \n",
      "                                                                 \n",
      " model_top (Dense)           multiple                  396       \n",
      "                                                                 \n",
      "=================================================================\n",
      "Total params: 342,220\n",
      "Trainable params: 342,220\n",
      "Non-trainable params: 0\n",
      "_________________________________________________________________\n"
     ]
    },
    {
     "data": {
      "text/plain": [
       "(None,\n",
       " <tf.Tensor: shape=(3,), dtype=int32, numpy=array([32, 10, 12])>,\n",
       " <tf.Tensor: shape=(5,), dtype=int32, numpy=array([ 4, 32,  4,  7, 70])>,\n",
       " <tf.Tensor: shape=(5,), dtype=int32, numpy=array([ 4, 32,  4, 10,  7])>)"
      ]
     },
     "execution_count": 10,
     "metadata": {},
     "output_type": "execute_result"
    }
   ],
   "source": [
    "logits, piece_scores, key_scores = agent((tf.random.uniform((32, 28, 10, 1)),\n",
    "                                          tf.random.uniform((32, 7), minval=0, maxval=8, dtype=tf.int32),\n",
    "                                          tf.random.uniform((32, max_len), minval=0, maxval=key_dim, dtype=tf.int32)), return_scores=True)\n",
    "agent.summary(), tf.shape(logits), tf.shape(piece_scores), tf.shape(key_scores)"
   ]
  },
  {
   "cell_type": "code",
   "execution_count": 11,
   "id": "6d393408-7d44-4907-b253-8cf2178ac84d",
   "metadata": {},
   "outputs": [],
   "source": [
    "critic = TetrisModel(piece_dim=piece_dim,\n",
    "                     key_dim=key_dim,\n",
    "                     depth=depth,\n",
    "                     num_heads=4,\n",
    "                     num_layers=4,\n",
    "                     max_length=max_len,\n",
    "                     out_dim=1)"
   ]
  },
  {
   "cell_type": "code",
   "execution_count": 12,
   "id": "8209a038-3b17-40e4-bdfa-d8ff3c8a7248",
   "metadata": {},
   "outputs": [],
   "source": [
    "critic_optimizer = keras.optimizers.Adam(1e-5, clipnorm=1.5)\n",
    "critic.compile(optimizer=critic_optimizer)"
   ]
  },
  {
   "cell_type": "code",
   "execution_count": 13,
   "id": "53d1d4e9-760b-47b0-948d-15010c16f820",
   "metadata": {},
   "outputs": [
    {
     "name": "stdout",
     "output_type": "stream",
     "text": [
      "Model: \"tetris_model_1\"\n",
      "_________________________________________________________________\n",
      " Layer (type)                Output Shape              Param #   \n",
      "=================================================================\n",
      " sequential_9 (Sequential)   (32, 70, 32)              37312     \n",
      "                                                                 \n",
      " seq_embedding_2 (SeqEmbeddi  multiple                 256       \n",
      " ng)                                                             \n",
      "                                                                 \n",
      " seq_embedding_3 (SeqEmbeddi  multiple                 384       \n",
      " ng)                                                             \n",
      "                                                                 \n",
      " piece_dec_0 (DecoderLayer)  multiple                  37984     \n",
      "                                                                 \n",
      " piece_dec_1 (DecoderLayer)  multiple                  37984     \n",
      "                                                                 \n",
      " piece_dec_2 (DecoderLayer)  multiple                  37984     \n",
      "                                                                 \n",
      " piece_dec_3 (DecoderLayer)  multiple                  37984     \n",
      "                                                                 \n",
      " key_dec_0 (DecoderLayer)    multiple                  37984     \n",
      "                                                                 \n",
      " key_dec_1 (DecoderLayer)    multiple                  37984     \n",
      "                                                                 \n",
      " key_dec_2 (DecoderLayer)    multiple                  37984     \n",
      "                                                                 \n",
      " key_dec_3 (DecoderLayer)    multiple                  37984     \n",
      "                                                                 \n",
      " model_top (Dense)           multiple                  33        \n",
      "                                                                 \n",
      "=================================================================\n",
      "Total params: 341,857\n",
      "Trainable params: 341,857\n",
      "Non-trainable params: 0\n",
      "_________________________________________________________________\n"
     ]
    },
    {
     "data": {
      "text/plain": [
       "(None,\n",
       " <tf.Tensor: shape=(3,), dtype=int32, numpy=array([32, 10,  1])>,\n",
       " <tf.Tensor: shape=(5,), dtype=int32, numpy=array([ 4, 32,  4,  7, 70])>,\n",
       " <tf.Tensor: shape=(5,), dtype=int32, numpy=array([ 4, 32,  4, 10,  7])>)"
      ]
     },
     "execution_count": 13,
     "metadata": {},
     "output_type": "execute_result"
    }
   ],
   "source": [
    "values, piece_scores, key_scores = critic((tf.random.uniform((32, 28, 10, 1)),\n",
    "                                           tf.random.uniform((32, 7), minval=0, maxval=8, dtype=tf.int32),\n",
    "                                           tf.random.uniform((32, max_len), minval=0, maxval=key_dim, dtype=tf.int32)), return_scores=True)\n",
    "critic.summary(), tf.shape(values), tf.shape(piece_scores), tf.shape(key_scores)"
   ]
  },
  {
   "cell_type": "code",
   "execution_count": 14,
   "id": "0d8093c4-0413-4cbc-b1b9-04665b6df3f5",
   "metadata": {},
   "outputs": [
    {
     "data": {
      "text/plain": [
       "<tensorflow.python.checkpoint.checkpoint.CheckpointLoadStatus at 0x12fc2831730>"
      ]
     },
     "execution_count": 14,
     "metadata": {},
     "output_type": "execute_result"
    }
   ],
   "source": [
    "agent_checkpoint = tf.train.Checkpoint(model=agent, optim=agent.optimizer)\n",
    "agent_checkpoint.restore('agent_checkpoint/finetuned/ckpt-1')"
   ]
  },
  {
   "cell_type": "code",
   "execution_count": 15,
   "id": "842fbadb-0146-4d8c-b365-d60bc388cd47",
   "metadata": {},
   "outputs": [
    {
     "data": {
      "text/plain": [
       "<tensorflow.python.checkpoint.checkpoint.CheckpointLoadStatus at 0x133078a2910>"
      ]
     },
     "execution_count": 15,
     "metadata": {},
     "output_type": "execute_result"
    }
   ],
   "source": [
    "critic_checkpoint = tf.train.Checkpoint(model=critic, optim=critic.optimizer)\n",
    "critic_checkpoint.restore('critic_checkpoint/finetuned/ckpt-1')"
   ]
  },
  {
   "cell_type": "code",
   "execution_count": 16,
   "id": "9a581097-bad1-4da6-a805-18ef8aa6a109",
   "metadata": {},
   "outputs": [],
   "source": [
    "ref_agent = TetrisModel(piece_dim=piece_dim,\n",
    "                        key_dim=key_dim,\n",
    "                        depth=depth,\n",
    "                        num_heads=4,\n",
    "                        num_layers=4,\n",
    "                        max_length=max_len,\n",
    "                        out_dim=key_dim)"
   ]
  },
  {
   "cell_type": "code",
   "execution_count": 17,
   "id": "28f337c3-e3ca-4d56-88a4-37034f18287c",
   "metadata": {},
   "outputs": [
    {
     "data": {
      "text/plain": [
       "(<tf.Tensor: shape=(3,), dtype=int32, numpy=array([ 1, 10, 12])>,\n",
       " <tf.Tensor: shape=(5,), dtype=int32, numpy=array([ 4,  1,  4,  7, 70])>,\n",
       " <tf.Tensor: shape=(5,), dtype=int32, numpy=array([ 4,  1,  4, 10,  7])>)"
      ]
     },
     "execution_count": 17,
     "metadata": {},
     "output_type": "execute_result"
    }
   ],
   "source": [
    "logits, piece_scores, key_scores = ref_agent((tf.random.uniform((1, 28, 10, 1)),\n",
    "                                              tf.random.uniform((1, 7), minval=0, maxval=8, dtype=tf.int32),\n",
    "                                              tf.random.uniform((1, max_len), minval=0, maxval=key_dim, dtype=tf.int32)), return_scores=True)\n",
    "tf.shape(logits), tf.shape(piece_scores), tf.shape(key_scores)"
   ]
  },
  {
   "cell_type": "code",
   "execution_count": 18,
   "id": "84d64bd0-cbd4-4819-b458-963a0e4b33bb",
   "metadata": {},
   "outputs": [
    {
     "data": {
      "text/plain": [
       "<tensorflow.python.checkpoint.checkpoint.CheckpointLoadStatus at 0x132bbf3e040>"
      ]
     },
     "execution_count": 18,
     "metadata": {},
     "output_type": "execute_result"
    }
   ],
   "source": [
    "ref_checkpoint = tf.train.Checkpoint(model=ref_agent)\n",
    "ref_checkpoint.restore('agent_checkpoint/pretrained/ckpt-11')"
   ]
  },
  {
   "cell_type": "code",
   "execution_count": 19,
   "id": "fca78dde-149a-4878-a274-0d3e48cc46ff",
   "metadata": {},
   "outputs": [],
   "source": [
    "# epochs = 10"
   ]
  },
  {
   "cell_type": "code",
   "execution_count": 20,
   "id": "69a201c9-b2bd-4372-8233-604acf9c2e58",
   "metadata": {},
   "outputs": [],
   "source": [
    "# actor_losses, critic_losses, accs = pretrainer.train(agent, critic, gt_dset, epochs)"
   ]
  },
  {
   "cell_type": "code",
   "execution_count": 21,
   "id": "c4de19b9-6807-456e-8fae-4e7809e2c094",
   "metadata": {},
   "outputs": [],
   "source": [
    "%matplotlib qt"
   ]
  },
  {
   "cell_type": "code",
   "execution_count": 22,
   "id": "3b46352d-ba40-408c-a269-e9f72a85d410",
   "metadata": {},
   "outputs": [],
   "source": [
    "# plt.plot(actor_losses)\n",
    "# plt.plot(critic_losses)\n",
    "# plt.plot(accs)"
   ]
  },
  {
   "cell_type": "code",
   "execution_count": 23,
   "id": "50f21c18-8648-4d77-89e5-667dd4ada8c2",
   "metadata": {},
   "outputs": [],
   "source": [
    "# agent_checkpoint.save('agent_checkpoint/pretrained/ckpt')\n",
    "# critic_checkpoint.save('critic_checkpoint/pretrained/ckpt')"
   ]
  },
  {
   "cell_type": "code",
   "execution_count": 24,
   "id": "7373ed28-a931-491b-ae7a-13c126093a92",
   "metadata": {},
   "outputs": [],
   "source": [
    "agent_checkpoint = tf.train.Checkpoint(model=agent, optim=agent.optimizer)\n",
    "agent_checkpoint_manager = tf.train.CheckpointManager(agent_checkpoint, 'agent_checkpoint/finetuned', max_to_keep=5)"
   ]
  },
  {
   "cell_type": "code",
   "execution_count": 25,
   "id": "e2b9b919-cb00-403c-a137-cbac0faf71d0",
   "metadata": {},
   "outputs": [],
   "source": [
    "critic_checkpoint = tf.train.Checkpoint(model=critic, optim=critic.optimizer)\n",
    "critic_checkpoint_manager = tf.train.CheckpointManager(critic_checkpoint, 'critic_checkpoint/finetuned', max_to_keep=5)"
   ]
  },
  {
   "cell_type": "code",
   "execution_count": 26,
   "id": "54251d5e-959b-44d0-a390-e07bd721f3e6",
   "metadata": {},
   "outputs": [
    {
     "name": "stderr",
     "output_type": "stream",
     "text": [
      "\u001b[34m\u001b[1mwandb\u001b[0m: Using wandb-core as the SDK backend. Please refer to https://wandb.me/wandb-core for more information.\n",
      "\u001b[34m\u001b[1mwandb\u001b[0m: Currently logged in as: \u001b[33mmichaelsherrick\u001b[0m. Use \u001b[1m`wandb login --relogin`\u001b[0m to force relogin\n"
     ]
    },
    {
     "data": {
      "text/html": [
       "Tracking run with wandb version 0.18.3"
      ],
      "text/plain": [
       "<IPython.core.display.HTML object>"
      ]
     },
     "metadata": {},
     "output_type": "display_data"
    },
    {
     "data": {
      "text/html": [
       "Run data is saved locally in <code>C:\\Users\\micha\\Python Programs\\Reinforcement\\QTris\\wandb\\run-20241213_094641-e9r6j0fl</code>"
      ],
      "text/plain": [
       "<IPython.core.display.HTML object>"
      ]
     },
     "metadata": {},
     "output_type": "display_data"
    },
    {
     "data": {
      "text/html": [
       "Syncing run <strong><a href='https://wandb.ai/michaelsherrick/Tetris/runs/e9r6j0fl' target=\"_blank\">soft-serenity-396</a></strong> to <a href='https://wandb.ai/michaelsherrick/Tetris' target=\"_blank\">Weights & Biases</a> (<a href='https://wandb.me/run' target=\"_blank\">docs</a>)<br/>"
      ],
      "text/plain": [
       "<IPython.core.display.HTML object>"
      ]
     },
     "metadata": {},
     "output_type": "display_data"
    },
    {
     "data": {
      "text/html": [
       " View project at <a href='https://wandb.ai/michaelsherrick/Tetris' target=\"_blank\">https://wandb.ai/michaelsherrick/Tetris</a>"
      ],
      "text/plain": [
       "<IPython.core.display.HTML object>"
      ]
     },
     "metadata": {},
     "output_type": "display_data"
    },
    {
     "data": {
      "text/html": [
       " View run at <a href='https://wandb.ai/michaelsherrick/Tetris/runs/e9r6j0fl' target=\"_blank\">https://wandb.ai/michaelsherrick/Tetris/runs/e9r6j0fl</a>"
      ],
      "text/plain": [
       "<IPython.core.display.HTML object>"
      ]
     },
     "metadata": {},
     "output_type": "display_data"
    }
   ],
   "source": [
    "trainer = Trainer(agent=agent,\n",
    "                  critic=critic,\n",
    "                  ref_model=ref_agent,\n",
    "                  max_len=max_len,\n",
    "                  gamma=gamma,\n",
    "                  lam=lam,\n",
    "                  temperature=temperature,\n",
    "                  max_episode_steps=1000)"
   ]
  },
  {
   "cell_type": "code",
   "execution_count": 27,
   "id": "39b4f4e4-2ce5-4bd4-8e9d-930426e4a60d",
   "metadata": {},
   "outputs": [
    {
     "name": "stdout",
     "output_type": "stream",
     "text": [
      "WARNING:tensorflow:5 out of the last 5 calls to <function TetrisModel.process_keys at 0x0000012FB2BF34C0> triggered tf.function retracing. Tracing is expensive and the excessive number of tracings could be due to (1) creating @tf.function repeatedly in a loop, (2) passing tensors with different shapes, (3) passing Python objects instead of tensors. For (1), please define your @tf.function outside of the loop. For (2), @tf.function has reduce_retracing=True option that can avoid unnecessary retracing. For (3), please refer to https://www.tensorflow.org/guide/function#controlling_retracing and https://www.tensorflow.org/api_docs/python/tf/function for  more details.\n",
      "WARNING:tensorflow:6 out of the last 6 calls to <function TetrisModel.process_keys at 0x000001329E870820> triggered tf.function retracing. Tracing is expensive and the excessive number of tracings could be due to (1) creating @tf.function repeatedly in a loop, (2) passing tensors with different shapes, (3) passing Python objects instead of tensors. For (1), please define your @tf.function outside of the loop. For (2), @tf.function has reduce_retracing=True option that can avoid unnecessary retracing. For (3), please refer to https://www.tensorflow.org/guide/function#controlling_retracing and https://www.tensorflow.org/api_docs/python/tf/function for  more details.\n",
      "PPO Loss: -0.01\t|\tKL Divergence: 1.42\t|\tCritic Loss: 0.06\t|\t"
     ]
    },
    {
     "ename": "KeyboardInterrupt",
     "evalue": "",
     "output_type": "error",
     "traceback": [
      "\u001b[1;31m---------------------------------------------------------------------------\u001b[0m",
      "\u001b[1;31mKeyboardInterrupt\u001b[0m                         Traceback (most recent call last)",
      "Cell \u001b[1;32mIn[27], line 2\u001b[0m\n\u001b[0;32m      1\u001b[0m \u001b[38;5;28;01mwhile\u001b[39;00m \u001b[38;5;28;01mTrue\u001b[39;00m:\n\u001b[1;32m----> 2\u001b[0m     \u001b[43mtrainer\u001b[49m\u001b[38;5;241;43m.\u001b[39;49m\u001b[43mtrain\u001b[49m\u001b[43m(\u001b[49m\u001b[43mgens\u001b[49m\u001b[38;5;241;43m=\u001b[39;49m\u001b[38;5;241;43m100\u001b[39;49m\u001b[43m,\u001b[49m\u001b[43m \u001b[49m\u001b[43mtrain_steps\u001b[49m\u001b[38;5;241;43m=\u001b[39;49m\u001b[38;5;241;43m10\u001b[39;49m\u001b[43m,\u001b[49m\u001b[43m \u001b[49m\u001b[43mtraining_actor\u001b[49m\u001b[38;5;241;43m=\u001b[39;49m\u001b[38;5;28;43;01mTrue\u001b[39;49;00m\u001b[43m)\u001b[49m\n\u001b[0;32m      3\u001b[0m     agent_checkpoint_manager\u001b[38;5;241m.\u001b[39msave()\n\u001b[0;32m      4\u001b[0m     critic_checkpoint_manager\u001b[38;5;241m.\u001b[39msave()\n",
      "File \u001b[1;32m~\\Python Programs\\Reinforcement\\QTris\\Trainer.py:146\u001b[0m, in \u001b[0;36mTrainer.train\u001b[1;34m(self, gens, train_steps, training_actor)\u001b[0m\n\u001b[0;32m    141\u001b[0m \u001b[38;5;28;01mdef\u001b[39;00m \u001b[38;5;21mtrain\u001b[39m(\u001b[38;5;28mself\u001b[39m, gens, train_steps\u001b[38;5;241m=\u001b[39m\u001b[38;5;241m100\u001b[39m, training_actor\u001b[38;5;241m=\u001b[39m\u001b[38;5;28;01mFalse\u001b[39;00m):\n\u001b[0;32m    143\u001b[0m     \u001b[38;5;28;01mfor\u001b[39;00m gen \u001b[38;5;129;01min\u001b[39;00m \u001b[38;5;28mrange\u001b[39m(gens):\n\u001b[0;32m    144\u001b[0m         \n\u001b[0;32m    145\u001b[0m         \u001b[38;5;66;03m# Run episode\u001b[39;00m\n\u001b[1;32m--> 146\u001b[0m         episode_data \u001b[38;5;241m=\u001b[39m \u001b[38;5;28;43mself\u001b[39;49m\u001b[38;5;241;43m.\u001b[39;49m\u001b[43mplayer\u001b[49m\u001b[38;5;241;43m.\u001b[39;49m\u001b[43mrun_episode\u001b[49m\u001b[43m(\u001b[49m\u001b[38;5;28;43mself\u001b[39;49m\u001b[38;5;241;43m.\u001b[39;49m\u001b[43magent\u001b[49m\u001b[43m,\u001b[49m\u001b[43m \u001b[49m\u001b[38;5;28;43mself\u001b[39;49m\u001b[38;5;241;43m.\u001b[39;49m\u001b[43mcritic\u001b[49m\u001b[43m,\u001b[49m\u001b[43m \u001b[49m\u001b[43mmax_steps\u001b[49m\u001b[38;5;241;43m=\u001b[39;49m\u001b[38;5;28;43mself\u001b[39;49m\u001b[38;5;241;43m.\u001b[39;49m\u001b[43mmax_episode_steps\u001b[49m\u001b[43m,\u001b[49m\n\u001b[0;32m    147\u001b[0m \u001b[43m                                               \u001b[49m\u001b[43mgreedy\u001b[49m\u001b[38;5;241;43m=\u001b[39;49m\u001b[38;5;28;43;01mFalse\u001b[39;49;00m\u001b[43m,\u001b[49m\u001b[43m \u001b[49m\u001b[43mtemperature\u001b[49m\u001b[38;5;241;43m=\u001b[39;49m\u001b[38;5;28;43mself\u001b[39;49m\u001b[38;5;241;43m.\u001b[39;49m\u001b[43mtemp\u001b[49m\u001b[43m,\u001b[49m\u001b[43m \u001b[49m\u001b[43mrenderer\u001b[49m\u001b[38;5;241;43m=\u001b[39;49m\u001b[38;5;28;43mself\u001b[39;49m\u001b[38;5;241;43m.\u001b[39;49m\u001b[43mrenderer\u001b[49m\u001b[43m)\u001b[49m\n\u001b[0;32m    148\u001b[0m         episode_boards, episode_pieces, episode_inputs, episode_probs, episode_values, episode_rewards \u001b[38;5;241m=\u001b[39m episode_data\n\u001b[0;32m    149\u001b[0m         episode_advantages, episode_returns \u001b[38;5;241m=\u001b[39m \u001b[38;5;28mself\u001b[39m\u001b[38;5;241m.\u001b[39m_compute_gae(episode_values, episode_rewards, \u001b[38;5;28mself\u001b[39m\u001b[38;5;241m.\u001b[39mgamma, \u001b[38;5;28mself\u001b[39m\u001b[38;5;241m.\u001b[39mlam)\n",
      "File \u001b[1;32m~\\Python Programs\\Reinforcement\\QTris\\Player.py:76\u001b[0m, in \u001b[0;36mPlayer.run_episode\u001b[1;34m(self, agent, critic, max_steps, greedy, temperature, renderer)\u001b[0m\n\u001b[0;32m     73\u001b[0m key_chars \u001b[38;5;241m=\u001b[39m []\n\u001b[0;32m     75\u001b[0m agent_board_rep, _ \u001b[38;5;241m=\u001b[39m agent\u001b[38;5;241m.\u001b[39mprocess_board((board_obs[\u001b[38;5;28;01mNone\u001b[39;00m, \u001b[38;5;241m.\u001b[39m\u001b[38;5;241m.\u001b[39m\u001b[38;5;241m.\u001b[39m], piece_obs[\u001b[38;5;28;01mNone\u001b[39;00m, \u001b[38;5;241m.\u001b[39m\u001b[38;5;241m.\u001b[39m\u001b[38;5;241m.\u001b[39m]), training\u001b[38;5;241m=\u001b[39m\u001b[38;5;28;01mFalse\u001b[39;00m)\n\u001b[1;32m---> 76\u001b[0m critic_board_rep, _ \u001b[38;5;241m=\u001b[39m \u001b[43mcritic\u001b[49m\u001b[38;5;241;43m.\u001b[39;49m\u001b[43mprocess_board\u001b[49m\u001b[43m(\u001b[49m\u001b[43m(\u001b[49m\u001b[43mboard_obs\u001b[49m\u001b[43m[\u001b[49m\u001b[38;5;28;43;01mNone\u001b[39;49;00m\u001b[43m,\u001b[49m\u001b[43m \u001b[49m\u001b[38;5;241;43m.\u001b[39;49m\u001b[38;5;241;43m.\u001b[39;49m\u001b[38;5;241;43m.\u001b[39;49m\u001b[43m]\u001b[49m\u001b[43m,\u001b[49m\u001b[43m \u001b[49m\u001b[43mpiece_obs\u001b[49m\u001b[43m[\u001b[49m\u001b[38;5;28;43;01mNone\u001b[39;49;00m\u001b[43m,\u001b[49m\u001b[43m \u001b[49m\u001b[38;5;241;43m.\u001b[39;49m\u001b[38;5;241;43m.\u001b[39;49m\u001b[38;5;241;43m.\u001b[39;49m\u001b[43m]\u001b[49m\u001b[43m)\u001b[49m\u001b[43m,\u001b[49m\u001b[43m \u001b[49m\u001b[43mtraining\u001b[49m\u001b[38;5;241;43m=\u001b[39;49m\u001b[38;5;28;43;01mFalse\u001b[39;49;00m\u001b[43m)\u001b[49m\n\u001b[0;32m     78\u001b[0m \u001b[38;5;28;01mfor\u001b[39;00m i \u001b[38;5;129;01min\u001b[39;00m \u001b[38;5;28mrange\u001b[39m(\u001b[38;5;28mself\u001b[39m\u001b[38;5;241m.\u001b[39mmax_len):\n\u001b[0;32m     79\u001b[0m     logits, _ \u001b[38;5;241m=\u001b[39m agent\u001b[38;5;241m.\u001b[39mprocess_keys((agent_board_rep, inp_seq), training\u001b[38;5;241m=\u001b[39m\u001b[38;5;28;01mFalse\u001b[39;00m)\n",
      "File \u001b[1;32m~\\AppData\\Roaming\\Python\\Python39\\site-packages\\tensorflow\\python\\util\\traceback_utils.py:150\u001b[0m, in \u001b[0;36mfilter_traceback.<locals>.error_handler\u001b[1;34m(*args, **kwargs)\u001b[0m\n\u001b[0;32m    148\u001b[0m filtered_tb \u001b[38;5;241m=\u001b[39m \u001b[38;5;28;01mNone\u001b[39;00m\n\u001b[0;32m    149\u001b[0m \u001b[38;5;28;01mtry\u001b[39;00m:\n\u001b[1;32m--> 150\u001b[0m   \u001b[38;5;28;01mreturn\u001b[39;00m fn(\u001b[38;5;241m*\u001b[39margs, \u001b[38;5;241m*\u001b[39m\u001b[38;5;241m*\u001b[39mkwargs)\n\u001b[0;32m    151\u001b[0m \u001b[38;5;28;01mexcept\u001b[39;00m \u001b[38;5;167;01mException\u001b[39;00m \u001b[38;5;28;01mas\u001b[39;00m e:\n\u001b[0;32m    152\u001b[0m   filtered_tb \u001b[38;5;241m=\u001b[39m _process_traceback_frames(e\u001b[38;5;241m.\u001b[39m__traceback__)\n",
      "File \u001b[1;32m~\\AppData\\Roaming\\Python\\Python39\\site-packages\\tensorflow\\python\\eager\\def_function.py:915\u001b[0m, in \u001b[0;36mFunction.__call__\u001b[1;34m(self, *args, **kwds)\u001b[0m\n\u001b[0;32m    912\u001b[0m compiler \u001b[38;5;241m=\u001b[39m \u001b[38;5;124m\"\u001b[39m\u001b[38;5;124mxla\u001b[39m\u001b[38;5;124m\"\u001b[39m \u001b[38;5;28;01mif\u001b[39;00m \u001b[38;5;28mself\u001b[39m\u001b[38;5;241m.\u001b[39m_jit_compile \u001b[38;5;28;01melse\u001b[39;00m \u001b[38;5;124m\"\u001b[39m\u001b[38;5;124mnonXla\u001b[39m\u001b[38;5;124m\"\u001b[39m\n\u001b[0;32m    914\u001b[0m \u001b[38;5;28;01mwith\u001b[39;00m OptionalXlaContext(\u001b[38;5;28mself\u001b[39m\u001b[38;5;241m.\u001b[39m_jit_compile):\n\u001b[1;32m--> 915\u001b[0m   result \u001b[38;5;241m=\u001b[39m \u001b[38;5;28mself\u001b[39m\u001b[38;5;241m.\u001b[39m_call(\u001b[38;5;241m*\u001b[39margs, \u001b[38;5;241m*\u001b[39m\u001b[38;5;241m*\u001b[39mkwds)\n\u001b[0;32m    917\u001b[0m new_tracing_count \u001b[38;5;241m=\u001b[39m \u001b[38;5;28mself\u001b[39m\u001b[38;5;241m.\u001b[39mexperimental_get_tracing_count()\n\u001b[0;32m    918\u001b[0m without_tracing \u001b[38;5;241m=\u001b[39m (tracing_count \u001b[38;5;241m==\u001b[39m new_tracing_count)\n",
      "File \u001b[1;32m~\\AppData\\Roaming\\Python\\Python39\\site-packages\\tensorflow\\python\\eager\\def_function.py:947\u001b[0m, in \u001b[0;36mFunction._call\u001b[1;34m(self, *args, **kwds)\u001b[0m\n\u001b[0;32m    944\u001b[0m   \u001b[38;5;28mself\u001b[39m\u001b[38;5;241m.\u001b[39m_lock\u001b[38;5;241m.\u001b[39mrelease()\n\u001b[0;32m    945\u001b[0m   \u001b[38;5;66;03m# In this case we have created variables on the first call, so we run the\u001b[39;00m\n\u001b[0;32m    946\u001b[0m   \u001b[38;5;66;03m# defunned version which is guaranteed to never create variables.\u001b[39;00m\n\u001b[1;32m--> 947\u001b[0m   \u001b[38;5;28;01mreturn\u001b[39;00m \u001b[38;5;28mself\u001b[39m\u001b[38;5;241m.\u001b[39m_stateless_fn(\u001b[38;5;241m*\u001b[39margs, \u001b[38;5;241m*\u001b[39m\u001b[38;5;241m*\u001b[39mkwds)  \u001b[38;5;66;03m# pylint: disable=not-callable\u001b[39;00m\n\u001b[0;32m    948\u001b[0m \u001b[38;5;28;01melif\u001b[39;00m \u001b[38;5;28mself\u001b[39m\u001b[38;5;241m.\u001b[39m_stateful_fn \u001b[38;5;129;01mis\u001b[39;00m \u001b[38;5;129;01mnot\u001b[39;00m \u001b[38;5;28;01mNone\u001b[39;00m:\n\u001b[0;32m    949\u001b[0m   \u001b[38;5;66;03m# Release the lock early so that multiple threads can perform the call\u001b[39;00m\n\u001b[0;32m    950\u001b[0m   \u001b[38;5;66;03m# in parallel.\u001b[39;00m\n\u001b[0;32m    951\u001b[0m   \u001b[38;5;28mself\u001b[39m\u001b[38;5;241m.\u001b[39m_lock\u001b[38;5;241m.\u001b[39mrelease()\n",
      "File \u001b[1;32m~\\AppData\\Roaming\\Python\\Python39\\site-packages\\tensorflow\\python\\eager\\function.py:2496\u001b[0m, in \u001b[0;36mFunction.__call__\u001b[1;34m(self, *args, **kwargs)\u001b[0m\n\u001b[0;32m   2493\u001b[0m \u001b[38;5;28;01mwith\u001b[39;00m \u001b[38;5;28mself\u001b[39m\u001b[38;5;241m.\u001b[39m_lock:\n\u001b[0;32m   2494\u001b[0m   (graph_function,\n\u001b[0;32m   2495\u001b[0m    filtered_flat_args) \u001b[38;5;241m=\u001b[39m \u001b[38;5;28mself\u001b[39m\u001b[38;5;241m.\u001b[39m_maybe_define_function(args, kwargs)\n\u001b[1;32m-> 2496\u001b[0m \u001b[38;5;28;01mreturn\u001b[39;00m \u001b[43mgraph_function\u001b[49m\u001b[38;5;241;43m.\u001b[39;49m\u001b[43m_call_flat\u001b[49m\u001b[43m(\u001b[49m\n\u001b[0;32m   2497\u001b[0m \u001b[43m    \u001b[49m\u001b[43mfiltered_flat_args\u001b[49m\u001b[43m,\u001b[49m\u001b[43m \u001b[49m\u001b[43mcaptured_inputs\u001b[49m\u001b[38;5;241;43m=\u001b[39;49m\u001b[43mgraph_function\u001b[49m\u001b[38;5;241;43m.\u001b[39;49m\u001b[43mcaptured_inputs\u001b[49m\u001b[43m)\u001b[49m\n",
      "File \u001b[1;32m~\\AppData\\Roaming\\Python\\Python39\\site-packages\\tensorflow\\python\\eager\\function.py:1862\u001b[0m, in \u001b[0;36mConcreteFunction._call_flat\u001b[1;34m(self, args, captured_inputs, cancellation_manager)\u001b[0m\n\u001b[0;32m   1858\u001b[0m possible_gradient_type \u001b[38;5;241m=\u001b[39m gradients_util\u001b[38;5;241m.\u001b[39mPossibleTapeGradientTypes(args)\n\u001b[0;32m   1859\u001b[0m \u001b[38;5;28;01mif\u001b[39;00m (possible_gradient_type \u001b[38;5;241m==\u001b[39m gradients_util\u001b[38;5;241m.\u001b[39mPOSSIBLE_GRADIENT_TYPES_NONE\n\u001b[0;32m   1860\u001b[0m     \u001b[38;5;129;01mand\u001b[39;00m executing_eagerly):\n\u001b[0;32m   1861\u001b[0m   \u001b[38;5;66;03m# No tape is watching; skip to running the function.\u001b[39;00m\n\u001b[1;32m-> 1862\u001b[0m   \u001b[38;5;28;01mreturn\u001b[39;00m \u001b[38;5;28mself\u001b[39m\u001b[38;5;241m.\u001b[39m_build_call_outputs(\u001b[38;5;28;43mself\u001b[39;49m\u001b[38;5;241;43m.\u001b[39;49m\u001b[43m_inference_function\u001b[49m\u001b[38;5;241;43m.\u001b[39;49m\u001b[43mcall\u001b[49m\u001b[43m(\u001b[49m\n\u001b[0;32m   1863\u001b[0m \u001b[43m      \u001b[49m\u001b[43mctx\u001b[49m\u001b[43m,\u001b[49m\u001b[43m \u001b[49m\u001b[43margs\u001b[49m\u001b[43m,\u001b[49m\u001b[43m \u001b[49m\u001b[43mcancellation_manager\u001b[49m\u001b[38;5;241;43m=\u001b[39;49m\u001b[43mcancellation_manager\u001b[49m\u001b[43m)\u001b[49m)\n\u001b[0;32m   1864\u001b[0m forward_backward \u001b[38;5;241m=\u001b[39m \u001b[38;5;28mself\u001b[39m\u001b[38;5;241m.\u001b[39m_select_forward_and_backward_functions(\n\u001b[0;32m   1865\u001b[0m     args,\n\u001b[0;32m   1866\u001b[0m     possible_gradient_type,\n\u001b[0;32m   1867\u001b[0m     executing_eagerly)\n\u001b[0;32m   1868\u001b[0m forward_function, args_with_tangents \u001b[38;5;241m=\u001b[39m forward_backward\u001b[38;5;241m.\u001b[39mforward()\n",
      "File \u001b[1;32m~\\AppData\\Roaming\\Python\\Python39\\site-packages\\tensorflow\\python\\eager\\function.py:499\u001b[0m, in \u001b[0;36m_EagerDefinedFunction.call\u001b[1;34m(self, ctx, args, cancellation_manager)\u001b[0m\n\u001b[0;32m    497\u001b[0m \u001b[38;5;28;01mwith\u001b[39;00m _InterpolateFunctionError(\u001b[38;5;28mself\u001b[39m):\n\u001b[0;32m    498\u001b[0m   \u001b[38;5;28;01mif\u001b[39;00m cancellation_manager \u001b[38;5;129;01mis\u001b[39;00m \u001b[38;5;28;01mNone\u001b[39;00m:\n\u001b[1;32m--> 499\u001b[0m     outputs \u001b[38;5;241m=\u001b[39m \u001b[43mexecute\u001b[49m\u001b[38;5;241;43m.\u001b[39;49m\u001b[43mexecute\u001b[49m\u001b[43m(\u001b[49m\n\u001b[0;32m    500\u001b[0m \u001b[43m        \u001b[49m\u001b[38;5;28;43mstr\u001b[39;49m\u001b[43m(\u001b[49m\u001b[38;5;28;43mself\u001b[39;49m\u001b[38;5;241;43m.\u001b[39;49m\u001b[43msignature\u001b[49m\u001b[38;5;241;43m.\u001b[39;49m\u001b[43mname\u001b[49m\u001b[43m)\u001b[49m\u001b[43m,\u001b[49m\n\u001b[0;32m    501\u001b[0m \u001b[43m        \u001b[49m\u001b[43mnum_outputs\u001b[49m\u001b[38;5;241;43m=\u001b[39;49m\u001b[38;5;28;43mself\u001b[39;49m\u001b[38;5;241;43m.\u001b[39;49m\u001b[43m_num_outputs\u001b[49m\u001b[43m,\u001b[49m\n\u001b[0;32m    502\u001b[0m \u001b[43m        \u001b[49m\u001b[43minputs\u001b[49m\u001b[38;5;241;43m=\u001b[39;49m\u001b[43margs\u001b[49m\u001b[43m,\u001b[49m\n\u001b[0;32m    503\u001b[0m \u001b[43m        \u001b[49m\u001b[43mattrs\u001b[49m\u001b[38;5;241;43m=\u001b[39;49m\u001b[43mattrs\u001b[49m\u001b[43m,\u001b[49m\n\u001b[0;32m    504\u001b[0m \u001b[43m        \u001b[49m\u001b[43mctx\u001b[49m\u001b[38;5;241;43m=\u001b[39;49m\u001b[43mctx\u001b[49m\u001b[43m)\u001b[49m\n\u001b[0;32m    505\u001b[0m   \u001b[38;5;28;01melse\u001b[39;00m:\n\u001b[0;32m    506\u001b[0m     outputs \u001b[38;5;241m=\u001b[39m execute\u001b[38;5;241m.\u001b[39mexecute_with_cancellation(\n\u001b[0;32m    507\u001b[0m         \u001b[38;5;28mstr\u001b[39m(\u001b[38;5;28mself\u001b[39m\u001b[38;5;241m.\u001b[39msignature\u001b[38;5;241m.\u001b[39mname),\n\u001b[0;32m    508\u001b[0m         num_outputs\u001b[38;5;241m=\u001b[39m\u001b[38;5;28mself\u001b[39m\u001b[38;5;241m.\u001b[39m_num_outputs,\n\u001b[1;32m   (...)\u001b[0m\n\u001b[0;32m    511\u001b[0m         ctx\u001b[38;5;241m=\u001b[39mctx,\n\u001b[0;32m    512\u001b[0m         cancellation_manager\u001b[38;5;241m=\u001b[39mcancellation_manager)\n",
      "File \u001b[1;32m~\\AppData\\Roaming\\Python\\Python39\\site-packages\\tensorflow\\python\\eager\\execute.py:54\u001b[0m, in \u001b[0;36mquick_execute\u001b[1;34m(op_name, num_outputs, inputs, attrs, ctx, name)\u001b[0m\n\u001b[0;32m     52\u001b[0m \u001b[38;5;28;01mtry\u001b[39;00m:\n\u001b[0;32m     53\u001b[0m   ctx\u001b[38;5;241m.\u001b[39mensure_initialized()\n\u001b[1;32m---> 54\u001b[0m   tensors \u001b[38;5;241m=\u001b[39m \u001b[43mpywrap_tfe\u001b[49m\u001b[38;5;241;43m.\u001b[39;49m\u001b[43mTFE_Py_Execute\u001b[49m\u001b[43m(\u001b[49m\u001b[43mctx\u001b[49m\u001b[38;5;241;43m.\u001b[39;49m\u001b[43m_handle\u001b[49m\u001b[43m,\u001b[49m\u001b[43m \u001b[49m\u001b[43mdevice_name\u001b[49m\u001b[43m,\u001b[49m\u001b[43m \u001b[49m\u001b[43mop_name\u001b[49m\u001b[43m,\u001b[49m\n\u001b[0;32m     55\u001b[0m \u001b[43m                                      \u001b[49m\u001b[43minputs\u001b[49m\u001b[43m,\u001b[49m\u001b[43m \u001b[49m\u001b[43mattrs\u001b[49m\u001b[43m,\u001b[49m\u001b[43m \u001b[49m\u001b[43mnum_outputs\u001b[49m\u001b[43m)\u001b[49m\n\u001b[0;32m     56\u001b[0m \u001b[38;5;28;01mexcept\u001b[39;00m core\u001b[38;5;241m.\u001b[39m_NotOkStatusException \u001b[38;5;28;01mas\u001b[39;00m e:\n\u001b[0;32m     57\u001b[0m   \u001b[38;5;28;01mif\u001b[39;00m name \u001b[38;5;129;01mis\u001b[39;00m \u001b[38;5;129;01mnot\u001b[39;00m \u001b[38;5;28;01mNone\u001b[39;00m:\n",
      "\u001b[1;31mKeyboardInterrupt\u001b[0m: "
     ]
    }
   ],
   "source": [
    "while True:\n",
    "    trainer.train(gens=100, train_steps=10, training_actor=True)\n",
    "    agent_checkpoint_manager.save()\n",
    "    critic_checkpoint_manager.save()"
   ]
  },
  {
   "cell_type": "code",
   "execution_count": 36,
   "id": "71adf545-825a-4222-a8a3-8293477146ca",
   "metadata": {},
   "outputs": [
    {
     "data": {
      "text/plain": [
       "'critic_checkpoint/finetuned\\\\ckpt-5'"
      ]
     },
     "execution_count": 36,
     "metadata": {},
     "output_type": "execute_result"
    }
   ],
   "source": [
    "agent_checkpoint_manager.save()\n",
    "critic_checkpoint_manager.save()"
   ]
  },
  {
   "cell_type": "code",
   "execution_count": null,
   "id": "3c04c14f-8671-4168-8eb3-f10747e66ace",
   "metadata": {},
   "outputs": [],
   "source": [
    "episode_data = trainer.player.run_episode(agent, critic, max_steps=1000, greedy=True, renderer=trainer.renderer)"
   ]
  },
  {
   "cell_type": "code",
   "execution_count": null,
   "id": "f7e2f169-5696-4f82-940a-d577891ea542",
   "metadata": {},
   "outputs": [],
   "source": [
    "episode_boards, episode_pieces, episode_inputs, episode_probs, episode_values, episode_rewards = episode_data"
   ]
  },
  {
   "cell_type": "code",
   "execution_count": 52,
   "id": "d076eb59-06ce-4fbf-8027-217a3a283db3",
   "metadata": {},
   "outputs": [],
   "source": [
    "import imageio\n",
    "import numpy as np\n",
    "from PIL import Image"
   ]
  },
  {
   "cell_type": "code",
   "execution_count": 68,
   "id": "2f884f09-3e5d-403c-9889-e0599ca658f3",
   "metadata": {},
   "outputs": [],
   "source": [
    "frames = [Image.fromarray((board[..., 0] * 255).numpy().astype(np.uint8)).resize((100, 280), Image.Resampling.NEAREST) for board in episode_boards]\n",
    "imageio.mimsave('test_gif.gif', frames, duration=0.5)"
   ]
  },
  {
   "cell_type": "code",
   "execution_count": 80,
   "id": "0d8e3dd6-7e94-4b62-907f-5b4a01faaf12",
   "metadata": {},
   "outputs": [],
   "source": [
    "piece_array = np.array([[[0, 0, 0, 0, 0],\n",
    "                         [0, 0, 0, 0, 0],\n",
    "                         [0, 0, 0, 0, 0],\n",
    "                         [0, 0, 0, 0, 0]],\n",
    "                        [[0, 0, 0, 0, 0],\n",
    "                         [0, 0, 0, 0, 0],\n",
    "                         [0, 1, 1, 1, 1],\n",
    "                         [0, 0, 0, 0, 0]],\n",
    "                        [[0, 0, 0, 0, 0],\n",
    "                         [0, 0, 1, 0, 0],\n",
    "                         [0, 1, 1, 1, 0],\n",
    "                         [0, 0, 0, 0, 0]],\n",
    "                        [[0, 0, 0, 0, 0],\n",
    "                         [0, 0, 0, 1, 0],\n",
    "                         [0, 1, 1, 1, 0],\n",
    "                         [0, 0, 0, 0, 0]],\n",
    "                        [[0, 0, 0, 0, 0],\n",
    "                         [0, 1, 0, 0, 0],\n",
    "                         [0, 1, 1, 1, 0],\n",
    "                         [0, 0, 0, 0, 0]],\n",
    "                        [[0, 0, 0, 0, 0],\n",
    "                         [0, 1, 1, 0, 0],\n",
    "                         [0, 0, 1, 1, 0],\n",
    "                         [0, 0, 0, 0, 0]],\n",
    "                        [[0, 0, 0, 0, 0],\n",
    "                         [0, 0, 1, 1, 0],\n",
    "                         [0, 1, 1, 0, 0],\n",
    "                         [0, 0, 0, 0, 0]],\n",
    "                        [[0, 0, 0, 0, 0],\n",
    "                         [0, 0, 1, 1, 0],\n",
    "                         [0, 0, 1, 1, 0],\n",
    "                         [0, 0, 0, 0, 0]]])"
   ]
  },
  {
   "cell_type": "code",
   "execution_count": 81,
   "id": "ebc2490f-7464-48d1-abae-21549a077629",
   "metadata": {},
   "outputs": [],
   "source": [
    "frames = []\n",
    "for board, pieces in zip(episode_boards, episode_pieces):\n",
    "    board_frame = Image.fromarray((board[..., 0] * 255).numpy().astype(np.uint8)).resize((100, 280), Image.Resampling.NEAREST)\n",
    "    piece_frame = Image.fromarray(np.concatenate([(piece_array[piece] * 255).astype(np.uint8) for piece in pieces], axis=0)).resize((50, 280), Image.Resampling.NEAREST)\n",
    "    frames.append(Image.fromarray(np.concatenate([np.array(board_frame), np.array(piece_frame)], axis=1)))"
   ]
  },
  {
   "cell_type": "code",
   "execution_count": 82,
   "id": "13951bca-1e6b-4bb6-8273-29e0af3cd7d7",
   "metadata": {},
   "outputs": [],
   "source": [
    "imageio.mimsave('demo.gif', frames, duration=0.5)"
   ]
  },
  {
   "cell_type": "code",
   "execution_count": 30,
   "id": "f72f64fa-a6f0-4c69-ada5-2cc805c05006",
   "metadata": {},
   "outputs": [],
   "source": [
    "episode_advantages, episode_returns = trainer._compute_gae(episode_values, episode_rewards, trainer.gamma, trainer.lam)"
   ]
  },
  {
   "cell_type": "code",
   "execution_count": 34,
   "id": "e94791d9-14a5-42a2-bdd5-325e70a72614",
   "metadata": {},
   "outputs": [
    {
     "data": {
      "text/plain": [
       "<tf.Tensor: shape=(), dtype=float32, numpy=137.11002>"
      ]
     },
     "execution_count": 34,
     "metadata": {},
     "output_type": "execute_result"
    }
   ],
   "source": [
    "fig, ax = plt.subplots()\n",
    "ax.plot(episode_returns, label='Returns')\n",
    "ax.plot(episode_values, label='Values')\n",
    "ax.legend()\n",
    "tf.reduce_sum(episode_rewards)"
   ]
  },
  {
   "cell_type": "code",
   "execution_count": 35,
   "id": "1c5260fb-9eae-4bbf-8273-6fb97c3f2fe4",
   "metadata": {},
   "outputs": [
    {
     "data": {
      "text/plain": [
       "<matplotlib.legend.Legend at 0x13455a31a00>"
      ]
     },
     "execution_count": 35,
     "metadata": {},
     "output_type": "execute_result"
    }
   ],
   "source": [
    "fig, ax = plt.subplots()\n",
    "ax.plot(episode_rewards, label='Rewards')\n",
    "ax.plot(episode_advantages, label='Advantages')\n",
    "ax.legend()"
   ]
  },
  {
   "cell_type": "code",
   "execution_count": 42,
   "id": "0c77a526-2a60-4f87-8d73-e9d1f8c292b0",
   "metadata": {},
   "outputs": [
    {
     "data": {
      "application/vnd.jupyter.widget-view+json": {
       "model_id": "",
       "version_major": 2,
       "version_minor": 0
      },
      "text/plain": [
       "VBox(children=(Label(value='0.617 MB of 0.617 MB uploaded\\r'), FloatProgress(value=1.0, max=1.0)))"
      ]
     },
     "metadata": {},
     "output_type": "display_data"
    },
    {
     "data": {
      "text/html": [
       "<style>\n",
       "    table.wandb td:nth-child(1) { padding: 0 10px; text-align: left ; width: auto;} td:nth-child(2) {text-align: left ; width: 100%}\n",
       "    .wandb-row { display: flex; flex-direction: row; flex-wrap: wrap; justify-content: flex-start; width: 100% }\n",
       "    .wandb-col { display: flex; flex-direction: column; flex-basis: 100%; flex: 1; padding: 10px; }\n",
       "    </style>\n",
       "<div class=\"wandb-row\"><div class=\"wandb-col\"><h3>Run history:</h3><br/><table class=\"wandb\"><tr><td>critic_loss</td><td>▂▃█▁▂▃▂▂▃▂▃▃▃▂▁▃▂▃▁▁▂▂▂▃▃▂▅▁▃▁▂▂▃▂▁▃▁▂▂▁</td></tr><tr><td>entropy</td><td>▄▅▁▆▅▆▅▄▆▇█▇▇▇▇▇▇█▅▇▆▆▇▇▇▆▇▇▆▇▇█▆▇▇▇▆▆▇▆</td></tr><tr><td>kl_div</td><td>▅▄▃▄▅▃▃▅▅▄▁▃▄▂▇▆▄▆▂▄▄▅▅▃▃▅▅▆▅▆▅█▅▇█▇▆▄▄▃</td></tr><tr><td>ppo_loss</td><td>▇▄▅▄▄▆▆▃▅▅▂▇▅██▅▄▇▃▆▅▅▅▅▅▄▁▅▆▃▆▄▆█▅▂▃▁▃▇</td></tr><tr><td>reward</td><td>▂▇▅▁█▂█▅▃█▅██▇▁▄█▅▅▂█▆██▃▇▄▁▇▅██▄▆▃▇█▁▇▂</td></tr><tr><td>reward_per_piece</td><td>█▇▇▇████▇██▆▇████████████▁▆█▇█▇███▇▇▇▇▇▆</td></tr><tr><td>unclipped_proportion</td><td>▆▆▆▇▆▅▄▅▁▆▇▆█▄▆▆▇▇▅▅▆▇▅▄▆▆▆▅▇▆▇▆▅▇▇▆▆▆▅▆</td></tr></table><br/></div><div class=\"wandb-col\"><h3>Run summary:</h3><br/><table class=\"wandb\"><tr><td>critic_loss</td><td>0.18154</td></tr><tr><td>entropy</td><td>-0.1292</td></tr><tr><td>kl_div</td><td>1.70484</td></tr><tr><td>ppo_loss</td><td>0.03244</td></tr><tr><td>reward</td><td>29.24</td></tr><tr><td>reward_per_piece</td><td>0.11034</td></tr><tr><td>unclipped_proportion</td><td>0.91414</td></tr></table><br/></div></div>"
      ],
      "text/plain": [
       "<IPython.core.display.HTML object>"
      ]
     },
     "metadata": {},
     "output_type": "display_data"
    },
    {
     "data": {
      "text/html": [
       " View run <strong style=\"color:#cdcd00\">avid-sound-391</strong> at: <a href='https://wandb.ai/michaelsherrick/Tetris/runs/65pi4zsa' target=\"_blank\">https://wandb.ai/michaelsherrick/Tetris/runs/65pi4zsa</a><br/> View project at: <a href='https://wandb.ai/michaelsherrick/Tetris' target=\"_blank\">https://wandb.ai/michaelsherrick/Tetris</a><br/>Synced 5 W&B file(s), 0 media file(s), 0 artifact file(s) and 5260 other file(s)"
      ],
      "text/plain": [
       "<IPython.core.display.HTML object>"
      ]
     },
     "metadata": {},
     "output_type": "display_data"
    },
    {
     "data": {
      "text/html": [
       "Find logs at: <code>.\\wandb\\run-20241210_131746-65pi4zsa\\logs</code>"
      ],
      "text/plain": [
       "<IPython.core.display.HTML object>"
      ]
     },
     "metadata": {},
     "output_type": "display_data"
    }
   ],
   "source": [
    "trainer.wandb_run.finish()"
   ]
  },
  {
   "cell_type": "code",
   "execution_count": 46,
   "id": "4540a22d-c4b3-4c47-9d5f-f23b67c4b049",
   "metadata": {},
   "outputs": [],
   "source": [
    "test = tf.constant([1, 0, 1, 3, 1, 2, 1, 0])"
   ]
  },
  {
   "cell_type": "code",
   "execution_count": 56,
   "id": "d94f7134-6a7d-436c-ac00-e4d6a1c5e18e",
   "metadata": {},
   "outputs": [
    {
     "data": {
      "text/plain": [
       "<tf.Tensor: shape=(), dtype=float32, numpy=0.61>"
      ]
     },
     "execution_count": 56,
     "metadata": {},
     "output_type": "execute_result"
    }
   ],
   "source": [
    "tf.cast(tf.reduce_sum(tf.experimental.numpy.diff(heights) ** 2), tf.float32) * 0.01"
   ]
  },
  {
   "cell_type": "code",
   "execution_count": 55,
   "id": "6589c0b4-fa9d-40a6-8112-1fbf30e91f04",
   "metadata": {},
   "outputs": [],
   "source": [
    "heights = trainer.player._get_heights(tf.cast(episode_boards[-1, ..., 0], tf.int32))"
   ]
  },
  {
   "cell_type": "code",
   "execution_count": null,
   "id": "f1b28431-58af-4c0b-bf24-e011ae0e1bd9",
   "metadata": {},
   "outputs": [],
   "source": []
  }
 ],
 "metadata": {
  "kernelspec": {
   "display_name": "Python 3 (ipykernel)",
   "language": "python",
   "name": "python3"
  },
  "language_info": {
   "codemirror_mode": {
    "name": "ipython",
    "version": 3
   },
   "file_extension": ".py",
   "mimetype": "text/x-python",
   "name": "python",
   "nbconvert_exporter": "python",
   "pygments_lexer": "ipython3",
   "version": "3.9.18"
  }
 },
 "nbformat": 4,
 "nbformat_minor": 5
}
