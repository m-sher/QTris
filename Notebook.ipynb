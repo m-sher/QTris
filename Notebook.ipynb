{
 "cells": [
  {
   "cell_type": "code",
   "execution_count": null,
   "id": "797beb80-8e0a-4d07-b77f-67e60a000e8a",
   "metadata": {},
   "outputs": [],
   "source": [
    "from Player import Player\n",
    "from Trainer import Trainer\n",
    "from TetrisModel import TetrisModel\n",
    "from Pretrainer import Pretrainer\n",
    "import tensorflow as tf\n",
    "from tensorflow import keras\n",
    "from tensorflow.keras import backend as K\n",
    "import matplotlib.pyplot as plt\n",
    "import pickle\n",
    "import glob\n",
    "import time"
   ]
  },
  {
   "cell_type": "code",
   "execution_count": null,
   "id": "b489fac7-4661-4921-bf2f-c27b77d68308",
   "metadata": {},
   "outputs": [],
   "source": [
    "piece_dim = 8\n",
    "key_dim = 12\n",
    "depth = 16\n",
    "gamma = 0.99\n",
    "lam = 0.95\n",
    "temperature = 1.0"
   ]
  },
  {
   "cell_type": "code",
   "execution_count": null,
   "id": "18e02bc9-ddfa-4da9-9186-26d1a6ddbc17",
   "metadata": {},
   "outputs": [],
   "source": [
    "# Use lambda instead of gamma to immitate shape of gae without value predictions\n",
    "# pretrainer = Pretrainer(gamma=lam)"
   ]
  },
  {
   "cell_type": "code",
   "execution_count": null,
   "id": "3f55a2a7-a685-4e03-bf63-32ca62b49a84",
   "metadata": {},
   "outputs": [],
   "source": [
    "# players_data = pretrainer._load_data()"
   ]
  },
  {
   "cell_type": "code",
   "execution_count": null,
   "id": "89477f84-bf5f-4ae2-bc25-88e464c0c7a7",
   "metadata": {},
   "outputs": [],
   "source": [
    "# pretrainer._load_dset(players_data)"
   ]
  },
  {
   "cell_type": "code",
   "execution_count": null,
   "id": "2bb7200b-3bd1-4c89-a760-ae040a0993f5",
   "metadata": {},
   "outputs": [],
   "source": [
    "# max_len = pretrainer._max_len\n",
    "max_len = 10"
   ]
  },
  {
   "cell_type": "code",
   "execution_count": null,
   "id": "1c086f18-2d08-4af8-8072-06bb186463bf",
   "metadata": {},
   "outputs": [],
   "source": [
    "# gt_dset = pretrainer._cache_dset()"
   ]
  },
  {
   "cell_type": "code",
   "execution_count": null,
   "id": "f98471d2-7bdc-41d1-82c1-ec09f752b5b6",
   "metadata": {},
   "outputs": [],
   "source": [
    "agent = TetrisModel(piece_dim=piece_dim,\n",
    "                    key_dim=key_dim,\n",
    "                    depth=depth,\n",
    "                    num_heads=4,\n",
    "                    num_layers=4,\n",
    "                    max_length=max_len,\n",
    "                    out_dim=key_dim)"
   ]
  },
  {
   "cell_type": "code",
   "execution_count": null,
   "id": "2e2ee521-f5c4-49b3-ab1f-149b3cfd23f2",
   "metadata": {},
   "outputs": [],
   "source": [
    "agent_optimizer = keras.optimizers.Adam(1e-4)\n",
    "agent.compile(optimizer=agent_optimizer)"
   ]
  },
  {
   "cell_type": "code",
   "execution_count": null,
   "id": "e164709b-c4b7-4335-b3d2-c92fa2460936",
   "metadata": {},
   "outputs": [],
   "source": [
    "logits, piece_scores, key_scores = agent((tf.random.uniform((32, 28, 10, 1)),\n",
    "                                          tf.random.uniform((32, 7), minval=0, maxval=8, dtype=tf.int32),\n",
    "                                          tf.random.uniform((32, max_len), minval=0, maxval=key_dim, dtype=tf.int32)), return_scores=True)\n",
    "agent.summary(), tf.shape(logits), tf.shape(piece_scores), tf.shape(key_scores)"
   ]
  },
  {
   "cell_type": "code",
   "execution_count": null,
   "id": "6d393408-7d44-4907-b253-8cf2178ac84d",
   "metadata": {},
   "outputs": [],
   "source": [
    "critic = TetrisModel(piece_dim=piece_dim,\n",
    "                     key_dim=key_dim,\n",
    "                     depth=depth,\n",
    "                     num_heads=4,\n",
    "                     num_layers=4,\n",
    "                     max_length=max_len,\n",
    "                     out_dim=1)"
   ]
  },
  {
   "cell_type": "code",
   "execution_count": null,
   "id": "8209a038-3b17-40e4-bdfa-d8ff3c8a7248",
   "metadata": {},
   "outputs": [],
   "source": [
    "critic_optimizer = keras.optimizers.Adam(1e-4)\n",
    "critic.compile(optimizer=critic_optimizer)"
   ]
  },
  {
   "cell_type": "code",
   "execution_count": null,
   "id": "53d1d4e9-760b-47b0-948d-15010c16f820",
   "metadata": {},
   "outputs": [],
   "source": [
    "values, piece_scores, key_scores = critic((tf.random.uniform((32, 28, 10, 1)),\n",
    "                                           tf.random.uniform((32, 7), minval=0, maxval=8, dtype=tf.int32),\n",
    "                                           tf.random.uniform((32, max_len), minval=0, maxval=key_dim, dtype=tf.int32)), return_scores=True)\n",
    "critic.summary(), tf.shape(values), tf.shape(piece_scores), tf.shape(key_scores)"
   ]
  },
  {
   "cell_type": "code",
   "execution_count": null,
   "id": "577b693b-237f-48dc-ac8a-fd6e783ef902",
   "metadata": {},
   "outputs": [],
   "source": [
    "agent.load_weights('agent_weights_small/agent_finetuned_1803')\n",
    "critic.load_weights('critic_weights_small/critic_finetuned_1803')"
   ]
  },
  {
   "cell_type": "code",
   "execution_count": null,
   "id": "9a581097-bad1-4da6-a805-18ef8aa6a109",
   "metadata": {},
   "outputs": [],
   "source": [
    "ref_agent = TetrisModel(piece_dim=piece_dim,\n",
    "                        key_dim=key_dim,\n",
    "                        depth=depth,\n",
    "                        num_heads=4,\n",
    "                        num_layers=4,\n",
    "                        max_length=max_len,\n",
    "                        out_dim=key_dim)"
   ]
  },
  {
   "cell_type": "code",
   "execution_count": null,
   "id": "28f337c3-e3ca-4d56-88a4-37034f18287c",
   "metadata": {},
   "outputs": [],
   "source": [
    "logits, piece_scores, key_scores = ref_agent((tf.random.uniform((1, 28, 10, 1)),\n",
    "                                              tf.random.uniform((1, 7), minval=0, maxval=8, dtype=tf.int32),\n",
    "                                              tf.random.uniform((1, max_len), minval=0, maxval=key_dim, dtype=tf.int32)), return_scores=True)\n",
    "tf.shape(logits), tf.shape(piece_scores), tf.shape(key_scores)"
   ]
  },
  {
   "cell_type": "code",
   "execution_count": null,
   "id": "84d64bd0-cbd4-4819-b458-963a0e4b33bb",
   "metadata": {},
   "outputs": [],
   "source": [
    "ref_agent.load_weights('agent_weights_small/agent_finetuned_1803')"
   ]
  },
  {
   "cell_type": "code",
   "execution_count": null,
   "id": "fca78dde-149a-4878-a274-0d3e48cc46ff",
   "metadata": {},
   "outputs": [],
   "source": [
    "# epochs = 10"
   ]
  },
  {
   "cell_type": "code",
   "execution_count": null,
   "id": "69a201c9-b2bd-4372-8233-604acf9c2e58",
   "metadata": {},
   "outputs": [],
   "source": [
    "# actor_losses, critic_losses, accs = pretrainer.train(agent, critic, gt_dset, epochs)"
   ]
  },
  {
   "cell_type": "code",
   "execution_count": null,
   "id": "3b46352d-ba40-408c-a269-e9f72a85d410",
   "metadata": {},
   "outputs": [],
   "source": [
    "# plt.plot(actor_losses)\n",
    "# plt.plot(critic_losses)\n",
    "# plt.plot(accs)"
   ]
  },
  {
   "cell_type": "code",
   "execution_count": null,
   "id": "31dfd085-4b1f-4f7b-9eeb-c489a5e061fd",
   "metadata": {},
   "outputs": [],
   "source": [
    "# if 'y' in input('YOU SURE?????'):\n",
    "#     agent.save_weights('agent_weights_small/agent')\n",
    "#     critic.save_weights('critic_weights_small/critic')"
   ]
  },
  {
   "cell_type": "code",
   "execution_count": null,
   "id": "c4de19b9-6807-456e-8fae-4e7809e2c094",
   "metadata": {},
   "outputs": [],
   "source": [
    "%matplotlib qt"
   ]
  },
  {
   "cell_type": "code",
   "execution_count": null,
   "id": "54251d5e-959b-44d0-a390-e07bd721f3e6",
   "metadata": {},
   "outputs": [],
   "source": [
    "trainer = Trainer(agent=agent,\n",
    "                  critic=critic,\n",
    "                  ref_model=ref_agent,\n",
    "                  max_len=max_len,\n",
    "                  gamma=gamma,\n",
    "                  lam=lam,\n",
    "                  temperature=temperature,\n",
    "                  max_episode_steps=100,\n",
    "                  buffer_cap=1000)"
   ]
  },
  {
   "cell_type": "code",
   "execution_count": null,
   "id": "de9c0d5b-64c3-45eb-bb30-aad98833f7f9",
   "metadata": {},
   "outputs": [],
   "source": [
    "trainer.fill_replay_buffer()"
   ]
  },
  {
   "cell_type": "code",
   "execution_count": null,
   "id": "39b4f4e4-2ce5-4bd4-8e9d-930426e4a60d",
   "metadata": {
    "scrolled": true
   },
   "outputs": [],
   "source": [
    "while True:\n",
    "    trainer.train(gens=100, train_steps=10, training_actor=True)\n",
    "    agent.save_weights(f'agent_weights_small/agent_finetuned_{trainer.wandb_run.step}')\n",
    "    critic.save_weights(f'critic_weights_small/critic_finetuned_{trainer.wandb_run.step}')"
   ]
  },
  {
   "cell_type": "code",
   "execution_count": 56,
   "id": "cac6025f-b73f-4fe5-a091-4b324afdd72b",
   "metadata": {},
   "outputs": [
    {
     "name": "stdin",
     "output_type": "stream",
     "text": [
      "YOU SURE????? y\n"
     ]
    },
    {
     "data": {
      "text/plain": [
       "254"
      ]
     },
     "execution_count": 56,
     "metadata": {},
     "output_type": "execute_result"
    }
   ],
   "source": [
    "if 'y' in input('YOU SURE?????'):\n",
    "    agent.save_weights(f'agent_weights_small/agent_finetuned_{trainer.wandb_run.step}')\n",
    "    critic.save_weights(f'critic_weights_small/critic_finetuned_{trainer.wandb_run.step}')\n",
    "trainer.wandb_run.step\n",
    "    # symbolic_weights = getattr(agent.optimizer, 'weights')\n",
    "    # weight_values = K.batch_get_value(symbolic_weights)\n",
    "    # with open('agent_weights_small/optimizer.pkl', 'wb') as f:\n",
    "    #     pickle.dump(weight_values, f)"
   ]
  },
  {
   "cell_type": "code",
   "execution_count": 42,
   "id": "3c04c14f-8671-4168-8eb3-f10747e66ace",
   "metadata": {},
   "outputs": [],
   "source": [
    "episode_data = trainer.player.run_episode(agent, critic, max_steps=100, greedy=False, renderer=trainer.renderer)"
   ]
  },
  {
   "cell_type": "code",
   "execution_count": 43,
   "id": "f7e2f169-5696-4f82-940a-d577891ea542",
   "metadata": {},
   "outputs": [],
   "source": [
    "episode_boards, episode_pieces, episode_inputs, episode_probs, episode_values, episode_rewards = episode_data"
   ]
  },
  {
   "cell_type": "code",
   "execution_count": 44,
   "id": "f72f64fa-a6f0-4c69-ada5-2cc805c05006",
   "metadata": {},
   "outputs": [],
   "source": [
    "episode_advantages, episode_returns = trainer._compute_gae(episode_values, episode_rewards, trainer.gamma, trainer.lam)"
   ]
  },
  {
   "cell_type": "code",
   "execution_count": 48,
   "id": "e94791d9-14a5-42a2-bdd5-325e70a72614",
   "metadata": {},
   "outputs": [
    {
     "data": {
      "text/plain": [
       "<tf.Tensor: shape=(), dtype=float32, numpy=9.999999>"
      ]
     },
     "execution_count": 48,
     "metadata": {},
     "output_type": "execute_result"
    }
   ],
   "source": [
    "fig, ax = plt.subplots()\n",
    "ax.plot(episode_returns, label='Returns')\n",
    "ax.plot(episode_values, label='Values')\n",
    "ax.legend()\n",
    "tf.reduce_sum(episode_rewards)"
   ]
  },
  {
   "cell_type": "code",
   "execution_count": 49,
   "id": "1c5260fb-9eae-4bbf-8273-6fb97c3f2fe4",
   "metadata": {},
   "outputs": [
    {
     "data": {
      "text/plain": [
       "<matplotlib.legend.Legend at 0x25e44a32ca0>"
      ]
     },
     "execution_count": 49,
     "metadata": {},
     "output_type": "execute_result"
    }
   ],
   "source": [
    "fig, ax = plt.subplots()\n",
    "ax.plot(episode_rewards, label='Rewards')\n",
    "ax.plot(episode_advantages, label='Advantages')\n",
    "ax.legend()"
   ]
  },
  {
   "cell_type": "code",
   "execution_count": 44,
   "id": "2c4aef1d-88d5-4449-93e6-85675fa3912e",
   "metadata": {},
   "outputs": [],
   "source": [
    "import numpy as np"
   ]
  },
  {
   "cell_type": "code",
   "execution_count": 59,
   "id": "cc1da641-aa10-492a-b65e-4e0dd90ce548",
   "metadata": {},
   "outputs": [],
   "source": [
    "board = tf.cast(np.load('tki.npy'), tf.float32)[None, ..., None]"
   ]
  },
  {
   "cell_type": "code",
   "execution_count": 60,
   "id": "25db8392-4a7e-4684-bc8a-5c466fe93b27",
   "metadata": {},
   "outputs": [],
   "source": [
    "queue = tf.constant([[2, 0, 1, 4, 3, 7, 6]])"
   ]
  },
  {
   "cell_type": "code",
   "execution_count": 77,
   "id": "547c18e4-15d5-480b-ae34-636b69b6442b",
   "metadata": {},
   "outputs": [],
   "source": [
    "inp_seq = tf.constant([[11, 4, 6, 5, 6]])"
   ]
  },
  {
   "cell_type": "code",
   "execution_count": 79,
   "id": "5f05ac77-5054-457f-a53e-8b2dd6552227",
   "metadata": {},
   "outputs": [
    {
     "data": {
      "text/plain": [
       "<tf.Tensor: shape=(1, 5), dtype=int64, numpy=array([[4, 6, 5, 6, 8]], dtype=int64)>"
      ]
     },
     "execution_count": 79,
     "metadata": {},
     "output_type": "execute_result"
    }
   ],
   "source": [
    "tf.argmax(agent((board, queue, inp_seq), training=False), axis=-1)"
   ]
  },
  {
   "cell_type": "code",
   "execution_count": 95,
   "id": "17855505-c5f1-4f22-af10-3d452fcc7828",
   "metadata": {},
   "outputs": [],
   "source": [
    "fig, ax = plt.subplots()"
   ]
  },
  {
   "cell_type": "code",
   "execution_count": 88,
   "id": "24710044-73a7-4bd1-896f-56089ab4debe",
   "metadata": {},
   "outputs": [],
   "source": [
    "first_conv = tf.reduce_mean(agent.feature_extraction.layers[0](board), axis=-1)[0]\n",
    "first_conv = (first_conv - tf.reduce_min(first_conv)) / (tf.reduce_max(first_conv) - tf.reduce_min(first_conv))"
   ]
  },
  {
   "cell_type": "code",
   "execution_count": 93,
   "id": "7e7419c3-b03c-46cb-9c34-9b542bebcc34",
   "metadata": {},
   "outputs": [],
   "source": [
    "first_conv = np.array(first_conv)"
   ]
  },
  {
   "cell_type": "code",
   "execution_count": 96,
   "id": "cafe074e-1a2e-4126-8cbf-7b1cc27752e3",
   "metadata": {},
   "outputs": [
    {
     "data": {
      "text/plain": [
       "<matplotlib.image.AxesImage at 0x156f40bfac0>"
      ]
     },
     "execution_count": 96,
     "metadata": {},
     "output_type": "execute_result"
    }
   ],
   "source": [
    "ax.imshow(first_conv)"
   ]
  },
  {
   "cell_type": "code",
   "execution_count": 97,
   "id": "1253a14f-1eb4-4c0c-bb09-db80f8f3e47c",
   "metadata": {},
   "outputs": [],
   "source": [
    "np.save('conv1', first_conv)"
   ]
  },
  {
   "cell_type": "code",
   "execution_count": 98,
   "id": "c7530a88-6c4d-40cd-940f-ceed880a8f2c",
   "metadata": {},
   "outputs": [],
   "source": [
    "second_conv = tf.reduce_mean(agent.feature_extraction.layers[1](agent.feature_extraction.layers[0](board)), axis=-1)[0]\n",
    "second_conv = (second_conv - tf.reduce_min(second_conv)) / (tf.reduce_max(second_conv) - tf.reduce_min(second_conv))"
   ]
  },
  {
   "cell_type": "code",
   "execution_count": 100,
   "id": "391c21f1-2ea5-4e40-9bd5-65afbfc89fc0",
   "metadata": {},
   "outputs": [
    {
     "data": {
      "text/plain": [
       "<matplotlib.image.AxesImage at 0x156f4350340>"
      ]
     },
     "execution_count": 100,
     "metadata": {},
     "output_type": "execute_result"
    }
   ],
   "source": [
    "ax.imshow(second_conv)"
   ]
  },
  {
   "cell_type": "code",
   "execution_count": 101,
   "id": "bd97c19c-2489-492f-9936-69f70cc8ced2",
   "metadata": {},
   "outputs": [],
   "source": [
    "np.save('conv2', second_conv)"
   ]
  },
  {
   "cell_type": "code",
   "execution_count": 102,
   "id": "ae9646c6-9bd1-4021-83a6-7ca4bb91eedd",
   "metadata": {},
   "outputs": [],
   "source": [
    "third_conv = tf.reduce_mean(agent.feature_extraction.layers[2](agent.feature_extraction.layers[1](agent.feature_extraction.layers[0](board))), axis=-1)[0]\n",
    "third_conv = (third_conv - tf.reduce_min(third_conv)) / (tf.reduce_max(third_conv) - tf.reduce_min(third_conv))"
   ]
  },
  {
   "cell_type": "code",
   "execution_count": 103,
   "id": "d86944bc-8a24-4a67-bda7-3e7c802e8962",
   "metadata": {},
   "outputs": [
    {
     "data": {
      "text/plain": [
       "<matplotlib.image.AxesImage at 0x156f43672b0>"
      ]
     },
     "execution_count": 103,
     "metadata": {},
     "output_type": "execute_result"
    }
   ],
   "source": [
    "ax.imshow(third_conv)"
   ]
  },
  {
   "cell_type": "code",
   "execution_count": 104,
   "id": "9d85d764-0f8c-470d-99cf-41e617e6c170",
   "metadata": {},
   "outputs": [],
   "source": [
    "np.save('conv3', third_conv)"
   ]
  },
  {
   "cell_type": "code",
   "execution_count": null,
   "id": "7335fe32-e3c5-47f8-a021-247fa95ee2c5",
   "metadata": {},
   "outputs": [],
   "source": []
  }
 ],
 "metadata": {
  "kernelspec": {
   "display_name": "Python 3 (ipykernel)",
   "language": "python",
   "name": "python3"
  },
  "language_info": {
   "codemirror_mode": {
    "name": "ipython",
    "version": 3
   },
   "file_extension": ".py",
   "mimetype": "text/x-python",
   "name": "python",
   "nbconvert_exporter": "python",
   "pygments_lexer": "ipython3",
   "version": "3.9.18"
  }
 },
 "nbformat": 4,
 "nbformat_minor": 5
}
